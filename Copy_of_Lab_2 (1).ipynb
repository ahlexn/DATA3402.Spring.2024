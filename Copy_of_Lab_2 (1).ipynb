{
  "cells": [
    {
      "cell_type": "markdown",
      "metadata": {
        "id": "8hbyz1ZD9O_J"
      },
      "source": [
        "## Lab 2- Tic Tac Toe\n",
        "\n",
        "In this lab your will build a n x n Tic Tac Toe game. As you do the exercises, make sure your solutions work for any size Tic Tac Toe game."
      ]
    },
    {
      "cell_type": "markdown",
      "metadata": {
        "id": "fRhUAvQz9O_K"
      },
      "source": [
        "*Exercise 1:* Write a function that creates an n by n matrix (of list of lists) which will represent the state of a Tie Tac Toe game. Let 0, 1, and 2 represent empty, \"X\", and \"O\", respectively.\n"
      ]
    },
    {
      "cell_type": "code",
      "execution_count": null,
      "metadata": {
        "collapsed": true,
        "id": "0AliTbLZ9O_K"
      },
      "outputs": [],
      "source": [
        "# Write you solution here\n",
        "def tic_tac_toe_board(n):\n",
        "  if n < 1:\n",
        "    print(ValueError('Board must be at least 1x1'))\n",
        "\n",
        "  board = [[0 for i in range(n)] for i in range(n)]\n",
        "\n",
        "  return board\n"
      ]
    },
    {
      "cell_type": "code",
      "execution_count": null,
      "metadata": {
        "collapsed": true,
        "id": "u-r1OieH9O_L",
        "outputId": "e64fd2ba-66e2-49e4-adbe-b25923d0f418",
        "colab": {
          "base_uri": "https://localhost:8080/"
        }
      },
      "outputs": [
        {
          "output_type": "stream",
          "name": "stdout",
          "text": [
            "[[0, 0, 0], [0, 0, 0], [0, 0, 0]]\n"
          ]
        }
      ],
      "source": [
        "# Test your solution here\n",
        "print(tic_tac_toe_board(3))\n"
      ]
    },
    {
      "cell_type": "markdown",
      "metadata": {
        "id": "w3tu5ZxS9O_L"
      },
      "source": [
        "*Exercise 2:* Write a function that takes 2 integers `n` and `m` as input and draws a `n` by `m` game board. For example the following is a 3x3 board:\n",
        "```\n",
        "   --- --- ---\n",
        "  |   |   |   |\n",
        "   --- --- ---  \n",
        "  |   |   |   |\n",
        "   --- --- ---  \n",
        "  |   |   |   |\n",
        "   --- --- ---\n",
        "   ```"
      ]
    },
    {
      "cell_type": "code",
      "execution_count": 35,
      "metadata": {
        "collapsed": true,
        "id": "2RyFGopzOpCf"
      },
      "outputs": [],
      "source": [
        "# Write you solution here\n",
        "def tic_tac_toe_board(n):\n",
        "    if n < 1:\n",
        "        print(ValueError('Board dimensions must be at least 1x1'))\n",
        "\n",
        "    board = [[' ' for _ in range(n)] for _ in range(n)]\n",
        "    return board"
      ]
    },
    {
      "cell_type": "code",
      "execution_count": 36,
      "metadata": {
        "collapsed": true,
        "id": "go1MjURM9O_L",
        "outputId": "47b08da5-0c67-4994-ec17-ab1b0ad11f86",
        "colab": {
          "base_uri": "https://localhost:8080/"
        }
      },
      "outputs": [
        {
          "output_type": "stream",
          "name": "stdout",
          "text": [
            "[[' ', ' ', ' ', ' '], [' ', ' ', ' ', ' '], [' ', ' ', ' ', ' '], [' ', ' ', ' ', ' ']]\n"
          ]
        }
      ],
      "source": [
        "# Test your solution here\n",
        "print(tic_tac_toe_board(4))"
      ]
    },
    {
      "cell_type": "markdown",
      "metadata": {
        "id": "-uSrymrR9O_L"
      },
      "source": [
        "*Exercise 3:* Modify exercise 2, so that it takes a matrix of the form from exercise 1 and draws a tic-tac-tie board with \"X\"s and \"O\"s.  "
      ]
    },
    {
      "cell_type": "code",
      "execution_count": 29,
      "metadata": {
        "collapsed": true,
        "id": "77mp4UWe9O_M"
      },
      "outputs": [],
      "source": [
        "# Write you solution here\n",
        "def tic_tac_toe_board(n):\n",
        "    if n < 1:\n",
        "        print (ValueError('Board dimensions must be at least 1x1'))\n",
        "\n",
        "    board = [[' ' for _ in range(n)] for _ in range(n)]\n",
        "    return board"
      ]
    },
    {
      "cell_type": "code",
      "execution_count": 37,
      "metadata": {
        "id": "z-4PSlo79O_M",
        "outputId": "0be7560d-64d5-44ae-f19d-bb814c273f0c",
        "colab": {
          "base_uri": "https://localhost:8080/"
        }
      },
      "outputs": [
        {
          "output_type": "stream",
          "name": "stdout",
          "text": [
            "[[' ', ' ', ' '], [' ', ' ', ' '], [' ', ' ', ' ']]\n"
          ]
        }
      ],
      "source": [
        "# Test your solution here\n",
        "print(tic_tac_toe_board(3))"
      ]
    },
    {
      "cell_type": "markdown",
      "metadata": {
        "id": "auG_mrAF9O_M"
      },
      "source": [
        "*Exercise 4:* Write a function that takes a `n` by `n` matrix representing a tic-tac-toe game, and returns -1, 0, 1, or 2 indicating the game is incomplete, the game is a draw, player 1 has won, or player 2 has one, respectively. Here are some example inputs you can use to test your code:"
      ]
    },
    {
      "cell_type": "code",
      "execution_count": 5,
      "metadata": {
        "collapsed": true,
        "id": "lovVwk9U9O_M"
      },
      "outputs": [],
      "source": [
        "# Write you solution here\n",
        "def check_tic_tac_toe(board):\n",
        "  n = len(board)\n",
        "\n",
        "  def check_win(board_list):\n",
        "    for i in range(n):\n",
        "      if board_list[i][0] == board_list[i][1] == board_list[i][2] != 0:\n",
        "        return board_list[i][0]\n",
        "      if board_list[0][i] == board_list[1][i] == board_list[2][i] != 0:\n",
        "        return board_list[0][i]\n",
        "    if board_list[0][0] == board_list[1][1] == board_list[2][2] != 0 or board_list[0][2] == board_list[1][1] == board_list[2][0] != 0:\n",
        "      return board_list[0][0]\n",
        "    return 0\n",
        "\n",
        "  board_list = []\n",
        "  for i in range(n):\n",
        "    board_list.append(board[i])\n",
        "\n",
        "  return check_win(board_list)"
      ]
    },
    {
      "cell_type": "code",
      "execution_count": 6,
      "metadata": {
        "id": "RFIjnNEx9O_M",
        "outputId": "81ce0c0f-6dd2-457b-ac95-af06c913db42",
        "colab": {
          "base_uri": "https://localhost:8080/"
        }
      },
      "outputs": [
        {
          "output_type": "stream",
          "name": "stdout",
          "text": [
            "0\n"
          ]
        }
      ],
      "source": [
        "# Test your solution here\n",
        "winner_is_2 = [[2, 2, 0],\n",
        "\t[2, 1, 0],\n",
        "\t[2, 1, 1]]\n",
        "\n",
        "winner_is_1 = [[1, 2, 0],\n",
        "\t[2, 1, 0],\n",
        "\t[2, 1, 1]]\n",
        "\n",
        "winner_is_also_1 = [[0, 1, 0],\n",
        "\t[2, 1, 0],\n",
        "\t[2, 1, 1]]\n",
        "\n",
        "no_winner = [[1, 2, 0],\n",
        "\t[2, 1, 0],\n",
        "\t[2, 1, 2]]\n",
        "\n",
        "also_no_winner = [[1, 2, 0],\n",
        "\t[2, 1, 0],\n",
        "\t[2, 1, 0]]\n",
        "\n",
        "print(check_tic_tac_toe(no_winner))"
      ]
    },
    {
      "cell_type": "code",
      "execution_count": null,
      "metadata": {
        "collapsed": true,
        "id": "BwOwCnR09O_M"
      },
      "outputs": [],
      "source": [
        "winner_is_2 = [[2, 2, 0],\n",
        "\t[2, 1, 0],\n",
        "\t[2, 1, 1]]\n",
        "\n",
        "winner_is_1 = [[1, 2, 0],\n",
        "\t[2, 1, 0],\n",
        "\t[2, 1, 1]]\n",
        "\n",
        "winner_is_also_1 = [[0, 1, 0],\n",
        "\t[2, 1, 0],\n",
        "\t[2, 1, 1]]\n",
        "\n",
        "no_winner = [[1, 2, 0],\n",
        "\t[2, 1, 0],\n",
        "\t[2, 1, 2]]\n",
        "\n",
        "also_no_winner = [[1, 2, 0],\n",
        "\t[2, 1, 0],\n",
        "\t[2, 1, 0]]"
      ]
    },
    {
      "cell_type": "markdown",
      "metadata": {
        "id": "jWC9VH5y9O_M"
      },
      "source": [
        "*Exercise 5:* Write a function that takes a game board, player number, and `(x,y)` coordinates and places \"X\" or \"O\" in the correct location of the game board. Make sure that you only allow filling previously empty locations. Return `True` or `False` to indicate successful placement of \"X\" or \"O\"."
      ]
    },
    {
      "cell_type": "code",
      "execution_count": 62,
      "metadata": {
        "collapsed": true,
        "id": "9rjoysCC9O_M"
      },
      "outputs": [],
      "source": [
        "# Write you solution here\n",
        "def make_move(board, player_num, x, y):\n",
        "  if board[x][y] == player_num:\n",
        "    return False\n",
        "\n",
        "  board[x][y] = player_num\n",
        "  print(board)\n",
        "  return True"
      ]
    },
    {
      "cell_type": "code",
      "execution_count": 63,
      "metadata": {
        "collapsed": true,
        "id": "BKOOWZha9O_N",
        "colab": {
          "base_uri": "https://localhost:8080/"
        },
        "outputId": "7f869e1f-5dc2-4ef4-d0fd-c24d7de18384"
      },
      "outputs": [
        {
          "output_type": "stream",
          "name": "stdout",
          "text": [
            "[[2, 2, 1], [2, 1, 0], [2, 1, 1]]\n"
          ]
        },
        {
          "output_type": "execute_result",
          "data": {
            "text/plain": [
              "True"
            ]
          },
          "metadata": {},
          "execution_count": 63
        }
      ],
      "source": [
        "# Test your solution here\n",
        "make_move([[2, 2, 0],\n",
        "\t[2, 1, 0],\n",
        "\t[2, 1, 1]], 1, 0, 2)"
      ]
    },
    {
      "cell_type": "markdown",
      "metadata": {
        "id": "y7ep-Jl89O_N"
      },
      "source": [
        "*Exercise 6:* Modify Exercise 4 to show column and row labels so that players can specify location using \"A2\" or \"C1\"."
      ]
    },
    {
      "cell_type": "code",
      "execution_count": 68,
      "metadata": {
        "collapsed": true,
        "id": "3LI1_ahp9O_N"
      },
      "outputs": [],
      "source": [
        "# Write you solution here\n",
        "def show_labels(board):\n",
        "  n = len(board)\n",
        "\n",
        "  for r in range(n):\n",
        "    for c in range(n):\n",
        "      label = f\"{chr(65 + r)}{c + 1}\"\n",
        "      board[r][c] = label\n",
        "\n",
        "  print(board)"
      ]
    },
    {
      "cell_type": "code",
      "execution_count": 70,
      "metadata": {
        "collapsed": true,
        "id": "TDkzkCSp9O_N",
        "colab": {
          "base_uri": "https://localhost:8080/"
        },
        "outputId": "cc8d1d26-6203-47e8-fec8-f2d45774de67"
      },
      "outputs": [
        {
          "output_type": "stream",
          "name": "stdout",
          "text": [
            "[['A1', 'A2', 'A3'], ['B1', 'B2', 'B3'], ['C1', 'C2', 'C3']]\n"
          ]
        }
      ],
      "source": [
        "# Test your solution here\n",
        "show_labels([[1, 2, 0],\n",
        "\t[2, 1, 0],\n",
        "\t[2, 1, 0]])"
      ]
    },
    {
      "cell_type": "markdown",
      "metadata": {
        "id": "PhSvaFj59O_N"
      },
      "source": [
        "*Exercise 7:* Write a function that takes a board, player number, and location specified as in exercise 6 and then calls exercise 5 to correctly modify the board.  "
      ]
    },
    {
      "cell_type": "code",
      "execution_count": 91,
      "metadata": {
        "collapsed": true,
        "id": "UiW3fbKs9O_N"
      },
      "outputs": [],
      "source": [
        "# Write you solution here\n",
        "def new_show_labels(board, player_num, location):\n",
        "  n = len(board)\n",
        "\n",
        "  x = ord(location[0]) - ord('A')\n",
        "  y = int(location[1]) - 1\n",
        "  print(board)\n",
        "  make_move(board, player_num, x, y)\n",
        "  return True"
      ]
    },
    {
      "cell_type": "code",
      "execution_count": 92,
      "metadata": {
        "collapsed": true,
        "id": "x6JN_g929O_N",
        "colab": {
          "base_uri": "https://localhost:8080/"
        },
        "outputId": "c96539e3-3c7d-469f-b54c-9ef732c3f82d"
      },
      "outputs": [
        {
          "output_type": "stream",
          "name": "stdout",
          "text": [
            "[['A1', 'A2', 'A3'], ['B1', 'B2', 'B3'], ['C1', 'C2', 'C3']]\n",
            "[['A1', 1, 'A3'], ['B1', 'B2', 'B3'], ['C1', 'C2', 'C3']]\n"
          ]
        },
        {
          "output_type": "execute_result",
          "data": {
            "text/plain": [
              "True"
            ]
          },
          "metadata": {},
          "execution_count": 92
        }
      ],
      "source": [
        "# Test your solution here\n",
        "new_show_labels([['A1', 'A2', 'A3'], ['B1', 'B2', 'B3'], ['C1', 'C2', 'C3']], 1, 'A2')"
      ]
    },
    {
      "cell_type": "markdown",
      "metadata": {
        "id": "JRvBXLTs9O_N"
      },
      "source": [
        "*Exercise 8:* Write a function is called with a board and player number, takes input from the player using python's `input`, and modifies the board using your function from exercise 7. Note that you should keep asking for input until you have gotten a valid input that results in a valid move."
      ]
    },
    {
      "cell_type": "code",
      "execution_count": 101,
      "metadata": {
        "collapsed": true,
        "id": "T0nRSwhM9O_N"
      },
      "outputs": [],
      "source": [
        "# Write you solution here\n",
        "def user_input_move(board, player_num):\n",
        "  n = len(board)\n",
        "\n",
        "  while True:\n",
        "    location = input(\"Enter a move: \")\n",
        "    if len(location) == 2 and location[0] in \"ABCDEFGHIJKLMNOPQRSTUVWXYZ\" and location[1] in \"1234567890\":\n",
        "      break\n",
        "\n",
        "  x, y = ord(location[0]) - ord('A'), int(location[1]) - 1\n",
        "  make_move(board, player_num, x, y)\n",
        "\n",
        "  return True"
      ]
    },
    {
      "cell_type": "code",
      "execution_count": 103,
      "metadata": {
        "collapsed": true,
        "id": "2smAQEt39O_N",
        "colab": {
          "base_uri": "https://localhost:8080/"
        },
        "outputId": "8ade1f44-cd9f-4d5a-9c26-e5c1e3fd9727"
      },
      "outputs": [
        {
          "output_type": "stream",
          "name": "stdout",
          "text": [
            "Enter a move: A1\n",
            "[[1, 'A2', 'A3'], ['B1', 'B2', 'B3'], ['C1', 'C2', 'C3']]\n"
          ]
        },
        {
          "output_type": "execute_result",
          "data": {
            "text/plain": [
              "True"
            ]
          },
          "metadata": {},
          "execution_count": 103
        }
      ],
      "source": [
        "# Test your solution here\n",
        "user_input_move([['A1', 'A2', 'A3'], ['B1', 'B2', 'B3'], ['C1', 'C2', 'C3']], 1)"
      ]
    },
    {
      "cell_type": "markdown",
      "metadata": {
        "id": "SiHhPSZc9O_N"
      },
      "source": [
        "*Exercise 9:* Use all of the previous exercises to implement a full tic-tac-toe game, where an appropriate board is drawn, 2 players are repeatedly asked for a location coordinates of where they wish to place a mark, and the game status is checked until a player wins or a draw occurs."
      ]
    },
    {
      "cell_type": "code",
      "execution_count": null,
      "metadata": {
        "collapsed": true,
        "id": "7xwQhG5h9O_O"
      },
      "outputs": [],
      "source": [
        "|# Write you solution here\n"
      ]
    },
    {
      "cell_type": "code",
      "execution_count": null,
      "metadata": {
        "collapsed": true,
        "id": "uuLmcENW9O_O"
      },
      "outputs": [],
      "source": [
        "# Test your solution here"
      ]
    },
    {
      "cell_type": "markdown",
      "metadata": {
        "id": "7weQNGIQ9O_O"
      },
      "source": [
        "*Exercise 10:* Test that your game works for 5x5 Tic Tac Toe.  "
      ]
    },
    {
      "cell_type": "code",
      "execution_count": null,
      "metadata": {
        "collapsed": true,
        "id": "p27HEec49O_O"
      },
      "outputs": [],
      "source": [
        "# Test your solution here"
      ]
    },
    {
      "cell_type": "markdown",
      "metadata": {
        "id": "CYueqY1Z9O_O"
      },
      "source": [
        "*Exercise 11:* (Advanced / Challenge) Develop a version of the game where one player is the computer. Note that you don't need to do an extensive seach for the best move. You can have the computer simply protect against loosing and otherwise try to win with straight or diagonal patterns."
      ]
    },
    {
      "cell_type": "code",
      "execution_count": null,
      "metadata": {
        "collapsed": true,
        "id": "6f91FF6T9O_O"
      },
      "outputs": [],
      "source": [
        "# Write you solution here"
      ]
    },
    {
      "cell_type": "code",
      "execution_count": null,
      "metadata": {
        "collapsed": true,
        "id": "1wv-wjK19O_O"
      },
      "outputs": [],
      "source": [
        "# Test your solution here"
      ]
    }
  ],
  "metadata": {
    "kernelspec": {
      "display_name": "Python 3 (ipykernel)",
      "language": "python",
      "name": "python3"
    },
    "language_info": {
      "codemirror_mode": {
        "name": "ipython",
        "version": 3
      },
      "file_extension": ".py",
      "mimetype": "text/x-python",
      "name": "python",
      "nbconvert_exporter": "python",
      "pygments_lexer": "ipython3",
      "version": "3.9.6"
    },
    "colab": {
      "provenance": []
    }
  },
  "nbformat": 4,
  "nbformat_minor": 0
}