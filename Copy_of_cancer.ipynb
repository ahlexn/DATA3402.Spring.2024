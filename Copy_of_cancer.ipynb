{
  "metadata": {
    "kernelspec": {
      "language": "python",
      "display_name": "Python 3",
      "name": "python3"
    },
    "language_info": {
      "name": "python",
      "version": "3.10.13",
      "mimetype": "text/x-python",
      "codemirror_mode": {
        "name": "ipython",
        "version": 3
      },
      "pygments_lexer": "ipython3",
      "nbconvert_exporter": "python",
      "file_extension": ".py"
    },
    "kaggle": {
      "accelerator": "none",
      "dataSources": [
        {
          "sourceId": 8296270,
          "sourceType": "datasetVersion",
          "datasetId": 4928092
        }
      ],
      "dockerImageVersionId": 30698,
      "isInternetEnabled": false,
      "language": "python",
      "sourceType": "notebook",
      "isGpuEnabled": false
    },
    "colab": {
      "provenance": [],
      "include_colab_link": true
    },
    "widgets": {
      "application/vnd.jupyter.widget-state+json": {
        "f22ba9eae61e4b72b9dc58b62ad4191a": {
          "model_module": "@jupyter-widgets/controls",
          "model_name": "VBoxModel",
          "model_module_version": "1.5.0",
          "state": {
            "_dom_classes": [
              "widget-interact"
            ],
            "_model_module": "@jupyter-widgets/controls",
            "_model_module_version": "1.5.0",
            "_model_name": "VBoxModel",
            "_view_count": null,
            "_view_module": "@jupyter-widgets/controls",
            "_view_module_version": "1.5.0",
            "_view_name": "VBoxView",
            "box_style": "",
            "children": [
              "IPY_MODEL_78488a5893d649e0be03bc4f10c8920c",
              "IPY_MODEL_7717cf703de84f6080639837e1fe8517"
            ],
            "layout": "IPY_MODEL_f0d2e2741dbb4a1d9f12d273974406ed"
          }
        },
        "78488a5893d649e0be03bc4f10c8920c": {
          "model_module": "@jupyter-widgets/controls",
          "model_name": "DropdownModel",
          "model_module_version": "1.5.0",
          "state": {
            "_dom_classes": [],
            "_model_module": "@jupyter-widgets/controls",
            "_model_module_version": "1.5.0",
            "_model_name": "DropdownModel",
            "_options_labels": [
              "patient_race",
              "payer_type",
              "patient_state",
              "patient_gender",
              "breast_cancer_diagnosis_code",
              "breast_cancer_diagnosis_desc",
              "metastatic_cancer_diagnosis_code",
              "metastatic_first_novel_treatment",
              "metastatic_first_novel_treatment_type",
              "Region",
              "Division"
            ],
            "_view_count": null,
            "_view_module": "@jupyter-widgets/controls",
            "_view_module_version": "1.5.0",
            "_view_name": "DropdownView",
            "description": "Categorical Variable:",
            "description_tooltip": null,
            "disabled": false,
            "index": 0,
            "layout": "IPY_MODEL_7712dc2230dd43bfaaeb584ed62e5ea8",
            "style": "IPY_MODEL_fde864ac418741afa6fffe7eac4f1788"
          }
        },
        "7717cf703de84f6080639837e1fe8517": {
          "model_module": "@jupyter-widgets/output",
          "model_name": "OutputModel",
          "model_module_version": "1.0.0",
          "state": {
            "_dom_classes": [],
            "_model_module": "@jupyter-widgets/output",
            "_model_module_version": "1.0.0",
            "_model_name": "OutputModel",
            "_view_count": null,
            "_view_module": "@jupyter-widgets/output",
            "_view_module_version": "1.0.0",
            "_view_name": "OutputView",
            "layout": "IPY_MODEL_54556dd9a3ac41de845f96decfb1e23b",
            "msg_id": "",
            "outputs": []
          }
        },
        "f0d2e2741dbb4a1d9f12d273974406ed": {
          "model_module": "@jupyter-widgets/base",
          "model_name": "LayoutModel",
          "model_module_version": "1.2.0",
          "state": {
            "_model_module": "@jupyter-widgets/base",
            "_model_module_version": "1.2.0",
            "_model_name": "LayoutModel",
            "_view_count": null,
            "_view_module": "@jupyter-widgets/base",
            "_view_module_version": "1.2.0",
            "_view_name": "LayoutView",
            "align_content": null,
            "align_items": null,
            "align_self": null,
            "border": null,
            "bottom": null,
            "display": null,
            "flex": null,
            "flex_flow": null,
            "grid_area": null,
            "grid_auto_columns": null,
            "grid_auto_flow": null,
            "grid_auto_rows": null,
            "grid_column": null,
            "grid_gap": null,
            "grid_row": null,
            "grid_template_areas": null,
            "grid_template_columns": null,
            "grid_template_rows": null,
            "height": null,
            "justify_content": null,
            "justify_items": null,
            "left": null,
            "margin": null,
            "max_height": null,
            "max_width": null,
            "min_height": null,
            "min_width": null,
            "object_fit": null,
            "object_position": null,
            "order": null,
            "overflow": null,
            "overflow_x": null,
            "overflow_y": null,
            "padding": null,
            "right": null,
            "top": null,
            "visibility": null,
            "width": null
          }
        },
        "7712dc2230dd43bfaaeb584ed62e5ea8": {
          "model_module": "@jupyter-widgets/base",
          "model_name": "LayoutModel",
          "model_module_version": "1.2.0",
          "state": {
            "_model_module": "@jupyter-widgets/base",
            "_model_module_version": "1.2.0",
            "_model_name": "LayoutModel",
            "_view_count": null,
            "_view_module": "@jupyter-widgets/base",
            "_view_module_version": "1.2.0",
            "_view_name": "LayoutView",
            "align_content": null,
            "align_items": null,
            "align_self": null,
            "border": null,
            "bottom": null,
            "display": null,
            "flex": null,
            "flex_flow": null,
            "grid_area": null,
            "grid_auto_columns": null,
            "grid_auto_flow": null,
            "grid_auto_rows": null,
            "grid_column": null,
            "grid_gap": null,
            "grid_row": null,
            "grid_template_areas": null,
            "grid_template_columns": null,
            "grid_template_rows": null,
            "height": null,
            "justify_content": null,
            "justify_items": null,
            "left": null,
            "margin": null,
            "max_height": null,
            "max_width": null,
            "min_height": null,
            "min_width": null,
            "object_fit": null,
            "object_position": null,
            "order": null,
            "overflow": null,
            "overflow_x": null,
            "overflow_y": null,
            "padding": null,
            "right": null,
            "top": null,
            "visibility": null,
            "width": null
          }
        },
        "fde864ac418741afa6fffe7eac4f1788": {
          "model_module": "@jupyter-widgets/controls",
          "model_name": "DescriptionStyleModel",
          "model_module_version": "1.5.0",
          "state": {
            "_model_module": "@jupyter-widgets/controls",
            "_model_module_version": "1.5.0",
            "_model_name": "DescriptionStyleModel",
            "_view_count": null,
            "_view_module": "@jupyter-widgets/base",
            "_view_module_version": "1.2.0",
            "_view_name": "StyleView",
            "description_width": "initial"
          }
        },
        "54556dd9a3ac41de845f96decfb1e23b": {
          "model_module": "@jupyter-widgets/base",
          "model_name": "LayoutModel",
          "model_module_version": "1.2.0",
          "state": {
            "_model_module": "@jupyter-widgets/base",
            "_model_module_version": "1.2.0",
            "_model_name": "LayoutModel",
            "_view_count": null,
            "_view_module": "@jupyter-widgets/base",
            "_view_module_version": "1.2.0",
            "_view_name": "LayoutView",
            "align_content": null,
            "align_items": null,
            "align_self": null,
            "border": null,
            "bottom": null,
            "display": null,
            "flex": null,
            "flex_flow": null,
            "grid_area": null,
            "grid_auto_columns": null,
            "grid_auto_flow": null,
            "grid_auto_rows": null,
            "grid_column": null,
            "grid_gap": null,
            "grid_row": null,
            "grid_template_areas": null,
            "grid_template_columns": null,
            "grid_template_rows": null,
            "height": null,
            "justify_content": null,
            "justify_items": null,
            "left": null,
            "margin": null,
            "max_height": null,
            "max_width": null,
            "min_height": null,
            "min_width": null,
            "object_fit": null,
            "object_position": null,
            "order": null,
            "overflow": null,
            "overflow_x": null,
            "overflow_y": null,
            "padding": null,
            "right": null,
            "top": null,
            "visibility": null,
            "width": null
          }
        },
        "19cdb00bc5e44232bd59151dc2a9a19d": {
          "model_module": "@jupyter-widgets/controls",
          "model_name": "VBoxModel",
          "model_module_version": "1.5.0",
          "state": {
            "_dom_classes": [
              "widget-interact"
            ],
            "_model_module": "@jupyter-widgets/controls",
            "_model_module_version": "1.5.0",
            "_model_name": "VBoxModel",
            "_view_count": null,
            "_view_module": "@jupyter-widgets/controls",
            "_view_module_version": "1.5.0",
            "_view_name": "VBoxView",
            "box_style": "",
            "children": [
              "IPY_MODEL_87779259db944a0fb23510dc2f0828d3",
              "IPY_MODEL_1495485ad89d4c9e8ff60996bdfaecab"
            ],
            "layout": "IPY_MODEL_27e2fb50230443ccb2ddb454630f38a8"
          }
        },
        "87779259db944a0fb23510dc2f0828d3": {
          "model_module": "@jupyter-widgets/controls",
          "model_name": "DropdownModel",
          "model_module_version": "1.5.0",
          "state": {
            "_dom_classes": [],
            "_model_module": "@jupyter-widgets/controls",
            "_model_module_version": "1.5.0",
            "_model_name": "DropdownModel",
            "_options_labels": [
              "patient_id",
              "patient_zip3",
              "patient_age",
              "bmi",
              "population",
              "density",
              "age_median",
              "age_under_10",
              "age_10_to_19",
              "age_20s",
              "age_30s",
              "age_40s",
              "age_50s",
              "age_60s",
              "age_70s",
              "age_over_80",
              "male",
              "female",
              "married",
              "divorced",
              "never_married",
              "widowed",
              "family_size",
              "family_dual_income",
              "income_household_median",
              "income_household_under_5",
              "income_household_5_to_10",
              "income_household_10_to_15",
              "income_household_15_to_20",
              "income_household_20_to_25",
              "income_household_25_to_35",
              "income_household_35_to_50",
              "income_household_50_to_75",
              "income_household_75_to_100",
              "income_household_100_to_150",
              "income_household_150_over",
              "income_household_six_figure",
              "income_individual_median",
              "home_ownership",
              "housing_units",
              "home_value",
              "rent_median",
              "rent_burden",
              "education_less_highschool",
              "education_highschool",
              "education_some_college",
              "education_bachelors",
              "education_graduate",
              "education_college_or_above",
              "education_stem_degree",
              "labor_force_participation",
              "unemployment_rate",
              "self_employed",
              "farmer",
              "race_white",
              "race_black",
              "race_asian",
              "race_native",
              "race_pacific",
              "race_other",
              "race_multiple",
              "hispanic",
              "disabled",
              "poverty",
              "limited_english",
              "commute_time",
              "health_uninsured",
              "veteran",
              "Ozone",
              "PM25",
              "N02",
              "DiagPeriodL90D"
            ],
            "_view_count": null,
            "_view_module": "@jupyter-widgets/controls",
            "_view_module_version": "1.5.0",
            "_view_name": "DropdownView",
            "description": "Numerical Variable:",
            "description_tooltip": null,
            "disabled": false,
            "index": 0,
            "layout": "IPY_MODEL_529f57848d564455bbb8cddd158f8aaa",
            "style": "IPY_MODEL_84feb4ece40347dd943a4275f75e37bc"
          }
        },
        "1495485ad89d4c9e8ff60996bdfaecab": {
          "model_module": "@jupyter-widgets/output",
          "model_name": "OutputModel",
          "model_module_version": "1.0.0",
          "state": {
            "_dom_classes": [],
            "_model_module": "@jupyter-widgets/output",
            "_model_module_version": "1.0.0",
            "_model_name": "OutputModel",
            "_view_count": null,
            "_view_module": "@jupyter-widgets/output",
            "_view_module_version": "1.0.0",
            "_view_name": "OutputView",
            "layout": "IPY_MODEL_a6e3361061d7417ab5078df279d1c743",
            "msg_id": "",
            "outputs": []
          }
        },
        "27e2fb50230443ccb2ddb454630f38a8": {
          "model_module": "@jupyter-widgets/base",
          "model_name": "LayoutModel",
          "model_module_version": "1.2.0",
          "state": {
            "_model_module": "@jupyter-widgets/base",
            "_model_module_version": "1.2.0",
            "_model_name": "LayoutModel",
            "_view_count": null,
            "_view_module": "@jupyter-widgets/base",
            "_view_module_version": "1.2.0",
            "_view_name": "LayoutView",
            "align_content": null,
            "align_items": null,
            "align_self": null,
            "border": null,
            "bottom": null,
            "display": null,
            "flex": null,
            "flex_flow": null,
            "grid_area": null,
            "grid_auto_columns": null,
            "grid_auto_flow": null,
            "grid_auto_rows": null,
            "grid_column": null,
            "grid_gap": null,
            "grid_row": null,
            "grid_template_areas": null,
            "grid_template_columns": null,
            "grid_template_rows": null,
            "height": null,
            "justify_content": null,
            "justify_items": null,
            "left": null,
            "margin": null,
            "max_height": null,
            "max_width": null,
            "min_height": null,
            "min_width": null,
            "object_fit": null,
            "object_position": null,
            "order": null,
            "overflow": null,
            "overflow_x": null,
            "overflow_y": null,
            "padding": null,
            "right": null,
            "top": null,
            "visibility": null,
            "width": null
          }
        },
        "529f57848d564455bbb8cddd158f8aaa": {
          "model_module": "@jupyter-widgets/base",
          "model_name": "LayoutModel",
          "model_module_version": "1.2.0",
          "state": {
            "_model_module": "@jupyter-widgets/base",
            "_model_module_version": "1.2.0",
            "_model_name": "LayoutModel",
            "_view_count": null,
            "_view_module": "@jupyter-widgets/base",
            "_view_module_version": "1.2.0",
            "_view_name": "LayoutView",
            "align_content": null,
            "align_items": null,
            "align_self": null,
            "border": null,
            "bottom": null,
            "display": null,
            "flex": null,
            "flex_flow": null,
            "grid_area": null,
            "grid_auto_columns": null,
            "grid_auto_flow": null,
            "grid_auto_rows": null,
            "grid_column": null,
            "grid_gap": null,
            "grid_row": null,
            "grid_template_areas": null,
            "grid_template_columns": null,
            "grid_template_rows": null,
            "height": null,
            "justify_content": null,
            "justify_items": null,
            "left": null,
            "margin": null,
            "max_height": null,
            "max_width": null,
            "min_height": null,
            "min_width": null,
            "object_fit": null,
            "object_position": null,
            "order": null,
            "overflow": null,
            "overflow_x": null,
            "overflow_y": null,
            "padding": null,
            "right": null,
            "top": null,
            "visibility": null,
            "width": null
          }
        },
        "84feb4ece40347dd943a4275f75e37bc": {
          "model_module": "@jupyter-widgets/controls",
          "model_name": "DescriptionStyleModel",
          "model_module_version": "1.5.0",
          "state": {
            "_model_module": "@jupyter-widgets/controls",
            "_model_module_version": "1.5.0",
            "_model_name": "DescriptionStyleModel",
            "_view_count": null,
            "_view_module": "@jupyter-widgets/base",
            "_view_module_version": "1.2.0",
            "_view_name": "StyleView",
            "description_width": "initial"
          }
        },
        "a6e3361061d7417ab5078df279d1c743": {
          "model_module": "@jupyter-widgets/base",
          "model_name": "LayoutModel",
          "model_module_version": "1.2.0",
          "state": {
            "_model_module": "@jupyter-widgets/base",
            "_model_module_version": "1.2.0",
            "_model_name": "LayoutModel",
            "_view_count": null,
            "_view_module": "@jupyter-widgets/base",
            "_view_module_version": "1.2.0",
            "_view_name": "LayoutView",
            "align_content": null,
            "align_items": null,
            "align_self": null,
            "border": null,
            "bottom": null,
            "display": null,
            "flex": null,
            "flex_flow": null,
            "grid_area": null,
            "grid_auto_columns": null,
            "grid_auto_flow": null,
            "grid_auto_rows": null,
            "grid_column": null,
            "grid_gap": null,
            "grid_row": null,
            "grid_template_areas": null,
            "grid_template_columns": null,
            "grid_template_rows": null,
            "height": null,
            "justify_content": null,
            "justify_items": null,
            "left": null,
            "margin": null,
            "max_height": null,
            "max_width": null,
            "min_height": null,
            "min_width": null,
            "object_fit": null,
            "object_position": null,
            "order": null,
            "overflow": null,
            "overflow_x": null,
            "overflow_y": null,
            "padding": null,
            "right": null,
            "top": null,
            "visibility": null,
            "width": null
          }
        },
        "8aaa3f20554d415bbb147fd57d6030c5": {
          "model_module": "@jupyter-widgets/controls",
          "model_name": "VBoxModel",
          "model_module_version": "1.5.0",
          "state": {
            "_dom_classes": [
              "widget-interact"
            ],
            "_model_module": "@jupyter-widgets/controls",
            "_model_module_version": "1.5.0",
            "_model_name": "VBoxModel",
            "_view_count": null,
            "_view_module": "@jupyter-widgets/controls",
            "_view_module_version": "1.5.0",
            "_view_name": "VBoxView",
            "box_style": "",
            "children": [
              "IPY_MODEL_6052cbfcf5424530bbcfcc0134ee74e2",
              "IPY_MODEL_a592f03c2636475e8b3947d924eb0eae"
            ],
            "layout": "IPY_MODEL_c351fbf136a344c28bc36ddd36a3c105"
          }
        },
        "6052cbfcf5424530bbcfcc0134ee74e2": {
          "model_module": "@jupyter-widgets/controls",
          "model_name": "SelectMultipleModel",
          "model_module_version": "1.5.0",
          "state": {
            "_dom_classes": [],
            "_model_module": "@jupyter-widgets/controls",
            "_model_module_version": "1.5.0",
            "_model_name": "SelectMultipleModel",
            "_options_labels": [
              "patient_id",
              "patient_zip3",
              "patient_age",
              "bmi",
              "population",
              "density",
              "age_median",
              "age_under_10",
              "age_10_to_19",
              "age_20s",
              "age_30s",
              "age_40s",
              "age_50s",
              "age_60s",
              "age_70s",
              "age_over_80",
              "male",
              "female",
              "married",
              "divorced",
              "never_married",
              "widowed",
              "family_size",
              "family_dual_income",
              "income_household_median",
              "income_household_under_5",
              "income_household_5_to_10",
              "income_household_10_to_15",
              "income_household_15_to_20",
              "income_household_20_to_25",
              "income_household_25_to_35",
              "income_household_35_to_50",
              "income_household_50_to_75",
              "income_household_75_to_100",
              "income_household_100_to_150",
              "income_household_150_over",
              "income_household_six_figure",
              "income_individual_median",
              "home_ownership",
              "housing_units",
              "home_value",
              "rent_median",
              "rent_burden",
              "education_less_highschool",
              "education_highschool",
              "education_some_college",
              "education_bachelors",
              "education_graduate",
              "education_college_or_above",
              "education_stem_degree",
              "labor_force_participation",
              "unemployment_rate",
              "self_employed",
              "farmer",
              "race_white",
              "race_black",
              "race_asian",
              "race_native",
              "race_pacific",
              "race_other",
              "race_multiple",
              "hispanic",
              "disabled",
              "poverty",
              "limited_english",
              "commute_time",
              "health_uninsured",
              "veteran",
              "Ozone",
              "PM25",
              "N02",
              "DiagPeriodL90D"
            ],
            "_view_count": null,
            "_view_module": "@jupyter-widgets/controls",
            "_view_module_version": "1.5.0",
            "_view_name": "SelectMultipleView",
            "description": "Numerical Variable:",
            "description_tooltip": null,
            "disabled": false,
            "index": [],
            "layout": "IPY_MODEL_fe7a110e0abd4e178fc7d26093e42658",
            "rows": 5,
            "style": "IPY_MODEL_4d99350c489a4cc7950d8f3fd352a385"
          }
        },
        "a592f03c2636475e8b3947d924eb0eae": {
          "model_module": "@jupyter-widgets/output",
          "model_name": "OutputModel",
          "model_module_version": "1.0.0",
          "state": {
            "_dom_classes": [],
            "_model_module": "@jupyter-widgets/output",
            "_model_module_version": "1.0.0",
            "_model_name": "OutputModel",
            "_view_count": null,
            "_view_module": "@jupyter-widgets/output",
            "_view_module_version": "1.0.0",
            "_view_name": "OutputView",
            "layout": "IPY_MODEL_321740d09a9247919f934703b2e15f31",
            "msg_id": "",
            "outputs": []
          }
        },
        "c351fbf136a344c28bc36ddd36a3c105": {
          "model_module": "@jupyter-widgets/base",
          "model_name": "LayoutModel",
          "model_module_version": "1.2.0",
          "state": {
            "_model_module": "@jupyter-widgets/base",
            "_model_module_version": "1.2.0",
            "_model_name": "LayoutModel",
            "_view_count": null,
            "_view_module": "@jupyter-widgets/base",
            "_view_module_version": "1.2.0",
            "_view_name": "LayoutView",
            "align_content": null,
            "align_items": null,
            "align_self": null,
            "border": null,
            "bottom": null,
            "display": null,
            "flex": null,
            "flex_flow": null,
            "grid_area": null,
            "grid_auto_columns": null,
            "grid_auto_flow": null,
            "grid_auto_rows": null,
            "grid_column": null,
            "grid_gap": null,
            "grid_row": null,
            "grid_template_areas": null,
            "grid_template_columns": null,
            "grid_template_rows": null,
            "height": null,
            "justify_content": null,
            "justify_items": null,
            "left": null,
            "margin": null,
            "max_height": null,
            "max_width": null,
            "min_height": null,
            "min_width": null,
            "object_fit": null,
            "object_position": null,
            "order": null,
            "overflow": null,
            "overflow_x": null,
            "overflow_y": null,
            "padding": null,
            "right": null,
            "top": null,
            "visibility": null,
            "width": null
          }
        },
        "fe7a110e0abd4e178fc7d26093e42658": {
          "model_module": "@jupyter-widgets/base",
          "model_name": "LayoutModel",
          "model_module_version": "1.2.0",
          "state": {
            "_model_module": "@jupyter-widgets/base",
            "_model_module_version": "1.2.0",
            "_model_name": "LayoutModel",
            "_view_count": null,
            "_view_module": "@jupyter-widgets/base",
            "_view_module_version": "1.2.0",
            "_view_name": "LayoutView",
            "align_content": null,
            "align_items": null,
            "align_self": null,
            "border": null,
            "bottom": null,
            "display": null,
            "flex": null,
            "flex_flow": null,
            "grid_area": null,
            "grid_auto_columns": null,
            "grid_auto_flow": null,
            "grid_auto_rows": null,
            "grid_column": null,
            "grid_gap": null,
            "grid_row": null,
            "grid_template_areas": null,
            "grid_template_columns": null,
            "grid_template_rows": null,
            "height": "200px",
            "justify_content": null,
            "justify_items": null,
            "left": null,
            "margin": null,
            "max_height": null,
            "max_width": null,
            "min_height": null,
            "min_width": null,
            "object_fit": null,
            "object_position": null,
            "order": null,
            "overflow": null,
            "overflow_x": null,
            "overflow_y": null,
            "padding": null,
            "right": null,
            "top": null,
            "visibility": null,
            "width": "50%"
          }
        },
        "4d99350c489a4cc7950d8f3fd352a385": {
          "model_module": "@jupyter-widgets/controls",
          "model_name": "DescriptionStyleModel",
          "model_module_version": "1.5.0",
          "state": {
            "_model_module": "@jupyter-widgets/controls",
            "_model_module_version": "1.5.0",
            "_model_name": "DescriptionStyleModel",
            "_view_count": null,
            "_view_module": "@jupyter-widgets/base",
            "_view_module_version": "1.2.0",
            "_view_name": "StyleView",
            "description_width": "initial"
          }
        },
        "321740d09a9247919f934703b2e15f31": {
          "model_module": "@jupyter-widgets/base",
          "model_name": "LayoutModel",
          "model_module_version": "1.2.0",
          "state": {
            "_model_module": "@jupyter-widgets/base",
            "_model_module_version": "1.2.0",
            "_model_name": "LayoutModel",
            "_view_count": null,
            "_view_module": "@jupyter-widgets/base",
            "_view_module_version": "1.2.0",
            "_view_name": "LayoutView",
            "align_content": null,
            "align_items": null,
            "align_self": null,
            "border": null,
            "bottom": null,
            "display": null,
            "flex": null,
            "flex_flow": null,
            "grid_area": null,
            "grid_auto_columns": null,
            "grid_auto_flow": null,
            "grid_auto_rows": null,
            "grid_column": null,
            "grid_gap": null,
            "grid_row": null,
            "grid_template_areas": null,
            "grid_template_columns": null,
            "grid_template_rows": null,
            "height": null,
            "justify_content": null,
            "justify_items": null,
            "left": null,
            "margin": null,
            "max_height": null,
            "max_width": null,
            "min_height": null,
            "min_width": null,
            "object_fit": null,
            "object_position": null,
            "order": null,
            "overflow": null,
            "overflow_x": null,
            "overflow_y": null,
            "padding": null,
            "right": null,
            "top": null,
            "visibility": null,
            "width": null
          }
        }
      }
    }
  },
  "nbformat_minor": 0,
  "nbformat": 4,
  "cells": [
    {
      "cell_type": "markdown",
      "metadata": {
        "id": "view-in-github",
        "colab_type": "text"
      },
      "source": [
        "<a href=\"https://colab.research.google.com/github/ahlexn/DATA3402.Spring.2024/blob/main/Copy_of_cancer.ipynb\" target=\"_parent\"><img src=\"https://colab.research.google.com/assets/colab-badge.svg\" alt=\"Open In Colab\"/></a>"
      ]
    },
    {
      "cell_type": "markdown",
      "source": [
        "**OVERVIEW:**\n",
        "This challenge was to predict whether patients that were diagnosed with breast cancer would receive a metastatic cancer disgnosis within 90 days of their screening. The approach was determined by looking at when the diagnosis happened and when treatment started. Using classification and comparing the classes to one another only let my predictor model be aroun 50%."
      ],
      "metadata": {
        "id": "wplwc-urvMfm"
      }
    },
    {
      "source": [
        "#cell used to import data from kaggle\n",
        "import os\n",
        "import sys\n",
        "from tempfile import NamedTemporaryFile\n",
        "from urllib.request import urlopen\n",
        "from urllib.parse import unquote, urlparse\n",
        "from urllib.error import HTTPError\n",
        "from zipfile import ZipFile\n",
        "import tarfile\n",
        "import shutil\n",
        "\n",
        "CHUNK_SIZE = 40960\n",
        "DATA_SOURCE_MAPPING = 'metastatic-cancer-kaggle-challenge:https%3A%2F%2Fstorage.googleapis.com%2Fkaggle-data-sets%2F4928092%2F8296270%2Fbundle%2Farchive.zip%3FX-Goog-Algorithm%3DGOOG4-RSA-SHA256%26X-Goog-Credential%3Dgcp-kaggle-com%2540kaggle-161607.iam.gserviceaccount.com%252F20240503%252Fauto%252Fstorage%252Fgoog4_request%26X-Goog-Date%3D20240503T032155Z%26X-Goog-Expires%3D259200%26X-Goog-SignedHeaders%3Dhost%26X-Goog-Signature%3D79d9e4119a9a978c16c09eeeb911e0f949da05c2cb94423b04fa178e4461cdeafec6110e4c0adac61b27a1ac0c0e8dc1ae661b3594a52d7162022a563bcdec9459739f1bcb6360bc4b810f75db8fca53813b3f2b10a9bede089128d14c49ed6cf63e9dd4007e9063aab345c6c904dc35fdbc0e169a2bcf1d1d8c216df35dd18e6d72947de9d7735579f5a7be6066d7ecbf0df34c83d8bc4a95a632184c7dae4a81882ce2ffb09f713080a87aae58443a1f60005a2d3b84e26a683581af6415ae5499d68d3f3e57159e913754e4d5a9584069babe61896bf839e3b13bf5775c1bb4f891e57f991adf42e2f23c7839b026a613d945828f3436f8d6a5798e6540ca'\n",
        "\n",
        "KAGGLE_INPUT_PATH='/kaggle/input'\n",
        "KAGGLE_WORKING_PATH='/kaggle/working'\n",
        "KAGGLE_SYMLINK='kaggle'\n",
        "\n",
        "!umount /kaggle/input/ 2> /dev/null\n",
        "shutil.rmtree('/kaggle/input', ignore_errors=True)\n",
        "os.makedirs(KAGGLE_INPUT_PATH, 0o777, exist_ok=True)\n",
        "os.makedirs(KAGGLE_WORKING_PATH, 0o777, exist_ok=True)\n",
        "\n",
        "try:\n",
        "  os.symlink(KAGGLE_INPUT_PATH, os.path.join(\"..\", 'input'), target_is_directory=True)\n",
        "except FileExistsError:\n",
        "  pass\n",
        "try:\n",
        "  os.symlink(KAGGLE_WORKING_PATH, os.path.join(\"..\", 'working'), target_is_directory=True)\n",
        "except FileExistsError:\n",
        "  pass\n",
        "\n",
        "for data_source_mapping in DATA_SOURCE_MAPPING.split(','):\n",
        "    directory, download_url_encoded = data_source_mapping.split(':')\n",
        "    download_url = unquote(download_url_encoded)\n",
        "    filename = urlparse(download_url).path\n",
        "    destination_path = os.path.join(KAGGLE_INPUT_PATH, directory)\n",
        "    try:\n",
        "        with urlopen(download_url) as fileres, NamedTemporaryFile() as tfile:\n",
        "            total_length = fileres.headers['content-length']\n",
        "            print(f'Downloading {directory}, {total_length} bytes compressed')\n",
        "            dl = 0\n",
        "            data = fileres.read(CHUNK_SIZE)\n",
        "            while len(data) > 0:\n",
        "                dl += len(data)\n",
        "                tfile.write(data)\n",
        "                done = int(50 * dl / int(total_length))\n",
        "                sys.stdout.write(f\"\\r[{'=' * done}{' ' * (50-done)}] {dl} bytes downloaded\")\n",
        "                sys.stdout.flush()\n",
        "                data = fileres.read(CHUNK_SIZE)\n",
        "            if filename.endswith('.zip'):\n",
        "              with ZipFile(tfile) as zfile:\n",
        "                zfile.extractall(destination_path)\n",
        "            else:\n",
        "              with tarfile.open(tfile.name) as tarfile:\n",
        "                tarfile.extractall(destination_path)\n",
        "            print(f'\\nDownloaded and uncompressed: {directory}')\n",
        "    except HTTPError as e:\n",
        "        print(f'Failed to load (likely expired) {download_url} to path {destination_path}')\n",
        "        continue\n",
        "    except OSError as e:\n",
        "        print(f'Failed to load {download_url} to path {destination_path}')\n",
        "        continue\n",
        "\n",
        "print('Data source import complete.')\n"
      ],
      "metadata": {
        "id": "kCHK691yt_xh",
        "outputId": "467eb63d-07d6-4fa7-f9e0-aa47ced5a1e4",
        "colab": {
          "base_uri": "https://localhost:8080/"
        }
      },
      "cell_type": "code",
      "outputs": [
        {
          "output_type": "stream",
          "name": "stdout",
          "text": [
            "Downloading metastatic-cancer-kaggle-challenge, 5281541 bytes compressed\n",
            "[==================================================] 5281541 bytes downloaded\n",
            "Downloaded and uncompressed: metastatic-cancer-kaggle-challenge\n",
            "Data source import complete.\n"
          ]
        }
      ],
      "execution_count": null
    },
    {
      "cell_type": "code",
      "source": [
        "\n",
        "# This Python 3 environment comes with many helpful analytics libraries installed\n",
        "# It is defined by the kaggle/python Docker image: https://github.com/kaggle/docker-python\n",
        "# For example, here's several helpful packages to load\n",
        "\n",
        "import numpy as np # linear algebra\n",
        "import pandas as pd # data processing, CSV file I/O (e.g. pd.read_csv)\n",
        "\n",
        "# Input data files are available in the read-only \"../input/\" directory\n",
        "# For example, running this (by clicking run or pressing Shift+Enter) will list all files under the input directory\n",
        "\n",
        "import os\n",
        "for dirname, _, filenames in os.walk('/kaggle/input'):\n",
        "    for filename in filenames:\n",
        "        print(os.path.join(dirname, filename))\n",
        "\n",
        "# You can write up to 20GB to the current directory (/kaggle/working/) that gets preserved as output when you create a version using \"Save & Run All\"\n",
        "# You can also write temporary files to /kaggle/temp/, but they won't be saved outside of the current session"
      ],
      "metadata": {
        "_uuid": "8f2839f25d086af736a60e9eeb907d3b93b6e0e5",
        "_cell_guid": "b1076dfc-b9ad-4769-8c92-a6c4dae69d19",
        "execution": {
          "iopub.status.busy": "2024-05-03T01:32:56.527332Z",
          "iopub.execute_input": "2024-05-03T01:32:56.527705Z",
          "iopub.status.idle": "2024-05-03T01:32:56.537613Z",
          "shell.execute_reply.started": "2024-05-03T01:32:56.527675Z",
          "shell.execute_reply": "2024-05-03T01:32:56.536721Z"
        },
        "trusted": true,
        "id": "p6JnQXfdt_xi",
        "outputId": "110d3aae-5296-4f8d-9c61-844446c2c617",
        "colab": {
          "base_uri": "https://localhost:8080/"
        }
      },
      "execution_count": null,
      "outputs": [
        {
          "output_type": "stream",
          "name": "stdout",
          "text": [
            "/kaggle/input/metastatic-cancer-kaggle-challenge/training.csv\n",
            "/kaggle/input/metastatic-cancer-kaggle-challenge/sample_submission.csv\n",
            "/kaggle/input/metastatic-cancer-kaggle-challenge/test.csv\n"
          ]
        }
      ]
    },
    {
      "cell_type": "markdown",
      "source": [],
      "metadata": {
        "id": "jiIL8GT_t_xi"
      }
    },
    {
      "cell_type": "code",
      "source": [
        "#importing needed packages\n",
        "import math\n",
        "import matplotlib.pyplot as plt\n",
        "import seaborn as sns\n",
        "import shap as shap\n",
        "from sklearn.impute import SimpleImputer\n",
        "from sklearn.preprocessing import LabelEncoder, StandardScaler\n",
        "import numpy as np # linear algebra\n",
        "import pandas as pd # data processing, CSV file I/O (e.g. pd.read_csv)\n",
        "import warnings\n",
        "warnings.filterwarnings(\"ignore\")"
      ],
      "metadata": {
        "execution": {
          "iopub.status.busy": "2024-05-03T01:38:40.426227Z",
          "iopub.execute_input": "2024-05-03T01:38:40.426967Z",
          "iopub.status.idle": "2024-05-03T01:38:40.431978Z",
          "shell.execute_reply.started": "2024-05-03T01:38:40.426932Z",
          "shell.execute_reply": "2024-05-03T01:38:40.431278Z"
        },
        "trusted": true,
        "id": "h_nPo4_Rt_xj"
      },
      "execution_count": null,
      "outputs": []
    },
    {
      "cell_type": "code",
      "source": [
        "from __future__ import print_function\n",
        "from ipywidgets import interact, interactive, fixed, interact_manual, Layout\n",
        "import ipywidgets as widgets\n",
        "style = {'description_width': 'initial'}\n",
        "\n",
        "pd.set_option('display.max_colwidth', None)\n",
        "pd.set_option('display.max_rows', 200)\n",
        "pd.set_option('display.max_columns', 300)"
      ],
      "metadata": {
        "execution": {
          "iopub.status.busy": "2024-05-03T01:38:52.207331Z",
          "iopub.execute_input": "2024-05-03T01:38:52.208021Z",
          "iopub.status.idle": "2024-05-03T01:38:52.213709Z",
          "shell.execute_reply.started": "2024-05-03T01:38:52.207984Z",
          "shell.execute_reply": "2024-05-03T01:38:52.212664Z"
        },
        "trusted": true,
        "id": "Ql-zJbgHt_xj"
      },
      "execution_count": null,
      "outputs": []
    },
    {
      "cell_type": "code",
      "source": [
        "#loading up training and testing data sets\n",
        "import os\n",
        "for dirname, _, filenames in os.walk('/kaggle/input'):\n",
        "    for filename in filenames:\n",
        "        print(os.path.join(dirname, filename))\n",
        "\n",
        "df_train = pd.read_csv(\"/kaggle/input/metastatic-cancer-kaggle-challenge/training.csv\", sep=',')\n",
        "df_test = pd.read_csv(\"/kaggle/input/metastatic-cancer-kaggle-challenge/test.csv\", sep=',')"
      ],
      "metadata": {
        "execution": {
          "iopub.status.busy": "2024-05-03T01:39:33.551363Z",
          "iopub.execute_input": "2024-05-03T01:39:33.551718Z",
          "iopub.status.idle": "2024-05-03T01:39:33.85294Z",
          "shell.execute_reply.started": "2024-05-03T01:39:33.551692Z",
          "shell.execute_reply": "2024-05-03T01:39:33.85211Z"
        },
        "trusted": true,
        "id": "cr-i5jmHt_xj",
        "outputId": "0eb9166b-ca70-4803-f46e-9eef2e7b23f5",
        "colab": {
          "base_uri": "https://localhost:8080/"
        }
      },
      "execution_count": null,
      "outputs": [
        {
          "output_type": "stream",
          "name": "stdout",
          "text": [
            "/kaggle/input/metastatic-cancer-kaggle-challenge/training.csv\n",
            "/kaggle/input/metastatic-cancer-kaggle-challenge/sample_submission.csv\n",
            "/kaggle/input/metastatic-cancer-kaggle-challenge/test.csv\n"
          ]
        }
      ]
    },
    {
      "cell_type": "code",
      "source": [
        "# Check the number of rows and columns\n",
        "print(\"Number of train samples are\",df_train.shape)\n",
        "print(\"Number of test samples are\",df_test.shape)"
      ],
      "metadata": {
        "execution": {
          "iopub.status.busy": "2024-05-03T01:40:25.581097Z",
          "iopub.execute_input": "2024-05-03T01:40:25.581505Z",
          "iopub.status.idle": "2024-05-03T01:40:25.58677Z",
          "shell.execute_reply.started": "2024-05-03T01:40:25.581475Z",
          "shell.execute_reply": "2024-05-03T01:40:25.585682Z"
        },
        "trusted": true,
        "id": "7P5XmKjnt_xj",
        "outputId": "9e2a6785-6a9b-4fac-835e-46ba87e096d6",
        "colab": {
          "base_uri": "https://localhost:8080/"
        }
      },
      "execution_count": null,
      "outputs": [
        {
          "output_type": "stream",
          "name": "stdout",
          "text": [
            "Number of train samples are (12906, 83)\n",
            "Number of test samples are (5792, 82)\n"
          ]
        }
      ]
    },
    {
      "cell_type": "code",
      "source": [
        "df_train[\"DiagPeriodL90D\"].unique()"
      ],
      "metadata": {
        "execution": {
          "iopub.status.busy": "2024-05-03T01:40:32.788945Z",
          "iopub.execute_input": "2024-05-03T01:40:32.789991Z",
          "iopub.status.idle": "2024-05-03T01:40:32.805086Z",
          "shell.execute_reply.started": "2024-05-03T01:40:32.789925Z",
          "shell.execute_reply": "2024-05-03T01:40:32.804109Z"
        },
        "trusted": true,
        "id": "JJooKyYbt_xj",
        "outputId": "26fd5a80-b774-4f12-fc48-dd9d085cdee6",
        "colab": {
          "base_uri": "https://localhost:8080/"
        }
      },
      "execution_count": null,
      "outputs": [
        {
          "output_type": "execute_result",
          "data": {
            "text/plain": [
              "array([1, 0])"
            ]
          },
          "metadata": {},
          "execution_count": 23
        }
      ]
    },
    {
      "cell_type": "code",
      "source": [
        "df_train.dtypes"
      ],
      "metadata": {
        "execution": {
          "iopub.status.busy": "2024-05-03T01:46:35.76547Z",
          "iopub.execute_input": "2024-05-03T01:46:35.766182Z",
          "iopub.status.idle": "2024-05-03T01:46:35.778313Z",
          "shell.execute_reply.started": "2024-05-03T01:46:35.766143Z",
          "shell.execute_reply": "2024-05-03T01:46:35.776066Z"
        },
        "trusted": true,
        "id": "0ZcCa7bEt_xk",
        "outputId": "4f95eb7b-c89c-4956-d22a-802740931b8a",
        "colab": {
          "base_uri": "https://localhost:8080/"
        }
      },
      "execution_count": null,
      "outputs": [
        {
          "output_type": "execute_result",
          "data": {
            "text/plain": [
              "patient_id                                 int64\n",
              "patient_race                              object\n",
              "payer_type                                object\n",
              "patient_state                             object\n",
              "patient_zip3                               int64\n",
              "patient_age                                int64\n",
              "patient_gender                            object\n",
              "bmi                                      float64\n",
              "breast_cancer_diagnosis_code              object\n",
              "breast_cancer_diagnosis_desc              object\n",
              "metastatic_cancer_diagnosis_code          object\n",
              "metastatic_first_novel_treatment          object\n",
              "metastatic_first_novel_treatment_type     object\n",
              "Region                                    object\n",
              "Division                                  object\n",
              "population                               float64\n",
              "density                                  float64\n",
              "age_median                               float64\n",
              "age_under_10                             float64\n",
              "age_10_to_19                             float64\n",
              "age_20s                                  float64\n",
              "age_30s                                  float64\n",
              "age_40s                                  float64\n",
              "age_50s                                  float64\n",
              "age_60s                                  float64\n",
              "age_70s                                  float64\n",
              "age_over_80                              float64\n",
              "male                                     float64\n",
              "female                                   float64\n",
              "married                                  float64\n",
              "divorced                                 float64\n",
              "never_married                            float64\n",
              "widowed                                  float64\n",
              "family_size                              float64\n",
              "family_dual_income                       float64\n",
              "income_household_median                  float64\n",
              "income_household_under_5                 float64\n",
              "income_household_5_to_10                 float64\n",
              "income_household_10_to_15                float64\n",
              "income_household_15_to_20                float64\n",
              "income_household_20_to_25                float64\n",
              "income_household_25_to_35                float64\n",
              "income_household_35_to_50                float64\n",
              "income_household_50_to_75                float64\n",
              "income_household_75_to_100               float64\n",
              "income_household_100_to_150              float64\n",
              "income_household_150_over                float64\n",
              "income_household_six_figure              float64\n",
              "income_individual_median                 float64\n",
              "home_ownership                           float64\n",
              "housing_units                            float64\n",
              "home_value                               float64\n",
              "rent_median                              float64\n",
              "rent_burden                              float64\n",
              "education_less_highschool                float64\n",
              "education_highschool                     float64\n",
              "education_some_college                   float64\n",
              "education_bachelors                      float64\n",
              "education_graduate                       float64\n",
              "education_college_or_above               float64\n",
              "education_stem_degree                    float64\n",
              "labor_force_participation                float64\n",
              "unemployment_rate                        float64\n",
              "self_employed                            float64\n",
              "farmer                                   float64\n",
              "race_white                               float64\n",
              "race_black                               float64\n",
              "race_asian                               float64\n",
              "race_native                              float64\n",
              "race_pacific                             float64\n",
              "race_other                               float64\n",
              "race_multiple                            float64\n",
              "hispanic                                 float64\n",
              "disabled                                 float64\n",
              "poverty                                  float64\n",
              "limited_english                          float64\n",
              "commute_time                             float64\n",
              "health_uninsured                         float64\n",
              "veteran                                  float64\n",
              "Ozone                                    float64\n",
              "PM25                                     float64\n",
              "N02                                      float64\n",
              "DiagPeriodL90D                             int64\n",
              "dtype: object"
            ]
          },
          "metadata": {},
          "execution_count": 24
        }
      ]
    },
    {
      "cell_type": "code",
      "source": [
        "categorical_features = df_train.select_dtypes('object').columns\n",
        "# visualize_features = ['State_Factor', 'building_class', 'facility_type', 'Year_Factor']\n",
        "numerical_features= df_train.select_dtypes('number').columns"
      ],
      "metadata": {
        "execution": {
          "iopub.status.busy": "2024-05-03T01:46:48.91382Z",
          "iopub.execute_input": "2024-05-03T01:46:48.914526Z",
          "iopub.status.idle": "2024-05-03T01:46:48.924972Z",
          "shell.execute_reply.started": "2024-05-03T01:46:48.914494Z",
          "shell.execute_reply": "2024-05-03T01:46:48.923758Z"
        },
        "trusted": true,
        "id": "sJCA8zoWt_xk"
      },
      "execution_count": null,
      "outputs": []
    },
    {
      "cell_type": "code",
      "source": [
        "categorical_features"
      ],
      "metadata": {
        "execution": {
          "iopub.status.busy": "2024-05-03T01:46:55.494943Z",
          "iopub.execute_input": "2024-05-03T01:46:55.495757Z",
          "iopub.status.idle": "2024-05-03T01:46:55.501804Z",
          "shell.execute_reply.started": "2024-05-03T01:46:55.495724Z",
          "shell.execute_reply": "2024-05-03T01:46:55.500831Z"
        },
        "trusted": true,
        "id": "144CkafUt_xk",
        "outputId": "e4d880b7-5ba2-432d-dcef-0d9c4a93f640",
        "colab": {
          "base_uri": "https://localhost:8080/"
        }
      },
      "execution_count": null,
      "outputs": [
        {
          "output_type": "execute_result",
          "data": {
            "text/plain": [
              "Index(['patient_race', 'payer_type', 'patient_state', 'patient_gender',\n",
              "       'breast_cancer_diagnosis_code', 'breast_cancer_diagnosis_desc',\n",
              "       'metastatic_cancer_diagnosis_code', 'metastatic_first_novel_treatment',\n",
              "       'metastatic_first_novel_treatment_type', 'Region', 'Division'],\n",
              "      dtype='object')"
            ]
          },
          "metadata": {},
          "execution_count": 26
        }
      ]
    },
    {
      "cell_type": "code",
      "source": [
        "plot_cat_dataframe = df_train #test\n",
        "\n",
        "#hist plot categorical features\n",
        "def count_plot(var, plot_cat_dataframe):\n",
        "    plt.figure(figsize = (8,6))\n",
        "    ax = sns.countplot(y = var, data = plot_cat_dataframe)\n",
        "    plt.title(var, size = 10)\n",
        "\n",
        "def inter_cat_plot(x):\n",
        "    return count_plot(x, plot_cat_dataframe)\n",
        "\n",
        "#Multiple selection widgets ###\n",
        "widget_cat_plot=widgets.Dropdown(\n",
        "    options=categorical_features,\n",
        "# value='State_Factor',\n",
        "    description=\"Categorical Variable:\",\n",
        "    style = style\n",
        ")\n",
        "interact(inter_cat_plot, x=widget_cat_plot);"
      ],
      "metadata": {
        "execution": {
          "iopub.status.busy": "2024-05-03T01:47:04.264314Z",
          "iopub.execute_input": "2024-05-03T01:47:04.265345Z",
          "iopub.status.idle": "2024-05-03T01:47:04.548222Z",
          "shell.execute_reply.started": "2024-05-03T01:47:04.265305Z",
          "shell.execute_reply": "2024-05-03T01:47:04.547298Z"
        },
        "trusted": true,
        "id": "oo5qXOc7t_xk",
        "outputId": "4931c74c-9566-4605-aa09-e1e80a80e042",
        "colab": {
          "base_uri": "https://localhost:8080/",
          "height": 593,
          "referenced_widgets": [
            "f22ba9eae61e4b72b9dc58b62ad4191a",
            "78488a5893d649e0be03bc4f10c8920c",
            "7717cf703de84f6080639837e1fe8517",
            "f0d2e2741dbb4a1d9f12d273974406ed",
            "7712dc2230dd43bfaaeb584ed62e5ea8",
            "fde864ac418741afa6fffe7eac4f1788",
            "54556dd9a3ac41de845f96decfb1e23b"
          ]
        }
      },
      "execution_count": null,
      "outputs": [
        {
          "output_type": "display_data",
          "data": {
            "text/plain": [
              "interactive(children=(Dropdown(description='Categorical Variable:', options=('patient_race', 'payer_type', 'pa…"
            ],
            "application/vnd.jupyter.widget-view+json": {
              "version_major": 2,
              "version_minor": 0,
              "model_id": "f22ba9eae61e4b72b9dc58b62ad4191a"
            }
          },
          "metadata": {}
        },
        {
          "output_type": "display_data",
          "data": {
            "text/plain": [
              "<Figure size 800x600 with 1 Axes>"
            ],
            "image/png": "[encoded data removed]"
          },
          "metadata": {}
        }
      ]
    },
    {
      "cell_type": "code",
      "source": [
        "plot_num_data = df_train[numerical_features]\n",
        "\n",
        "# plot_num_data = train[train['State_Factor']=='State_1']\n",
        "\n",
        "# data_state_1 = train[train['State_Factor']=='State_2']\n",
        "# plot_num_data = data_state_1[data_state_1['building_class']=='Commercial']\n",
        "\n",
        "\n",
        "#Trend line plot ###\n",
        "def line_plot(var, plot_num_data):\n",
        "    plt.figure(figsize = (20,4))\n",
        "    plot_num_data[var].plot(figsize=(20,4));\n",
        "\n",
        "def inter_cat_plot(x):\n",
        "    return line_plot(x, plot_num_data)\n",
        "\n",
        "# Multiple selection widgets ###\n",
        "widget_cat_plot=widgets.Dropdown(\n",
        "    options=plot_num_data.select_dtypes('number').columns,\n",
        "#     value=\"january_avg_temp\",\n",
        "    description=\"Numerical Variable:\",\n",
        "    style = style\n",
        ")\n",
        "interact(inter_cat_plot, x=widget_cat_plot);"
      ],
      "metadata": {
        "execution": {
          "iopub.status.busy": "2024-05-03T01:47:14.164788Z",
          "iopub.execute_input": "2024-05-03T01:47:14.16573Z",
          "iopub.status.idle": "2024-05-03T01:47:14.776627Z",
          "shell.execute_reply.started": "2024-05-03T01:47:14.165691Z",
          "shell.execute_reply": "2024-05-03T01:47:14.775598Z"
        },
        "trusted": true,
        "id": "-9GJ6bPQt_xk",
        "outputId": "407bafea-d6f7-4a5a-8e3e-fa10ed11913a",
        "colab": {
          "base_uri": "https://localhost:8080/",
          "height": 415,
          "referenced_widgets": [
            "19cdb00bc5e44232bd59151dc2a9a19d",
            "87779259db944a0fb23510dc2f0828d3",
            "1495485ad89d4c9e8ff60996bdfaecab",
            "27e2fb50230443ccb2ddb454630f38a8",
            "529f57848d564455bbb8cddd158f8aaa",
            "84feb4ece40347dd943a4275f75e37bc",
            "a6e3361061d7417ab5078df279d1c743"
          ]
        }
      },
      "execution_count": null,
      "outputs": [
        {
          "output_type": "display_data",
          "data": {
            "text/plain": [
              "interactive(children=(Dropdown(description='Numerical Variable:', options=('patient_id', 'patient_zip3', 'pati…"
            ],
            "application/vnd.jupyter.widget-view+json": {
              "version_major": 2,
              "version_minor": 0,
              "model_id": "19cdb00bc5e44232bd59151dc2a9a19d"
            }
          },
          "metadata": {}
        },
        {
          "output_type": "display_data",
          "data": {
            "text/plain": [
              "<Figure size 2000x400 with 1 Axes>"
            ],
            "image/png": "[encoded data removed]"
          },
          "metadata": {}
        }
      ]
    },
    {
      "cell_type": "code",
      "source": [
        "#Distribution plot\n",
        "def dist_plot(feature_list, train, test):\n",
        "    for each_feature in feature_list:\n",
        "        plt.figure(figsize = (20, 4))\n",
        "\n",
        "        sns.kdeplot(train[each_feature].to_numpy(), color = '#5499C7') # blue training data\n",
        "        sns.kdeplot(test[each_feature].to_numpy(), color = '#D35400') # red testing data\n",
        "\n",
        "        plt.title(each_feature, fontsize=15)\n",
        "        plt.show()\n",
        "\n",
        "#del values_train , values_test\n",
        "\n",
        "def inter_dist_plot(x):\n",
        "    return dist_plot(x, df_train, df_test)\n",
        "\n",
        "#Multiple selection widgets\n",
        "widget_dist_plot=widgets.SelectMultiple(\n",
        "    options= df_train.select_dtypes('number').columns,\n",
        "#value=[\"floor_area\"],\n",
        "    layout=Layout(width='50%', height='200px'),\n",
        "    description=\"Numerical Variable:\",\n",
        "    style = style\n",
        ")\n",
        "interact(inter_dist_plot, x=widget_dist_plot);"
      ],
      "metadata": {
        "execution": {
          "iopub.status.busy": "2024-05-03T01:49:10.923945Z",
          "iopub.execute_input": "2024-05-03T01:49:10.92437Z",
          "iopub.status.idle": "2024-05-03T01:49:10.94954Z",
          "shell.execute_reply.started": "2024-05-03T01:49:10.92434Z",
          "shell.execute_reply": "2024-05-03T01:49:10.948496Z"
        },
        "trusted": true,
        "id": "PrMr8Cn6t_xk",
        "outputId": "25c29056-b60c-4f9a-ca8d-d3fff5489bc4",
        "colab": {
          "base_uri": "https://localhost:8080/",
          "height": 221,
          "referenced_widgets": [
            "8aaa3f20554d415bbb147fd57d6030c5",
            "6052cbfcf5424530bbcfcc0134ee74e2",
            "a592f03c2636475e8b3947d924eb0eae",
            "c351fbf136a344c28bc36ddd36a3c105",
            "fe7a110e0abd4e178fc7d26093e42658",
            "4d99350c489a4cc7950d8f3fd352a385",
            "321740d09a9247919f934703b2e15f31"
          ]
        }
      },
      "execution_count": null,
      "outputs": [
        {
          "output_type": "display_data",
          "data": {
            "text/plain": [
              "interactive(children=(SelectMultiple(description='Numerical Variable:', layout=Layout(height='200px', width='5…"
            ],
            "application/vnd.jupyter.widget-view+json": {
              "version_major": 2,
              "version_minor": 0,
              "model_id": "8aaa3f20554d415bbb147fd57d6030c5"
            }
          },
          "metadata": {}
        }
      ]
    },
    {
      "cell_type": "code",
      "source": [
        "# Calculate correlation matrix\n",
        "# Check parameters: https://pandas.pydata.org/docs/reference/api/pandas.DataFrame.corr.html\n",
        "corr = df_train[numerical_features].corr()\n",
        "\n",
        "# Generate a mask for the upper triangle\n",
        "mask = np.triu(np.ones_like(corr, dtype=bool))\n",
        "\n",
        "# Set up the matplotlib figure\n",
        "f, ax = plt.subplots(figsize=(9,6))\n",
        "\n",
        "# Generate a custom diverging colormap\n",
        "cmap = sns.diverging_palette(230, 20, as_cmap=True)\n",
        "\n",
        "# Draw the heatmap with the mask and correct aspect ratio\n",
        "sns.heatmap(corr, mask=mask, cmap=cmap, vmin=-0.8,vmax=0.8, square=True, linewidths=.5)"
      ],
      "metadata": {
        "execution": {
          "iopub.status.busy": "2024-05-03T01:51:12.60879Z",
          "iopub.execute_input": "2024-05-03T01:51:12.609197Z",
          "iopub.status.idle": "2024-05-03T01:51:13.635187Z",
          "shell.execute_reply.started": "2024-05-03T01:51:12.609164Z",
          "shell.execute_reply": "2024-05-03T01:51:13.634439Z"
        },
        "trusted": true,
        "id": "m75UT-jjt_xl",
        "outputId": "b15cd3f8-dd4b-445e-d4b7-7934ddaec5a1",
        "colab": {
          "base_uri": "https://localhost:8080/",
          "height": 748
        }
      },
      "execution_count": null,
      "outputs": [
        {
          "output_type": "execute_result",
          "data": {
            "text/plain": [
              "<Axes: >"
            ]
          },
          "metadata": {},
          "execution_count": 30
        },
        {
          "output_type": "display_data",
          "data": {
            "text/plain": [
              "<Figure size 900x600 with 2 Axes>"
            ],
            "image/png": "[encoded data removed]"
          },
          "metadata": {}
        }
      ]
    },
    {
      "cell_type": "markdown",
      "source": [
        "**DATA CLEANING:**\n",
        "  Deleting duplicates and missing values as that can affect how data is presented and the quality of data representations. Duplicates can be removed using the panda notebook, Followed by checking for missing values will affect machine learning as well. Using check_missing_values() to analyze missing values in a pandas DataFrame we can check for (NaN), missing values, and summarize the missing data."
      ],
      "metadata": {
        "id": "jqfzsBOB0JtN"
      }
    },
    {
      "cell_type": "code",
      "source": [
        "num_duplicates = df_train.duplicated().sum()\n",
        "\n",
        "print(\"Number of duplicate rows: \", num_duplicates)"
      ],
      "metadata": {
        "execution": {
          "iopub.status.busy": "2024-05-03T01:56:34.507324Z",
          "iopub.execute_input": "2024-05-03T01:56:34.507723Z",
          "iopub.status.idle": "2024-05-03T01:56:34.565539Z",
          "shell.execute_reply.started": "2024-05-03T01:56:34.50769Z",
          "shell.execute_reply": "2024-05-03T01:56:34.564404Z"
        },
        "trusted": true,
        "id": "DpPaPdU6t_xl",
        "outputId": "0ebdfc98-72e3-40d4-a9e9-a7201623908f",
        "colab": {
          "base_uri": "https://localhost:8080/"
        }
      },
      "execution_count": null,
      "outputs": [
        {
          "output_type": "stream",
          "name": "stdout",
          "text": [
            "Number of duplicate rows:  0\n"
          ]
        }
      ]
    },
    {
      "cell_type": "code",
      "source": [
        "def check_missing_values(df):\n",
        "    missing_columns = [col for col in df.columns if df[col].isnull().any()]\n",
        "    missingvalues_count =df.isna().sum()\n",
        "    missingValues_df = pd.DataFrame(missingvalues_count.rename('Missing Values')).loc[missingvalues_count.ne(0)]\n",
        "    missingValues_df['Percentage'] = missingValues_df['Missing Values'] * 100 / df.shape[0]\n",
        "    return missingValues_df"
      ],
      "metadata": {
        "execution": {
          "iopub.status.busy": "2024-05-03T01:56:47.547087Z",
          "iopub.execute_input": "2024-05-03T01:56:47.547829Z",
          "iopub.status.idle": "2024-05-03T01:56:47.553829Z",
          "shell.execute_reply.started": "2024-05-03T01:56:47.547795Z",
          "shell.execute_reply": "2024-05-03T01:56:47.552787Z"
        },
        "trusted": true,
        "id": "5v-gpBCKt_xl"
      },
      "execution_count": null,
      "outputs": []
    },
    {
      "cell_type": "code",
      "source": [
        "df = check_missing_values(df_train)\n",
        "print(df.sort_values(by='Missing Values', ascending=False))"
      ],
      "metadata": {
        "execution": {
          "iopub.status.busy": "2024-05-03T01:56:56.467126Z",
          "iopub.execute_input": "2024-05-03T01:56:56.46809Z",
          "iopub.status.idle": "2024-05-03T01:56:56.507291Z",
          "shell.execute_reply.started": "2024-05-03T01:56:56.468053Z",
          "shell.execute_reply": "2024-05-03T01:56:56.506321Z"
        },
        "trusted": true,
        "id": "4saHLiiPt_xl",
        "outputId": "5ffe0383-2d30-4860-881c-ab8e8ba523f3",
        "colab": {
          "base_uri": "https://localhost:8080/"
        }
      },
      "execution_count": null,
      "outputs": [
        {
          "output_type": "stream",
          "name": "stdout",
          "text": [
            "                                       Missing Values  Percentage\n",
            "metastatic_first_novel_treatment                12882   99.814040\n",
            "metastatic_first_novel_treatment_type           12882   99.814040\n",
            "bmi                                              8965   69.463815\n",
            "patient_race                                     6385   49.473113\n",
            "payer_type                                       1803   13.970246\n",
            "Region                                             52    0.402913\n",
            "Division                                           52    0.402913\n",
            "patient_state                                      51    0.395165\n",
            "PM25                                               29    0.224702\n",
            "Ozone                                              29    0.224702\n",
            "N02                                                29    0.224702\n",
            "income_household_75_to_100                          4    0.030993\n",
            "income_household_150_over                           4    0.030993\n",
            "income_household_15_to_20                           4    0.030993\n",
            "income_household_20_to_25                           4    0.030993\n",
            "income_household_25_to_35                           4    0.030993\n",
            "income_household_35_to_50                           4    0.030993\n",
            "income_household_50_to_75                           4    0.030993\n",
            "income_household_100_to_150                         4    0.030993\n",
            "income_household_six_figure                         4    0.030993\n",
            "income_household_under_5                            4    0.030993\n",
            "home_ownership                                      4    0.030993\n",
            "home_value                                          4    0.030993\n",
            "rent_median                                         4    0.030993\n",
            "rent_burden                                         4    0.030993\n",
            "farmer                                              4    0.030993\n",
            "self_employed                                       4    0.030993\n",
            "income_household_5_to_10                            4    0.030993\n",
            "income_household_10_to_15                           4    0.030993\n",
            "income_household_median                             4    0.030993\n",
            "family_dual_income                                  4    0.030993\n",
            "limited_english                                     4    0.030993\n",
            "poverty                                             4    0.030993\n",
            "family_size                                         4    0.030993\n",
            "race_native                                         1    0.007748\n",
            "race_white                                          1    0.007748\n",
            "labor_force_participation                           1    0.007748\n",
            "unemployment_rate                                   1    0.007748\n",
            "population                                          1    0.007748\n",
            "density                                             1    0.007748\n",
            "veteran                                             1    0.007748\n",
            "health_uninsured                                    1    0.007748\n",
            "commute_time                                        1    0.007748\n",
            "education_college_or_above                          1    0.007748\n",
            "race_pacific                                        1    0.007748\n",
            "race_black                                          1    0.007748\n",
            "disabled                                            1    0.007748\n",
            "hispanic                                            1    0.007748\n",
            "race_asian                                          1    0.007748\n",
            "race_multiple                                       1    0.007748\n",
            "race_other                                          1    0.007748\n",
            "education_stem_degree                               1    0.007748\n",
            "age_under_10                                        1    0.007748\n",
            "education_graduate                                  1    0.007748\n",
            "education_bachelors                                 1    0.007748\n",
            "age_20s                                             1    0.007748\n",
            "age_30s                                             1    0.007748\n",
            "age_40s                                             1    0.007748\n",
            "age_50s                                             1    0.007748\n",
            "age_60s                                             1    0.007748\n",
            "age_70s                                             1    0.007748\n",
            "age_over_80                                         1    0.007748\n",
            "male                                                1    0.007748\n",
            "female                                              1    0.007748\n",
            "married                                             1    0.007748\n",
            "divorced                                            1    0.007748\n",
            "never_married                                       1    0.007748\n",
            "widowed                                             1    0.007748\n",
            "age_median                                          1    0.007748\n",
            "income_individual_median                            1    0.007748\n",
            "age_10_to_19                                        1    0.007748\n",
            "education_less_highschool                           1    0.007748\n",
            "education_highschool                                1    0.007748\n",
            "education_some_college                              1    0.007748\n",
            "housing_units                                       1    0.007748\n"
          ]
        }
      ]
    },
    {
      "cell_type": "code",
      "source": [
        "print(\"No. of records before dropping missing values : \",df_train.shape[0])\n",
        "df_dropall_missing_values = df_train.dropna()\n",
        "print(\"No. of records after dropping missing values : \",df_dropall_missing_values.shape[0])"
      ],
      "metadata": {
        "execution": {
          "iopub.status.busy": "2024-05-03T01:57:28.211128Z",
          "iopub.execute_input": "2024-05-03T01:57:28.211897Z",
          "iopub.status.idle": "2024-05-03T01:57:28.232396Z",
          "shell.execute_reply.started": "2024-05-03T01:57:28.211852Z",
          "shell.execute_reply": "2024-05-03T01:57:28.231209Z"
        },
        "trusted": true,
        "id": "G4M_9xuMt_xl",
        "outputId": "a142527c-4a68-46fc-c215-5e03b630cfe5",
        "colab": {
          "base_uri": "https://localhost:8080/"
        }
      },
      "execution_count": null,
      "outputs": [
        {
          "output_type": "stream",
          "name": "stdout",
          "text": [
            "No. of records before dropping missing values :  12906\n",
            "No. of records after dropping missing values :  3\n"
          ]
        }
      ]
    },
    {
      "cell_type": "code",
      "source": [
        "df_train_dropped_columns = df_train.drop(columns=df_train.columns[df_train.isnull().mean() > 0.3])\n",
        "\n",
        "print(\"No. of columns before dropping: \", df_train.shape[1] )\n",
        "print(\"No. of columns after dropping: \", df_train_dropped_columns.shape[1] )\n",
        "print(df_train.shape[1]- df_train_dropped_columns.shape[1],\" columns dropped\")\n",
        "\n",
        "# Identify which columns were dropped\n",
        "dropped_columns = df_train.columns.difference(df_train_dropped_columns.columns)\n",
        "print(dropped_columns)"
      ],
      "metadata": {
        "execution": {
          "iopub.status.busy": "2024-05-03T02:26:35.985955Z",
          "iopub.execute_input": "2024-05-03T02:26:35.986999Z",
          "iopub.status.idle": "2024-05-03T02:26:36.010199Z",
          "shell.execute_reply.started": "2024-05-03T02:26:35.986964Z",
          "shell.execute_reply": "2024-05-03T02:26:36.009343Z"
        },
        "trusted": true,
        "id": "YD3Suh2It_xl",
        "outputId": "980903b7-9134-4360-e58d-ea0d3fbb7ae3",
        "colab": {
          "base_uri": "https://localhost:8080/"
        }
      },
      "execution_count": null,
      "outputs": [
        {
          "output_type": "stream",
          "name": "stdout",
          "text": [
            "No. of columns before dropping:  83\n",
            "No. of columns after dropping:  79\n",
            "4  columns dropped\n",
            "Index(['bmi', 'metastatic_first_novel_treatment',\n",
            "       'metastatic_first_novel_treatment_type', 'patient_race'],\n",
            "      dtype='object')\n"
          ]
        }
      ]
    },
    {
      "cell_type": "code",
      "source": [
        "check_missing_values(df_train_dropped_columns)"
      ],
      "metadata": {
        "execution": {
          "iopub.status.busy": "2024-05-03T02:26:43.618176Z",
          "iopub.execute_input": "2024-05-03T02:26:43.61856Z",
          "iopub.status.idle": "2024-05-03T02:26:43.663176Z",
          "shell.execute_reply.started": "2024-05-03T02:26:43.618534Z",
          "shell.execute_reply": "2024-05-03T02:26:43.662344Z"
        },
        "trusted": true,
        "id": "aZYpBr9Jt_xl",
        "outputId": "94261a21-1d55-4019-a284-d88b320409ce",
        "colab": {
          "base_uri": "https://localhost:8080/",
          "height": 1000
        }
      },
      "execution_count": null,
      "outputs": [
        {
          "output_type": "execute_result",
          "data": {
            "text/plain": [
              "                             Missing Values  Percentage\n",
              "payer_type                             1803   13.970246\n",
              "patient_state                            51    0.395165\n",
              "Region                                   52    0.402913\n",
              "Division                                 52    0.402913\n",
              "population                                1    0.007748\n",
              "density                                   1    0.007748\n",
              "age_median                                1    0.007748\n",
              "age_under_10                              1    0.007748\n",
              "age_10_to_19                              1    0.007748\n",
              "age_20s                                   1    0.007748\n",
              "age_30s                                   1    0.007748\n",
              "age_40s                                   1    0.007748\n",
              "age_50s                                   1    0.007748\n",
              "age_60s                                   1    0.007748\n",
              "age_70s                                   1    0.007748\n",
              "age_over_80                               1    0.007748\n",
              "male                                      1    0.007748\n",
              "female                                    1    0.007748\n",
              "married                                   1    0.007748\n",
              "divorced                                  1    0.007748\n",
              "never_married                             1    0.007748\n",
              "widowed                                   1    0.007748\n",
              "family_size                               4    0.030993\n",
              "family_dual_income                        4    0.030993\n",
              "income_household_median                   4    0.030993\n",
              "income_household_under_5                  4    0.030993\n",
              "income_household_5_to_10                  4    0.030993\n",
              "income_household_10_to_15                 4    0.030993\n",
              "income_household_15_to_20                 4    0.030993\n",
              "income_household_20_to_25                 4    0.030993\n",
              "income_household_25_to_35                 4    0.030993\n",
              "income_household_35_to_50                 4    0.030993\n",
              "income_household_50_to_75                 4    0.030993\n",
              "income_household_75_to_100                4    0.030993\n",
              "income_household_100_to_150               4    0.030993\n",
              "income_household_150_over                 4    0.030993\n",
              "income_household_six_figure               4    0.030993\n",
              "income_individual_median                  1    0.007748\n",
              "home_ownership                            4    0.030993\n",
              "housing_units                             1    0.007748\n",
              "home_value                                4    0.030993\n",
              "rent_median                               4    0.030993\n",
              "rent_burden                               4    0.030993\n",
              "education_less_highschool                 1    0.007748\n",
              "education_highschool                      1    0.007748\n",
              "education_some_college                    1    0.007748\n",
              "education_bachelors                       1    0.007748\n",
              "education_graduate                        1    0.007748\n",
              "education_college_or_above                1    0.007748\n",
              "education_stem_degree                     1    0.007748\n",
              "labor_force_participation                 1    0.007748\n",
              "unemployment_rate                         1    0.007748\n",
              "self_employed                             4    0.030993\n",
              "farmer                                    4    0.030993\n",
              "race_white                                1    0.007748\n",
              "race_black                                1    0.007748\n",
              "race_asian                                1    0.007748\n",
              "race_native                               1    0.007748\n",
              "race_pacific                              1    0.007748\n",
              "race_other                                1    0.007748\n",
              "race_multiple                             1    0.007748\n",
              "hispanic                                  1    0.007748\n",
              "disabled                                  1    0.007748\n",
              "poverty                                   4    0.030993\n",
              "limited_english                           4    0.030993\n",
              "commute_time                              1    0.007748\n",
              "health_uninsured                          1    0.007748\n",
              "veteran                                   1    0.007748\n",
              "Ozone                                    29    0.224702\n",
              "PM25                                     29    0.224702\n",
              "N02                                      29    0.224702"
            ],
            "text/html": [
              "\n",
              "  <div id=\"df-edef7430-9007-4663-b0c2-684f053894c2\" class=\"colab-df-container\">\n",
              "    <div>\n",
              "<style scoped>\n",
              "    .dataframe tbody tr th:only-of-type {\n",
              "        vertical-align: middle;\n",
              "    }\n",
              "\n",
              "    .dataframe tbody tr th {\n",
              "        vertical-align: top;\n",
              "    }\n",
              "\n",
              "    .dataframe thead th {\n",
              "        text-align: right;\n",
              "    }\n",
              "</style>\n",
              "<table border=\"1\" class=\"dataframe\">\n",
              "  <thead>\n",
              "    <tr style=\"text-align: right;\">\n",
              "      <th></th>\n",
              "      <th>Missing Values</th>\n",
              "      <th>Percentage</th>\n",
              "    </tr>\n",
              "  </thead>\n",
              "  <tbody>\n",
              "    <tr>\n",
              "      <th>payer_type</th>\n",
              "      <td>1803</td>\n",
              "      <td>13.970246</td>\n",
              "    </tr>\n",
              "    <tr>\n",
              "      <th>patient_state</th>\n",
              "      <td>51</td>\n",
              "      <td>0.395165</td>\n",
              "    </tr>\n",
              "    <tr>\n",
              "      <th>Region</th>\n",
              "      <td>52</td>\n",
              "      <td>0.402913</td>\n",
              "    </tr>\n",
              "    <tr>\n",
              "      <th>Division</th>\n",
              "      <td>52</td>\n",
              "      <td>0.402913</td>\n",
              "    </tr>\n",
              "    <tr>\n",
              "      <th>population</th>\n",
              "      <td>1</td>\n",
              "      <td>0.007748</td>\n",
              "    </tr>\n",
              "    <tr>\n",
              "      <th>density</th>\n",
              "      <td>1</td>\n",
              "      <td>0.007748</td>\n",
              "    </tr>\n",
              "    <tr>\n",
              "      <th>age_median</th>\n",
              "      <td>1</td>\n",
              "      <td>0.007748</td>\n",
              "    </tr>\n",
              "    <tr>\n",
              "      <th>age_under_10</th>\n",
              "      <td>1</td>\n",
              "      <td>0.007748</td>\n",
              "    </tr>\n",
              "    <tr>\n",
              "      <th>age_10_to_19</th>\n",
              "      <td>1</td>\n",
              "      <td>0.007748</td>\n",
              "    </tr>\n",
              "    <tr>\n",
              "      <th>age_20s</th>\n",
              "      <td>1</td>\n",
              "      <td>0.007748</td>\n",
              "    </tr>\n",
              "    <tr>\n",
              "      <th>age_30s</th>\n",
              "      <td>1</td>\n",
              "      <td>0.007748</td>\n",
              "    </tr>\n",
              "    <tr>\n",
              "      <th>age_40s</th>\n",
              "      <td>1</td>\n",
              "      <td>0.007748</td>\n",
              "    </tr>\n",
              "    <tr>\n",
              "      <th>age_50s</th>\n",
              "      <td>1</td>\n",
              "      <td>0.007748</td>\n",
              "    </tr>\n",
              "    <tr>\n",
              "      <th>age_60s</th>\n",
              "      <td>1</td>\n",
              "      <td>0.007748</td>\n",
              "    </tr>\n",
              "    <tr>\n",
              "      <th>age_70s</th>\n",
              "      <td>1</td>\n",
              "      <td>0.007748</td>\n",
              "    </tr>\n",
              "    <tr>\n",
              "      <th>age_over_80</th>\n",
              "      <td>1</td>\n",
              "      <td>0.007748</td>\n",
              "    </tr>\n",
              "    <tr>\n",
              "      <th>male</th>\n",
              "      <td>1</td>\n",
              "      <td>0.007748</td>\n",
              "    </tr>\n",
              "    <tr>\n",
              "      <th>female</th>\n",
              "      <td>1</td>\n",
              "      <td>0.007748</td>\n",
              "    </tr>\n",
              "    <tr>\n",
              "      <th>married</th>\n",
              "      <td>1</td>\n",
              "      <td>0.007748</td>\n",
              "    </tr>\n",
              "    <tr>\n",
              "      <th>divorced</th>\n",
              "      <td>1</td>\n",
              "      <td>0.007748</td>\n",
              "    </tr>\n",
              "    <tr>\n",
              "      <th>never_married</th>\n",
              "      <td>1</td>\n",
              "      <td>0.007748</td>\n",
              "    </tr>\n",
              "    <tr>\n",
              "      <th>widowed</th>\n",
              "      <td>1</td>\n",
              "      <td>0.007748</td>\n",
              "    </tr>\n",
              "    <tr>\n",
              "      <th>family_size</th>\n",
              "      <td>4</td>\n",
              "      <td>0.030993</td>\n",
              "    </tr>\n",
              "    <tr>\n",
              "      <th>family_dual_income</th>\n",
              "      <td>4</td>\n",
              "      <td>0.030993</td>\n",
              "    </tr>\n",
              "    <tr>\n",
              "      <th>income_household_median</th>\n",
              "      <td>4</td>\n",
              "      <td>0.030993</td>\n",
              "    </tr>\n",
              "    <tr>\n",
              "      <th>income_household_under_5</th>\n",
              "      <td>4</td>\n",
              "      <td>0.030993</td>\n",
              "    </tr>\n",
              "    <tr>\n",
              "      <th>income_household_5_to_10</th>\n",
              "      <td>4</td>\n",
              "      <td>0.030993</td>\n",
              "    </tr>\n",
              "    <tr>\n",
              "      <th>income_household_10_to_15</th>\n",
              "      <td>4</td>\n",
              "      <td>0.030993</td>\n",
              "    </tr>\n",
              "    <tr>\n",
              "      <th>income_household_15_to_20</th>\n",
              "      <td>4</td>\n",
              "      <td>0.030993</td>\n",
              "    </tr>\n",
              "    <tr>\n",
              "      <th>income_household_20_to_25</th>\n",
              "      <td>4</td>\n",
              "      <td>0.030993</td>\n",
              "    </tr>\n",
              "    <tr>\n",
              "      <th>income_household_25_to_35</th>\n",
              "      <td>4</td>\n",
              "      <td>0.030993</td>\n",
              "    </tr>\n",
              "    <tr>\n",
              "      <th>income_household_35_to_50</th>\n",
              "      <td>4</td>\n",
              "      <td>0.030993</td>\n",
              "    </tr>\n",
              "    <tr>\n",
              "      <th>income_household_50_to_75</th>\n",
              "      <td>4</td>\n",
              "      <td>0.030993</td>\n",
              "    </tr>\n",
              "    <tr>\n",
              "      <th>income_household_75_to_100</th>\n",
              "      <td>4</td>\n",
              "      <td>0.030993</td>\n",
              "    </tr>\n",
              "    <tr>\n",
              "      <th>income_household_100_to_150</th>\n",
              "      <td>4</td>\n",
              "      <td>0.030993</td>\n",
              "    </tr>\n",
              "    <tr>\n",
              "      <th>income_household_150_over</th>\n",
              "      <td>4</td>\n",
              "      <td>0.030993</td>\n",
              "    </tr>\n",
              "    <tr>\n",
              "      <th>income_household_six_figure</th>\n",
              "      <td>4</td>\n",
              "      <td>0.030993</td>\n",
              "    </tr>\n",
              "    <tr>\n",
              "      <th>income_individual_median</th>\n",
              "      <td>1</td>\n",
              "      <td>0.007748</td>\n",
              "    </tr>\n",
              "    <tr>\n",
              "      <th>home_ownership</th>\n",
              "      <td>4</td>\n",
              "      <td>0.030993</td>\n",
              "    </tr>\n",
              "    <tr>\n",
              "      <th>housing_units</th>\n",
              "      <td>1</td>\n",
              "      <td>0.007748</td>\n",
              "    </tr>\n",
              "    <tr>\n",
              "      <th>home_value</th>\n",
              "      <td>4</td>\n",
              "      <td>0.030993</td>\n",
              "    </tr>\n",
              "    <tr>\n",
              "      <th>rent_median</th>\n",
              "      <td>4</td>\n",
              "      <td>0.030993</td>\n",
              "    </tr>\n",
              "    <tr>\n",
              "      <th>rent_burden</th>\n",
              "      <td>4</td>\n",
              "      <td>0.030993</td>\n",
              "    </tr>\n",
              "    <tr>\n",
              "      <th>education_less_highschool</th>\n",
              "      <td>1</td>\n",
              "      <td>0.007748</td>\n",
              "    </tr>\n",
              "    <tr>\n",
              "      <th>education_highschool</th>\n",
              "      <td>1</td>\n",
              "      <td>0.007748</td>\n",
              "    </tr>\n",
              "    <tr>\n",
              "      <th>education_some_college</th>\n",
              "      <td>1</td>\n",
              "      <td>0.007748</td>\n",
              "    </tr>\n",
              "    <tr>\n",
              "      <th>education_bachelors</th>\n",
              "      <td>1</td>\n",
              "      <td>0.007748</td>\n",
              "    </tr>\n",
              "    <tr>\n",
              "      <th>education_graduate</th>\n",
              "      <td>1</td>\n",
              "      <td>0.007748</td>\n",
              "    </tr>\n",
              "    <tr>\n",
              "      <th>education_college_or_above</th>\n",
              "      <td>1</td>\n",
              "      <td>0.007748</td>\n",
              "    </tr>\n",
              "    <tr>\n",
              "      <th>education_stem_degree</th>\n",
              "      <td>1</td>\n",
              "      <td>0.007748</td>\n",
              "    </tr>\n",
              "    <tr>\n",
              "      <th>labor_force_participation</th>\n",
              "      <td>1</td>\n",
              "      <td>0.007748</td>\n",
              "    </tr>\n",
              "    <tr>\n",
              "      <th>unemployment_rate</th>\n",
              "      <td>1</td>\n",
              "      <td>0.007748</td>\n",
              "    </tr>\n",
              "    <tr>\n",
              "      <th>self_employed</th>\n",
              "      <td>4</td>\n",
              "      <td>0.030993</td>\n",
              "    </tr>\n",
              "    <tr>\n",
              "      <th>farmer</th>\n",
              "      <td>4</td>\n",
              "      <td>0.030993</td>\n",
              "    </tr>\n",
              "    <tr>\n",
              "      <th>race_white</th>\n",
              "      <td>1</td>\n",
              "      <td>0.007748</td>\n",
              "    </tr>\n",
              "    <tr>\n",
              "      <th>race_black</th>\n",
              "      <td>1</td>\n",
              "      <td>0.007748</td>\n",
              "    </tr>\n",
              "    <tr>\n",
              "      <th>race_asian</th>\n",
              "      <td>1</td>\n",
              "      <td>0.007748</td>\n",
              "    </tr>\n",
              "    <tr>\n",
              "      <th>race_native</th>\n",
              "      <td>1</td>\n",
              "      <td>0.007748</td>\n",
              "    </tr>\n",
              "    <tr>\n",
              "      <th>race_pacific</th>\n",
              "      <td>1</td>\n",
              "      <td>0.007748</td>\n",
              "    </tr>\n",
              "    <tr>\n",
              "      <th>race_other</th>\n",
              "      <td>1</td>\n",
              "      <td>0.007748</td>\n",
              "    </tr>\n",
              "    <tr>\n",
              "      <th>race_multiple</th>\n",
              "      <td>1</td>\n",
              "      <td>0.007748</td>\n",
              "    </tr>\n",
              "    <tr>\n",
              "      <th>hispanic</th>\n",
              "      <td>1</td>\n",
              "      <td>0.007748</td>\n",
              "    </tr>\n",
              "    <tr>\n",
              "      <th>disabled</th>\n",
              "      <td>1</td>\n",
              "      <td>0.007748</td>\n",
              "    </tr>\n",
              "    <tr>\n",
              "      <th>poverty</th>\n",
              "      <td>4</td>\n",
              "      <td>0.030993</td>\n",
              "    </tr>\n",
              "    <tr>\n",
              "      <th>limited_english</th>\n",
              "      <td>4</td>\n",
              "      <td>0.030993</td>\n",
              "    </tr>\n",
              "    <tr>\n",
              "      <th>commute_time</th>\n",
              "      <td>1</td>\n",
              "      <td>0.007748</td>\n",
              "    </tr>\n",
              "    <tr>\n",
              "      <th>health_uninsured</th>\n",
              "      <td>1</td>\n",
              "      <td>0.007748</td>\n",
              "    </tr>\n",
              "    <tr>\n",
              "      <th>veteran</th>\n",
              "      <td>1</td>\n",
              "      <td>0.007748</td>\n",
              "    </tr>\n",
              "    <tr>\n",
              "      <th>Ozone</th>\n",
              "      <td>29</td>\n",
              "      <td>0.224702</td>\n",
              "    </tr>\n",
              "    <tr>\n",
              "      <th>PM25</th>\n",
              "      <td>29</td>\n",
              "      <td>0.224702</td>\n",
              "    </tr>\n",
              "    <tr>\n",
              "      <th>N02</th>\n",
              "      <td>29</td>\n",
              "      <td>0.224702</td>\n",
              "    </tr>\n",
              "  </tbody>\n",
              "</table>\n",
              "</div>\n",
              "    <div class=\"colab-df-buttons\">\n",
              "\n",
              "  <div class=\"colab-df-container\">\n",
              "    <button class=\"colab-df-convert\" onclick=\"convertToInteractive('df-edef7430-9007-4663-b0c2-684f053894c2')\"\n",
              "            title=\"Convert this dataframe to an interactive table.\"\n",
              "            style=\"display:none;\">\n",
              "\n",
              "  <svg xmlns=\"http://www.w3.org/2000/svg\" height=\"24px\" viewBox=\"0 -960 960 960\">\n",
              "    <path d=\"M120-120v-720h720v720H120Zm60-500h600v-160H180v160Zm220 220h160v-160H400v160Zm0 220h160v-160H400v160ZM180-400h160v-160H180v160Zm440 0h160v-160H620v160ZM180-180h160v-160H180v160Zm440 0h160v-160H620v160Z\"/>\n",
              "  </svg>\n",
              "    </button>\n",
              "\n",
              "  <style>\n",
              "    .colab-df-container {\n",
              "      display:flex;\n",
              "      gap: 12px;\n",
              "    }\n",
              "\n",
              "    .colab-df-convert {\n",
              "      background-color: #E8F0FE;\n",
              "      border: none;\n",
              "      border-radius: 50%;\n",
              "      cursor: pointer;\n",
              "      display: none;\n",
              "      fill: #1967D2;\n",
              "      height: 32px;\n",
              "      padding: 0 0 0 0;\n",
              "      width: 32px;\n",
              "    }\n",
              "\n",
              "    .colab-df-convert:hover {\n",
              "      background-color: #E2EBFA;\n",
              "      box-shadow: 0px 1px 2px rgba(60, 64, 67, 0.3), 0px 1px 3px 1px rgba(60, 64, 67, 0.15);\n",
              "      fill: #174EA6;\n",
              "    }\n",
              "\n",
              "    .colab-df-buttons div {\n",
              "      margin-bottom: 4px;\n",
              "    }\n",
              "\n",
              "    [theme=dark] .colab-df-convert {\n",
              "      background-color: #3B4455;\n",
              "      fill: #D2E3FC;\n",
              "    }\n",
              "\n",
              "    [theme=dark] .colab-df-convert:hover {\n",
              "      background-color: #434B5C;\n",
              "      box-shadow: 0px 1px 3px 1px rgba(0, 0, 0, 0.15);\n",
              "      filter: drop-shadow(0px 1px 2px rgba(0, 0, 0, 0.3));\n",
              "      fill: #FFFFFF;\n",
              "    }\n",
              "  </style>\n",
              "\n",
              "    <script>\n",
              "      const buttonEl =\n",
              "        document.querySelector('#df-edef7430-9007-4663-b0c2-684f053894c2 button.colab-df-convert');\n",
              "      buttonEl.style.display =\n",
              "        google.colab.kernel.accessAllowed ? 'block' : 'none';\n",
              "\n",
              "      async function convertToInteractive(key) {\n",
              "        const element = document.querySelector('#df-edef7430-9007-4663-b0c2-684f053894c2');\n",
              "        const dataTable =\n",
              "          await google.colab.kernel.invokeFunction('convertToInteractive',\n",
              "                                                    [key], {});\n",
              "        if (!dataTable) return;\n",
              "\n",
              "        const docLinkHtml = 'Like what you see? Visit the ' +\n",
              "          '<a target=\"_blank\" href=https://colab.research.google.com/notebooks/data_table.ipynb>data table notebook</a>'\n",
              "          + ' to learn more about interactive tables.';\n",
              "        element.innerHTML = '';\n",
              "        dataTable['output_type'] = 'display_data';\n",
              "        await google.colab.output.renderOutput(dataTable, element);\n",
              "        const docLink = document.createElement('div');\n",
              "        docLink.innerHTML = docLinkHtml;\n",
              "        element.appendChild(docLink);\n",
              "      }\n",
              "    </script>\n",
              "  </div>\n",
              "\n",
              "\n",
              "<div id=\"df-e3727072-d168-4cf3-87ab-563685c8f692\">\n",
              "  <button class=\"colab-df-quickchart\" onclick=\"quickchart('df-e3727072-d168-4cf3-87ab-563685c8f692')\"\n",
              "            title=\"Suggest charts\"\n",
              "            style=\"display:none;\">\n",
              "\n",
              "<svg xmlns=\"http://www.w3.org/2000/svg\" height=\"24px\"viewBox=\"0 0 24 24\"\n",
              "     width=\"24px\">\n",
              "    <g>\n",
              "        <path d=\"M19 3H5c-1.1 0-2 .9-2 2v14c0 1.1.9 2 2 2h14c1.1 0 2-.9 2-2V5c0-1.1-.9-2-2-2zM9 17H7v-7h2v7zm4 0h-2V7h2v10zm4 0h-2v-4h2v4z\"/>\n",
              "    </g>\n",
              "</svg>\n",
              "  </button>\n",
              "\n",
              "<style>\n",
              "  .colab-df-quickchart {\n",
              "      --bg-color: #E8F0FE;\n",
              "      --fill-color: #1967D2;\n",
              "      --hover-bg-color: #E2EBFA;\n",
              "      --hover-fill-color: #174EA6;\n",
              "      --disabled-fill-color: #AAA;\n",
              "      --disabled-bg-color: #DDD;\n",
              "  }\n",
              "\n",
              "  [theme=dark] .colab-df-quickchart {\n",
              "      --bg-color: #3B4455;\n",
              "      --fill-color: #D2E3FC;\n",
              "      --hover-bg-color: #434B5C;\n",
              "      --hover-fill-color: #FFFFFF;\n",
              "      --disabled-bg-color: #3B4455;\n",
              "      --disabled-fill-color: #666;\n",
              "  }\n",
              "\n",
              "  .colab-df-quickchart {\n",
              "    background-color: var(--bg-color);\n",
              "    border: none;\n",
              "    border-radius: 50%;\n",
              "    cursor: pointer;\n",
              "    display: none;\n",
              "    fill: var(--fill-color);\n",
              "    height: 32px;\n",
              "    padding: 0;\n",
              "    width: 32px;\n",
              "  }\n",
              "\n",
              "  .colab-df-quickchart:hover {\n",
              "    background-color: var(--hover-bg-color);\n",
              "    box-shadow: 0 1px 2px rgba(60, 64, 67, 0.3), 0 1px 3px 1px rgba(60, 64, 67, 0.15);\n",
              "    fill: var(--button-hover-fill-color);\n",
              "  }\n",
              "\n",
              "  .colab-df-quickchart-complete:disabled,\n",
              "  .colab-df-quickchart-complete:disabled:hover {\n",
              "    background-color: var(--disabled-bg-color);\n",
              "    fill: var(--disabled-fill-color);\n",
              "    box-shadow: none;\n",
              "  }\n",
              "\n",
              "  .colab-df-spinner {\n",
              "    border: 2px solid var(--fill-color);\n",
              "    border-color: transparent;\n",
              "    border-bottom-color: var(--fill-color);\n",
              "    animation:\n",
              "      spin 1s steps(1) infinite;\n",
              "  }\n",
              "\n",
              "  @keyframes spin {\n",
              "    0% {\n",
              "      border-color: transparent;\n",
              "      border-bottom-color: var(--fill-color);\n",
              "      border-left-color: var(--fill-color);\n",
              "    }\n",
              "    20% {\n",
              "      border-color: transparent;\n",
              "      border-left-color: var(--fill-color);\n",
              "      border-top-color: var(--fill-color);\n",
              "    }\n",
              "    30% {\n",
              "      border-color: transparent;\n",
              "      border-left-color: var(--fill-color);\n",
              "      border-top-color: var(--fill-color);\n",
              "      border-right-color: var(--fill-color);\n",
              "    }\n",
              "    40% {\n",
              "      border-color: transparent;\n",
              "      border-right-color: var(--fill-color);\n",
              "      border-top-color: var(--fill-color);\n",
              "    }\n",
              "    60% {\n",
              "      border-color: transparent;\n",
              "      border-right-color: var(--fill-color);\n",
              "    }\n",
              "    80% {\n",
              "      border-color: transparent;\n",
              "      border-right-color: var(--fill-color);\n",
              "      border-bottom-color: var(--fill-color);\n",
              "    }\n",
              "    90% {\n",
              "      border-color: transparent;\n",
              "      border-bottom-color: var(--fill-color);\n",
              "    }\n",
              "  }\n",
              "</style>\n",
              "\n",
              "  <script>\n",
              "    async function quickchart(key) {\n",
              "      const quickchartButtonEl =\n",
              "        document.querySelector('#' + key + ' button');\n",
              "      quickchartButtonEl.disabled = true;  // To prevent multiple clicks.\n",
              "      quickchartButtonEl.classList.add('colab-df-spinner');\n",
              "      try {\n",
              "        const charts = await google.colab.kernel.invokeFunction(\n",
              "            'suggestCharts', [key], {});\n",
              "      } catch (error) {\n",
              "        console.error('Error during call to suggestCharts:', error);\n",
              "      }\n",
              "      quickchartButtonEl.classList.remove('colab-df-spinner');\n",
              "      quickchartButtonEl.classList.add('colab-df-quickchart-complete');\n",
              "    }\n",
              "    (() => {\n",
              "      let quickchartButtonEl =\n",
              "        document.querySelector('#df-e3727072-d168-4cf3-87ab-563685c8f692 button');\n",
              "      quickchartButtonEl.style.display =\n",
              "        google.colab.kernel.accessAllowed ? 'block' : 'none';\n",
              "    })();\n",
              "  </script>\n",
              "</div>\n",
              "\n",
              "    </div>\n",
              "  </div>\n"
            ],
            "application/vnd.google.colaboratory.intrinsic+json": {
              "type": "dataframe",
              "summary": "{\n  \"name\": \"check_missing_values(df_train_dropped_columns)\",\n  \"rows\": 71,\n  \"fields\": [\n    {\n      \"column\": \"Missing Values\",\n      \"properties\": {\n        \"dtype\": \"number\",\n        \"std\": 213,\n        \"min\": 1,\n        \"max\": 1803,\n        \"num_unique_values\": 6,\n        \"samples\": [\n          1803,\n          51,\n          29\n        ],\n        \"semantic_type\": \"\",\n        \"description\": \"\"\n      }\n    },\n    {\n      \"column\": \"Percentage\",\n      \"properties\": {\n        \"dtype\": \"number\",\n        \"std\": 1.6553525645415568,\n        \"min\": 0.007748334108166744,\n        \"max\": 13.97024639702464,\n        \"num_unique_values\": 6,\n        \"samples\": [\n          13.97024639702464,\n          0.39516503951650395,\n          0.22470168913683558\n        ],\n        \"semantic_type\": \"\",\n        \"description\": \"\"\n      }\n    }\n  ]\n}"
            }
          },
          "metadata": {},
          "execution_count": 36
        }
      ]
    },
    {
      "cell_type": "code",
      "source": [
        "df_dropped_missing_values = df_train_dropped_columns.dropna()\n",
        "\n",
        "print(\"No. of records before dropping missing values : \",df_train_dropped_columns.shape[0])\n",
        "print(\"No. of records after dropping missing values : \",df_dropped_missing_values.shape[0])"
      ],
      "metadata": {
        "execution": {
          "iopub.status.busy": "2024-05-03T02:26:57.71755Z",
          "iopub.execute_input": "2024-05-03T02:26:57.717936Z",
          "iopub.status.idle": "2024-05-03T02:26:57.734748Z",
          "shell.execute_reply.started": "2024-05-03T02:26:57.717909Z",
          "shell.execute_reply": "2024-05-03T02:26:57.733381Z"
        },
        "trusted": true,
        "id": "BIdR8k1Kt_xl",
        "outputId": "1b903da1-feea-4685-d50e-298ce0e5dcda",
        "colab": {
          "base_uri": "https://localhost:8080/"
        }
      },
      "execution_count": null,
      "outputs": [
        {
          "output_type": "stream",
          "name": "stdout",
          "text": [
            "No. of records before dropping missing values :  12906\n",
            "No. of records after dropping missing values :  11043\n"
          ]
        }
      ]
    },
    {
      "cell_type": "code",
      "source": [
        "df_train = df_dropped_missing_values.copy()"
      ],
      "metadata": {
        "execution": {
          "iopub.status.busy": "2024-05-03T02:27:04.997877Z",
          "iopub.execute_input": "2024-05-03T02:27:04.998252Z",
          "iopub.status.idle": "2024-05-03T02:27:05.007246Z",
          "shell.execute_reply.started": "2024-05-03T02:27:04.998225Z",
          "shell.execute_reply": "2024-05-03T02:27:05.006147Z"
        },
        "trusted": true,
        "id": "yiZWHpmct_xm"
      },
      "execution_count": null,
      "outputs": []
    },
    {
      "cell_type": "code",
      "source": [
        "# Drop the same columns from test set\n",
        "df_test = df_test.drop(columns=dropped_columns)\n",
        "#Drop rest of the missing values in test set\n",
        "df_test.dropna(inplace=True)"
      ],
      "metadata": {
        "execution": {
          "iopub.status.busy": "2024-05-03T02:27:11.210389Z",
          "iopub.execute_input": "2024-05-03T02:27:11.210765Z",
          "iopub.status.idle": "2024-05-03T02:27:11.226593Z",
          "shell.execute_reply.started": "2024-05-03T02:27:11.210739Z",
          "shell.execute_reply": "2024-05-03T02:27:11.225601Z"
        },
        "trusted": true,
        "id": "oC9vZGWot_xm"
      },
      "execution_count": null,
      "outputs": []
    },
    {
      "cell_type": "code",
      "source": [
        "#Check the shapes of train and test set\n",
        "print(\"Train set shape: \",df_train.shape)\n",
        "print(\"Test set shape: \",df_test.shape)"
      ],
      "metadata": {
        "execution": {
          "iopub.status.busy": "2024-05-03T02:27:17.611868Z",
          "iopub.execute_input": "2024-05-03T02:27:17.612281Z",
          "iopub.status.idle": "2024-05-03T02:27:17.617655Z",
          "shell.execute_reply.started": "2024-05-03T02:27:17.612236Z",
          "shell.execute_reply": "2024-05-03T02:27:17.616602Z"
        },
        "trusted": true,
        "id": "6hDQldC0t_xm",
        "outputId": "d3029876-c305-4eb5-a98b-daadb65da868",
        "colab": {
          "base_uri": "https://localhost:8080/"
        }
      },
      "execution_count": null,
      "outputs": [
        {
          "output_type": "stream",
          "name": "stdout",
          "text": [
            "Train set shape:  (11043, 79)\n",
            "Test set shape:  (4999, 78)\n"
          ]
        }
      ]
    },
    {
      "cell_type": "code",
      "source": [
        "#check for imbalace classes\n",
        "import pandas as pd\n",
        "import matplotlib.pyplot as plt\n",
        "\n",
        "def check_class_distribution(df):\n",
        "\n",
        "    # Count the number of classes\n",
        "    class_counts = df[\"DiagPeriodL90D\"].value_counts()\n",
        "\n",
        "    # Display the number of instances per class\n",
        "    print(\"No. of instances per class\")\n",
        "    print(class_counts)\n",
        "\n",
        "    # Plotting the bar graph for class distribution\n",
        "    plt.bar(class_counts.index, class_counts.values)\n",
        "    plt.xlabel('Classes')\n",
        "    plt.ylabel('Frequency')\n",
        "    plt.title('Class Distribution')\n",
        "    plt.xticks(rotation=45)\n",
        "    plt.show()\n",
        "\n",
        "\n",
        "check_class_distribution(df_train)"
      ],
      "metadata": {
        "execution": {
          "iopub.status.busy": "2024-05-03T02:27:52.723951Z",
          "iopub.execute_input": "2024-05-03T02:27:52.724958Z",
          "iopub.status.idle": "2024-05-03T02:27:52.944197Z",
          "shell.execute_reply.started": "2024-05-03T02:27:52.724919Z",
          "shell.execute_reply": "2024-05-03T02:27:52.94315Z"
        },
        "trusted": true,
        "id": "2l2G723st_xm",
        "outputId": "7dddad19-170c-4866-9312-aab2e25b047f",
        "colab": {
          "base_uri": "https://localhost:8080/",
          "height": 584
        }
      },
      "execution_count": null,
      "outputs": [
        {
          "output_type": "stream",
          "name": "stdout",
          "text": [
            "No. of instances per class\n",
            "DiagPeriodL90D\n",
            "1    6753\n",
            "0    4290\n",
            "Name: count, dtype: int64\n"
          ]
        },
        {
          "output_type": "display_data",
          "data": {
            "text/plain": [
              "<Figure size 640x480 with 1 Axes>"
            ],
            "image/png": "[encoded data removed]"
          },
          "metadata": {}
        }
      ]
    },
    {
      "cell_type": "code",
      "source": [
        "from sklearn.utils import resample\n",
        "\n",
        "# Separate the majority and minority classes\n",
        "majority_class = df_train[df_train['DiagPeriodL90D'] == 1]\n",
        "minority_class = df_train[df_train['DiagPeriodL90D'] == 0]\n",
        "\n",
        "# Randomly undersample the majority class to match the minority class size\n",
        "majority_downsampled = resample(majority_class, replace=False, n_samples=len(minority_class), random_state=42)\n",
        "\n",
        "# Combine the downsampled majority class with the minority class\n",
        "balanced_df = pd.concat([majority_downsampled, minority_class])\n",
        "\n",
        "# Shuffle the rows in the balanced DataFrame to mix the classes\n",
        "balanced_df = balanced_df.sample(frac=1, random_state=42)\n",
        "\n",
        "df_train = balanced_df.copy()"
      ],
      "metadata": {
        "execution": {
          "iopub.status.busy": "2024-05-03T02:32:34.156797Z",
          "iopub.execute_input": "2024-05-03T02:32:34.157215Z",
          "iopub.status.idle": "2024-05-03T02:32:34.19616Z",
          "shell.execute_reply.started": "2024-05-03T02:32:34.157187Z",
          "shell.execute_reply": "2024-05-03T02:32:34.195198Z"
        },
        "trusted": true,
        "id": "yHTnCXKVt_xm"
      },
      "execution_count": null,
      "outputs": []
    },
    {
      "cell_type": "code",
      "source": [
        "check_class_distribution(df_train)"
      ],
      "metadata": {
        "execution": {
          "iopub.status.busy": "2024-05-03T02:32:39.915069Z",
          "iopub.execute_input": "2024-05-03T02:32:39.916248Z",
          "iopub.status.idle": "2024-05-03T02:32:40.158177Z",
          "shell.execute_reply.started": "2024-05-03T02:32:39.916208Z",
          "shell.execute_reply": "2024-05-03T02:32:40.157136Z"
        },
        "trusted": true,
        "id": "_EdKcKZBt_xm",
        "outputId": "5bc1a2c1-9db4-4191-e105-a239856e5688",
        "colab": {
          "base_uri": "https://localhost:8080/",
          "height": 584
        }
      },
      "execution_count": null,
      "outputs": [
        {
          "output_type": "stream",
          "name": "stdout",
          "text": [
            "No. of instances per class\n",
            "DiagPeriodL90D\n",
            "0    4290\n",
            "1    4290\n",
            "Name: count, dtype: int64\n"
          ]
        },
        {
          "output_type": "display_data",
          "data": {
            "text/plain": [
              "<Figure size 640x480 with 1 Axes>"
            ],
            "image/png": "[encoded data removed]"
          },
          "metadata": {}
        }
      ]
    },
    {
      "cell_type": "markdown",
      "source": [
        "**CATEGORICAL VARIABLES:**\n",
        "Converting categorical variables to numerical values for machine learning"
      ],
      "metadata": {
        "id": "66iwSyvo1i7F"
      }
    },
    {
      "cell_type": "code",
      "source": [
        "categorical_cols = df_train.select_dtypes(include=['object', 'category']).columns\n",
        "\n",
        "le = LabelEncoder()\n",
        "\n",
        "# Apply LabelEncoder to each categorical column\n",
        "for col in categorical_cols:\n",
        "    df_train[col] = le.fit_transform(df_train[col])\n",
        "    df_test[col] = le.fit_transform(df_test[col])"
      ],
      "metadata": {
        "execution": {
          "iopub.status.busy": "2024-05-03T02:32:51.930421Z",
          "iopub.execute_input": "2024-05-03T02:32:51.931126Z",
          "iopub.status.idle": "2024-05-03T02:32:51.970168Z",
          "shell.execute_reply.started": "2024-05-03T02:32:51.931092Z",
          "shell.execute_reply": "2024-05-03T02:32:51.969248Z"
        },
        "trusted": true,
        "id": "7XQVHWptt_xm"
      },
      "execution_count": null,
      "outputs": []
    },
    {
      "cell_type": "markdown",
      "source": [
        "**TRAINING:**\n",
        "Logistic Regression was used"
      ],
      "metadata": {
        "id": "N_AS43zk15QM"
      }
    },
    {
      "cell_type": "code",
      "source": [
        "#seperate train into training features and target\n",
        "X = df_train.drop('DiagPeriodL90D', axis=1)\n",
        "y = df_train['DiagPeriodL90D']"
      ],
      "metadata": {
        "execution": {
          "iopub.status.busy": "2024-05-03T02:33:01.327479Z",
          "iopub.execute_input": "2024-05-03T02:33:01.327886Z",
          "iopub.status.idle": "2024-05-03T02:33:01.337096Z",
          "shell.execute_reply.started": "2024-05-03T02:33:01.327856Z",
          "shell.execute_reply": "2024-05-03T02:33:01.335721Z"
        },
        "trusted": true,
        "id": "bo5aA7cdt_xm"
      },
      "execution_count": null,
      "outputs": []
    },
    {
      "cell_type": "code",
      "source": [
        "#splitting the training set\n",
        "from sklearn.model_selection import train_test_split\n",
        "X_train, X_val, y_train, y_val = train_test_split(X, y, test_size=0.2, random_state=42)"
      ],
      "metadata": {
        "execution": {
          "iopub.status.busy": "2024-05-03T02:33:08.583498Z",
          "iopub.execute_input": "2024-05-03T02:33:08.583914Z",
          "iopub.status.idle": "2024-05-03T02:33:08.601705Z",
          "shell.execute_reply.started": "2024-05-03T02:33:08.583884Z",
          "shell.execute_reply": "2024-05-03T02:33:08.600532Z"
        },
        "trusted": true,
        "id": "xACSHmyPt_xm"
      },
      "execution_count": null,
      "outputs": []
    },
    {
      "cell_type": "code",
      "source": [
        "#fitting the model\n",
        "from sklearn.linear_model import LogisticRegression\n",
        "\n",
        "# Initialize the classifier\n",
        "log_reg = LogisticRegression(max_iter=1000, solver='sag')\n",
        "\n",
        "# Train the classifier\n",
        "log_reg.fit(X_train, y_train)"
      ],
      "metadata": {
        "execution": {
          "iopub.status.busy": "2024-05-03T02:34:27.391629Z",
          "iopub.execute_input": "2024-05-03T02:34:27.392505Z",
          "iopub.status.idle": "2024-05-03T02:34:38.266944Z",
          "shell.execute_reply.started": "2024-05-03T02:34:27.392467Z",
          "shell.execute_reply": "2024-05-03T02:34:38.265822Z"
        },
        "trusted": true,
        "id": "uIfokDeGt_xn",
        "outputId": "455b0562-2057-41e7-ce08-6164aa85278a",
        "colab": {
          "base_uri": "https://localhost:8080/",
          "height": 75
        }
      },
      "execution_count": null,
      "outputs": [
        {
          "output_type": "execute_result",
          "data": {
            "text/plain": [
              "LogisticRegression(max_iter=1000, solver='sag')"
            ],
            "text/html": [
              "<style>#sk-container-id-1 {color: black;background-color: white;}#sk-container-id-1 pre{padding: 0;}#sk-container-id-1 div.sk-toggleable {background-color: white;}#sk-container-id-1 label.sk-toggleable__label {cursor: pointer;display: block;width: 100%;margin-bottom: 0;padding: 0.3em;box-sizing: border-box;text-align: center;}#sk-container-id-1 label.sk-toggleable__label-arrow:before {content: \"▸\";float: left;margin-right: 0.25em;color: #696969;}#sk-container-id-1 label.sk-toggleable__label-arrow:hover:before {color: black;}#sk-container-id-1 div.sk-estimator:hover label.sk-toggleable__label-arrow:before {color: black;}#sk-container-id-1 div.sk-toggleable__content {max-height: 0;max-width: 0;overflow: hidden;text-align: left;background-color: #f0f8ff;}#sk-container-id-1 div.sk-toggleable__content pre {margin: 0.2em;color: black;border-radius: 0.25em;background-color: #f0f8ff;}#sk-container-id-1 input.sk-toggleable__control:checked~div.sk-toggleable__content {max-height: 200px;max-width: 100%;overflow: auto;}#sk-container-id-1 input.sk-toggleable__control:checked~label.sk-toggleable__label-arrow:before {content: \"▾\";}#sk-container-id-1 div.sk-estimator input.sk-toggleable__control:checked~label.sk-toggleable__label {background-color: #d4ebff;}#sk-container-id-1 div.sk-label input.sk-toggleable__control:checked~label.sk-toggleable__label {background-color: #d4ebff;}#sk-container-id-1 input.sk-hidden--visually {border: 0;clip: rect(1px 1px 1px 1px);clip: rect(1px, 1px, 1px, 1px);height: 1px;margin: -1px;overflow: hidden;padding: 0;position: absolute;width: 1px;}#sk-container-id-1 div.sk-estimator {font-family: monospace;background-color: #f0f8ff;border: 1px dotted black;border-radius: 0.25em;box-sizing: border-box;margin-bottom: 0.5em;}#sk-container-id-1 div.sk-estimator:hover {background-color: #d4ebff;}#sk-container-id-1 div.sk-parallel-item::after {content: \"\";width: 100%;border-bottom: 1px solid gray;flex-grow: 1;}#sk-container-id-1 div.sk-label:hover label.sk-toggleable__label {background-color: #d4ebff;}#sk-container-id-1 div.sk-serial::before {content: \"\";position: absolute;border-left: 1px solid gray;box-sizing: border-box;top: 0;bottom: 0;left: 50%;z-index: 0;}#sk-container-id-1 div.sk-serial {display: flex;flex-direction: column;align-items: center;background-color: white;padding-right: 0.2em;padding-left: 0.2em;position: relative;}#sk-container-id-1 div.sk-item {position: relative;z-index: 1;}#sk-container-id-1 div.sk-parallel {display: flex;align-items: stretch;justify-content: center;background-color: white;position: relative;}#sk-container-id-1 div.sk-item::before, #sk-container-id-1 div.sk-parallel-item::before {content: \"\";position: absolute;border-left: 1px solid gray;box-sizing: border-box;top: 0;bottom: 0;left: 50%;z-index: -1;}#sk-container-id-1 div.sk-parallel-item {display: flex;flex-direction: column;z-index: 1;position: relative;background-color: white;}#sk-container-id-1 div.sk-parallel-item:first-child::after {align-self: flex-end;width: 50%;}#sk-container-id-1 div.sk-parallel-item:last-child::after {align-self: flex-start;width: 50%;}#sk-container-id-1 div.sk-parallel-item:only-child::after {width: 0;}#sk-container-id-1 div.sk-dashed-wrapped {border: 1px dashed gray;margin: 0 0.4em 0.5em 0.4em;box-sizing: border-box;padding-bottom: 0.4em;background-color: white;}#sk-container-id-1 div.sk-label label {font-family: monospace;font-weight: bold;display: inline-block;line-height: 1.2em;}#sk-container-id-1 div.sk-label-container {text-align: center;}#sk-container-id-1 div.sk-container {/* jupyter's `normalize.less` sets `[hidden] { display: none; }` but bootstrap.min.css set `[hidden] { display: none !important; }` so we also need the `!important` here to be able to override the default hidden behavior on the sphinx rendered scikit-learn.org. See: https://github.com/scikit-learn/scikit-learn/issues/21755 */display: inline-block !important;position: relative;}#sk-container-id-1 div.sk-text-repr-fallback {display: none;}</style><div id=\"sk-container-id-1\" class=\"sk-top-container\"><div class=\"sk-text-repr-fallback\"><pre>LogisticRegression(max_iter=1000, solver=&#x27;sag&#x27;)</pre><b>In a Jupyter environment, please rerun this cell to show the HTML representation or trust the notebook. <br />On GitHub, the HTML representation is unable to render, please try loading this page with nbviewer.org.</b></div><div class=\"sk-container\" hidden><div class=\"sk-item\"><div class=\"sk-estimator sk-toggleable\"><input class=\"sk-toggleable__control sk-hidden--visually\" id=\"sk-estimator-id-1\" type=\"checkbox\" checked><label for=\"sk-estimator-id-1\" class=\"sk-toggleable__label sk-toggleable__label-arrow\">LogisticRegression</label><div class=\"sk-toggleable__content\"><pre>LogisticRegression(max_iter=1000, solver=&#x27;sag&#x27;)</pre></div></div></div></div></div>"
            ]
          },
          "metadata": {},
          "execution_count": 47
        }
      ]
    },
    {
      "cell_type": "code",
      "source": [
        "from sklearn.model_selection import cross_val_score\n",
        "#Perform 5-fold cross-validation\n",
        "cv_scores = cross_val_score(log_reg, X_train, y_train, cv=5)\n",
        "\n",
        "print(\"Cross-validation scores:\", cv_scores)\n",
        "print(\"Mean cross-validation score:\", cv_scores.mean())"
      ],
      "metadata": {
        "execution": {
          "iopub.status.busy": "2024-05-03T02:35:04.051366Z",
          "iopub.execute_input": "2024-05-03T02:35:04.051731Z",
          "iopub.status.idle": "2024-05-03T02:35:47.127085Z",
          "shell.execute_reply.started": "2024-05-03T02:35:04.051705Z",
          "shell.execute_reply": "2024-05-03T02:35:47.122765Z"
        },
        "trusted": true,
        "id": "xiqgHiwut_xn",
        "outputId": "4339b1ae-8c80-4ed7-a3eb-a79a504e5a80",
        "colab": {
          "base_uri": "https://localhost:8080/"
        }
      },
      "execution_count": null,
      "outputs": [
        {
          "output_type": "stream",
          "name": "stdout",
          "text": [
            "Cross-validation scores: [0.51857247 0.52367079 0.50764749 0.53095412 0.49125364]\n",
            "Mean cross-validation score: 0.5144197019146854\n"
          ]
        }
      ]
    },
    {
      "cell_type": "code",
      "source": [
        "from sklearn.metrics import accuracy_score, precision_score, recall_score, f1_score, confusion_matrix\n",
        "\n",
        "# Make predictions on the test set\n",
        "y_pred = log_reg.predict(X_val)\n",
        "\n",
        "# Calculate evaluation metrics\n",
        "accuracy = accuracy_score(y_val, y_pred)\n",
        "precision = precision_score(y_val, y_pred)\n",
        "recall = recall_score(y_val, y_pred)\n",
        "f1 = f1_score(y_val, y_pred)\n",
        "confusion = confusion_matrix(y_val, y_pred)\n",
        "\n",
        "# Print the evaluation metrics\n",
        "print(\"Accuracy:\", accuracy)\n",
        "print(\"Precision:\", precision)\n",
        "print(\"Recall:\", recall)\n",
        "print(\"F1 Score:\", f1)\n",
        "print(\"Confusion Matrix:\\n\", confusion)"
      ],
      "metadata": {
        "execution": {
          "iopub.status.busy": "2024-05-03T02:35:56.253687Z",
          "iopub.execute_input": "2024-05-03T02:35:56.254086Z",
          "iopub.status.idle": "2024-05-03T02:35:56.300171Z",
          "shell.execute_reply.started": "2024-05-03T02:35:56.254056Z",
          "shell.execute_reply": "2024-05-03T02:35:56.299046Z"
        },
        "trusted": true,
        "id": "riRel8s4t_xn",
        "outputId": "953b2a55-e474-4985-f19c-c4592fbc00df",
        "colab": {
          "base_uri": "https://localhost:8080/"
        }
      },
      "execution_count": null,
      "outputs": [
        {
          "output_type": "stream",
          "name": "stdout",
          "text": [
            "Accuracy: 0.5081585081585082\n",
            "Precision: 0.5052770448548812\n",
            "Recall: 0.4495305164319249\n",
            "F1 Score: 0.4757763975155279\n",
            "Confusion Matrix:\n",
            " [[489 375]\n",
            " [469 383]]\n"
          ]
        }
      ]
    },
    {
      "cell_type": "code",
      "source": [
        "#predict on our final test set\n",
        "predictions = log_reg.predict_proba(df_test)\n",
        "predictions = predictions[:,1]"
      ],
      "metadata": {
        "execution": {
          "iopub.status.busy": "2024-05-03T02:36:09.323465Z",
          "iopub.execute_input": "2024-05-03T02:36:09.323844Z",
          "iopub.status.idle": "2024-05-03T02:36:09.336532Z",
          "shell.execute_reply.started": "2024-05-03T02:36:09.323819Z",
          "shell.execute_reply": "2024-05-03T02:36:09.335512Z"
        },
        "trusted": true,
        "id": "qn-yAWept_xn"
      },
      "execution_count": null,
      "outputs": []
    },
    {
      "cell_type": "code",
      "source": [
        "submission_df = pd.DataFrame({\n",
        "    'patient_id': df_test['patient_id'],\n",
        "    'DiagPeriodL90D': predictions\n",
        "})\n",
        "submission_df.head()"
      ],
      "metadata": {
        "execution": {
          "iopub.status.busy": "2024-05-03T02:36:44.73169Z",
          "iopub.execute_input": "2024-05-03T02:36:44.732215Z",
          "iopub.status.idle": "2024-05-03T02:36:44.743153Z",
          "shell.execute_reply.started": "2024-05-03T02:36:44.732175Z",
          "shell.execute_reply": "2024-05-03T02:36:44.742332Z"
        },
        "trusted": true,
        "id": "oUzRWrndt_xn",
        "outputId": "c6ea6c25-d874-452e-b0a0-378b53a20153",
        "colab": {
          "base_uri": "https://localhost:8080/",
          "height": 206
        }
      },
      "execution_count": null,
      "outputs": [
        {
          "output_type": "execute_result",
          "data": {
            "text/plain": [
              "   patient_id  DiagPeriodL90D\n",
              "0      573710        0.493498\n",
              "1      593679        0.508171\n",
              "2      184532        0.500074\n",
              "3      447383        0.494867\n",
              "5      281312        0.490093"
            ],
            "text/html": [
              "\n",
              "  <div id=\"df-d388bafd-66ff-4986-b416-5a266da77931\" class=\"colab-df-container\">\n",
              "    <div>\n",
              "<style scoped>\n",
              "    .dataframe tbody tr th:only-of-type {\n",
              "        vertical-align: middle;\n",
              "    }\n",
              "\n",
              "    .dataframe tbody tr th {\n",
              "        vertical-align: top;\n",
              "    }\n",
              "\n",
              "    .dataframe thead th {\n",
              "        text-align: right;\n",
              "    }\n",
              "</style>\n",
              "<table border=\"1\" class=\"dataframe\">\n",
              "  <thead>\n",
              "    <tr style=\"text-align: right;\">\n",
              "      <th></th>\n",
              "      <th>patient_id</th>\n",
              "      <th>DiagPeriodL90D</th>\n",
              "    </tr>\n",
              "  </thead>\n",
              "  <tbody>\n",
              "    <tr>\n",
              "      <th>0</th>\n",
              "      <td>573710</td>\n",
              "      <td>0.493498</td>\n",
              "    </tr>\n",
              "    <tr>\n",
              "      <th>1</th>\n",
              "      <td>593679</td>\n",
              "      <td>0.508171</td>\n",
              "    </tr>\n",
              "    <tr>\n",
              "      <th>2</th>\n",
              "      <td>184532</td>\n",
              "      <td>0.500074</td>\n",
              "    </tr>\n",
              "    <tr>\n",
              "      <th>3</th>\n",
              "      <td>447383</td>\n",
              "      <td>0.494867</td>\n",
              "    </tr>\n",
              "    <tr>\n",
              "      <th>5</th>\n",
              "      <td>281312</td>\n",
              "      <td>0.490093</td>\n",
              "    </tr>\n",
              "  </tbody>\n",
              "</table>\n",
              "</div>\n",
              "    <div class=\"colab-df-buttons\">\n",
              "\n",
              "  <div class=\"colab-df-container\">\n",
              "    <button class=\"colab-df-convert\" onclick=\"convertToInteractive('df-d388bafd-66ff-4986-b416-5a266da77931')\"\n",
              "            title=\"Convert this dataframe to an interactive table.\"\n",
              "            style=\"display:none;\">\n",
              "\n",
              "  <svg xmlns=\"http://www.w3.org/2000/svg\" height=\"24px\" viewBox=\"0 -960 960 960\">\n",
              "    <path d=\"M120-120v-720h720v720H120Zm60-500h600v-160H180v160Zm220 220h160v-160H400v160Zm0 220h160v-160H400v160ZM180-400h160v-160H180v160Zm440 0h160v-160H620v160ZM180-180h160v-160H180v160Zm440 0h160v-160H620v160Z\"/>\n",
              "  </svg>\n",
              "    </button>\n",
              "\n",
              "  <style>\n",
              "    .colab-df-container {\n",
              "      display:flex;\n",
              "      gap: 12px;\n",
              "    }\n",
              "\n",
              "    .colab-df-convert {\n",
              "      background-color: #E8F0FE;\n",
              "      border: none;\n",
              "      border-radius: 50%;\n",
              "      cursor: pointer;\n",
              "      display: none;\n",
              "      fill: #1967D2;\n",
              "      height: 32px;\n",
              "      padding: 0 0 0 0;\n",
              "      width: 32px;\n",
              "    }\n",
              "\n",
              "    .colab-df-convert:hover {\n",
              "      background-color: #E2EBFA;\n",
              "      box-shadow: 0px 1px 2px rgba(60, 64, 67, 0.3), 0px 1px 3px 1px rgba(60, 64, 67, 0.15);\n",
              "      fill: #174EA6;\n",
              "    }\n",
              "\n",
              "    .colab-df-buttons div {\n",
              "      margin-bottom: 4px;\n",
              "    }\n",
              "\n",
              "    [theme=dark] .colab-df-convert {\n",
              "      background-color: #3B4455;\n",
              "      fill: #D2E3FC;\n",
              "    }\n",
              "\n",
              "    [theme=dark] .colab-df-convert:hover {\n",
              "      background-color: #434B5C;\n",
              "      box-shadow: 0px 1px 3px 1px rgba(0, 0, 0, 0.15);\n",
              "      filter: drop-shadow(0px 1px 2px rgba(0, 0, 0, 0.3));\n",
              "      fill: #FFFFFF;\n",
              "    }\n",
              "  </style>\n",
              "\n",
              "    <script>\n",
              "      const buttonEl =\n",
              "        document.querySelector('#df-d388bafd-66ff-4986-b416-5a266da77931 button.colab-df-convert');\n",
              "      buttonEl.style.display =\n",
              "        google.colab.kernel.accessAllowed ? 'block' : 'none';\n",
              "\n",
              "      async function convertToInteractive(key) {\n",
              "        const element = document.querySelector('#df-d388bafd-66ff-4986-b416-5a266da77931');\n",
              "        const dataTable =\n",
              "          await google.colab.kernel.invokeFunction('convertToInteractive',\n",
              "                                                    [key], {});\n",
              "        if (!dataTable) return;\n",
              "\n",
              "        const docLinkHtml = 'Like what you see? Visit the ' +\n",
              "          '<a target=\"_blank\" href=https://colab.research.google.com/notebooks/data_table.ipynb>data table notebook</a>'\n",
              "          + ' to learn more about interactive tables.';\n",
              "        element.innerHTML = '';\n",
              "        dataTable['output_type'] = 'display_data';\n",
              "        await google.colab.output.renderOutput(dataTable, element);\n",
              "        const docLink = document.createElement('div');\n",
              "        docLink.innerHTML = docLinkHtml;\n",
              "        element.appendChild(docLink);\n",
              "      }\n",
              "    </script>\n",
              "  </div>\n",
              "\n",
              "\n",
              "<div id=\"df-bade72fa-b5d4-409f-80c0-386cab9bed1d\">\n",
              "  <button class=\"colab-df-quickchart\" onclick=\"quickchart('df-bade72fa-b5d4-409f-80c0-386cab9bed1d')\"\n",
              "            title=\"Suggest charts\"\n",
              "            style=\"display:none;\">\n",
              "\n",
              "<svg xmlns=\"http://www.w3.org/2000/svg\" height=\"24px\"viewBox=\"0 0 24 24\"\n",
              "     width=\"24px\">\n",
              "    <g>\n",
              "        <path d=\"M19 3H5c-1.1 0-2 .9-2 2v14c0 1.1.9 2 2 2h14c1.1 0 2-.9 2-2V5c0-1.1-.9-2-2-2zM9 17H7v-7h2v7zm4 0h-2V7h2v10zm4 0h-2v-4h2v4z\"/>\n",
              "    </g>\n",
              "</svg>\n",
              "  </button>\n",
              "\n",
              "<style>\n",
              "  .colab-df-quickchart {\n",
              "      --bg-color: #E8F0FE;\n",
              "      --fill-color: #1967D2;\n",
              "      --hover-bg-color: #E2EBFA;\n",
              "      --hover-fill-color: #174EA6;\n",
              "      --disabled-fill-color: #AAA;\n",
              "      --disabled-bg-color: #DDD;\n",
              "  }\n",
              "\n",
              "  [theme=dark] .colab-df-quickchart {\n",
              "      --bg-color: #3B4455;\n",
              "      --fill-color: #D2E3FC;\n",
              "      --hover-bg-color: #434B5C;\n",
              "      --hover-fill-color: #FFFFFF;\n",
              "      --disabled-bg-color: #3B4455;\n",
              "      --disabled-fill-color: #666;\n",
              "  }\n",
              "\n",
              "  .colab-df-quickchart {\n",
              "    background-color: var(--bg-color);\n",
              "    border: none;\n",
              "    border-radius: 50%;\n",
              "    cursor: pointer;\n",
              "    display: none;\n",
              "    fill: var(--fill-color);\n",
              "    height: 32px;\n",
              "    padding: 0;\n",
              "    width: 32px;\n",
              "  }\n",
              "\n",
              "  .colab-df-quickchart:hover {\n",
              "    background-color: var(--hover-bg-color);\n",
              "    box-shadow: 0 1px 2px rgba(60, 64, 67, 0.3), 0 1px 3px 1px rgba(60, 64, 67, 0.15);\n",
              "    fill: var(--button-hover-fill-color);\n",
              "  }\n",
              "\n",
              "  .colab-df-quickchart-complete:disabled,\n",
              "  .colab-df-quickchart-complete:disabled:hover {\n",
              "    background-color: var(--disabled-bg-color);\n",
              "    fill: var(--disabled-fill-color);\n",
              "    box-shadow: none;\n",
              "  }\n",
              "\n",
              "  .colab-df-spinner {\n",
              "    border: 2px solid var(--fill-color);\n",
              "    border-color: transparent;\n",
              "    border-bottom-color: var(--fill-color);\n",
              "    animation:\n",
              "      spin 1s steps(1) infinite;\n",
              "  }\n",
              "\n",
              "  @keyframes spin {\n",
              "    0% {\n",
              "      border-color: transparent;\n",
              "      border-bottom-color: var(--fill-color);\n",
              "      border-left-color: var(--fill-color);\n",
              "    }\n",
              "    20% {\n",
              "      border-color: transparent;\n",
              "      border-left-color: var(--fill-color);\n",
              "      border-top-color: var(--fill-color);\n",
              "    }\n",
              "    30% {\n",
              "      border-color: transparent;\n",
              "      border-left-color: var(--fill-color);\n",
              "      border-top-color: var(--fill-color);\n",
              "      border-right-color: var(--fill-color);\n",
              "    }\n",
              "    40% {\n",
              "      border-color: transparent;\n",
              "      border-right-color: var(--fill-color);\n",
              "      border-top-color: var(--fill-color);\n",
              "    }\n",
              "    60% {\n",
              "      border-color: transparent;\n",
              "      border-right-color: var(--fill-color);\n",
              "    }\n",
              "    80% {\n",
              "      border-color: transparent;\n",
              "      border-right-color: var(--fill-color);\n",
              "      border-bottom-color: var(--fill-color);\n",
              "    }\n",
              "    90% {\n",
              "      border-color: transparent;\n",
              "      border-bottom-color: var(--fill-color);\n",
              "    }\n",
              "  }\n",
              "</style>\n",
              "\n",
              "  <script>\n",
              "    async function quickchart(key) {\n",
              "      const quickchartButtonEl =\n",
              "        document.querySelector('#' + key + ' button');\n",
              "      quickchartButtonEl.disabled = true;  // To prevent multiple clicks.\n",
              "      quickchartButtonEl.classList.add('colab-df-spinner');\n",
              "      try {\n",
              "        const charts = await google.colab.kernel.invokeFunction(\n",
              "            'suggestCharts', [key], {});\n",
              "      } catch (error) {\n",
              "        console.error('Error during call to suggestCharts:', error);\n",
              "      }\n",
              "      quickchartButtonEl.classList.remove('colab-df-spinner');\n",
              "      quickchartButtonEl.classList.add('colab-df-quickchart-complete');\n",
              "    }\n",
              "    (() => {\n",
              "      let quickchartButtonEl =\n",
              "        document.querySelector('#df-bade72fa-b5d4-409f-80c0-386cab9bed1d button');\n",
              "      quickchartButtonEl.style.display =\n",
              "        google.colab.kernel.accessAllowed ? 'block' : 'none';\n",
              "    })();\n",
              "  </script>\n",
              "</div>\n",
              "\n",
              "    </div>\n",
              "  </div>\n"
            ],
            "application/vnd.google.colaboratory.intrinsic+json": {
              "type": "dataframe",
              "variable_name": "submission_df",
              "summary": "{\n  \"name\": \"submission_df\",\n  \"rows\": 4999,\n  \"fields\": [\n    {\n      \"column\": \"patient_id\",\n      \"properties\": {\n        \"dtype\": \"number\",\n        \"std\": 261640,\n        \"min\": 100266,\n        \"max\": 999890,\n        \"num_unique_values\": 4999,\n        \"samples\": [\n          450269,\n          536321,\n          437686\n        ],\n        \"semantic_type\": \"\",\n        \"description\": \"\"\n      }\n    },\n    {\n      \"column\": \"DiagPeriodL90D\",\n      \"properties\": {\n        \"dtype\": \"number\",\n        \"std\": 0.03255008615966476,\n        \"min\": 0.3712260923017591,\n        \"max\": 0.7367174680191312,\n        \"num_unique_values\": 4999,\n        \"samples\": [\n          0.48613029190538093,\n          0.5142572017717518,\n          0.5041943697068625\n        ],\n        \"semantic_type\": \"\",\n        \"description\": \"\"\n      }\n    }\n  ]\n}"
            }
          },
          "metadata": {},
          "execution_count": 51
        }
      ]
    },
    {
      "cell_type": "code",
      "source": [],
      "metadata": {
        "id": "w35EnGo7t_xn"
      },
      "execution_count": null,
      "outputs": []
    }
  ]
}