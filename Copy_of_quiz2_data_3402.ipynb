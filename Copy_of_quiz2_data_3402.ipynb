{
  "nbformat": 4,
  "nbformat_minor": 0,
  "metadata": {
    "colab": {
      "provenance": [],
      "include_colab_link": true
    },
    "kernelspec": {
      "name": "python3",
      "display_name": "Python 3"
    },
    "language_info": {
      "name": "python"
    }
  },
  "cells": [
    {
      "cell_type": "markdown",
      "metadata": {
        "id": "view-in-github",
        "colab_type": "text"
      },
      "source": [
        "<a href=\"https://colab.research.google.com/github/ahlexn/DATA3402.Spring.2024/blob/main/Copy_of_quiz2_data_3402.ipynb\" target=\"_parent\"><img src=\"https://colab.research.google.com/assets/colab-badge.svg\" alt=\"Open In Colab\"/></a>"
      ]
    },
    {
      "cell_type": "code",
      "execution_count": null,
      "metadata": {
        "colab": {
          "base_uri": "https://localhost:8080/"
        },
        "id": "4-kpu2TOXIvn",
        "outputId": "65566349-cf23-4168-ef32-0b206176b837"
      },
      "outputs": [
        {
          "output_type": "stream",
          "name": "stdout",
          "text": [
            "('Hearts', '2')\n",
            "('Hearts', '3')\n",
            "('Hearts', '4')\n",
            "('Hearts', '5')\n",
            "('Hearts', '6')\n",
            "('Hearts', '7')\n",
            "('Hearts', '8')\n",
            "('Hearts', '9')\n",
            "('Hearts', '10')\n",
            "('Hearts', 'Jack')\n",
            "('Hearts', 'Queen')\n",
            "('Hearts', 'King')\n",
            "('Hearts', 'Ace')\n",
            "('Diamonds', '2')\n",
            "('Diamonds', '3')\n",
            "('Diamonds', '4')\n",
            "('Diamonds', '5')\n",
            "('Diamonds', '6')\n",
            "('Diamonds', '7')\n",
            "('Diamonds', '8')\n",
            "('Diamonds', '9')\n",
            "('Diamonds', '10')\n",
            "('Diamonds', 'Jack')\n",
            "('Diamonds', 'Queen')\n",
            "('Diamonds', 'King')\n",
            "('Diamonds', 'Ace')\n",
            "('Clubs', '2')\n",
            "('Clubs', '3')\n",
            "('Clubs', '4')\n",
            "('Clubs', '5')\n",
            "('Clubs', '6')\n",
            "('Clubs', '7')\n",
            "('Clubs', '8')\n",
            "('Clubs', '9')\n",
            "('Clubs', '10')\n",
            "('Clubs', 'Jack')\n",
            "('Clubs', 'Queen')\n",
            "('Clubs', 'King')\n",
            "('Clubs', 'Ace')\n",
            "('Spades', '2')\n",
            "('Spades', '3')\n",
            "('Spades', '4')\n",
            "('Spades', '5')\n",
            "('Spades', '6')\n",
            "('Spades', '7')\n",
            "('Spades', '8')\n",
            "('Spades', '9')\n",
            "('Spades', '10')\n",
            "('Spades', 'Jack')\n",
            "('Spades', 'Queen')\n",
            "('Spades', 'King')\n",
            "('Spades', 'Ace')\n"
          ]
        }
      ],
      "source": [
        "#quiz 2\n",
        "def make_deck():\n",
        "    suits = ['Hearts', 'Diamonds', 'Clubs', 'Spades']\n",
        "    values = ['2', '3', '4', '5', '6', '7', '8', '9', '10', 'Jack', 'Queen', 'King', 'Ace']\n",
        "    deck = []\n",
        "\n",
        "    for suit in suits:\n",
        "        for value in values:\n",
        "            card = (suit, value)\n",
        "            deck.append(card)\n",
        "\n",
        "    return deck\n",
        "\n",
        "#test solution\n",
        "deck = make_deck()\n",
        "for card in deck:\n",
        "    print(card)"
      ]
    },
    {
      "cell_type": "code",
      "source": [],
      "metadata": {
        "id": "H1VswmsJXnb3"
      },
      "execution_count": null,
      "outputs": []
    }
  ]
}