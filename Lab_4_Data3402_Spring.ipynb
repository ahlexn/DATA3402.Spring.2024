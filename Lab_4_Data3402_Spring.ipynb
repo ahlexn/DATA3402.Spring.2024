{
  "cells": [
    {
      "cell_type": "markdown",
      "metadata": {
        "id": "view-in-github",
        "colab_type": "text"
      },
      "source": [
        "<a href=\"https://colab.research.google.com/github/ahlexn/DATA3402.Spring.2024/blob/main/Lab_4_Data3402_Spring.ipynb\" target=\"_parent\"><img src=\"https://colab.research.google.com/assets/colab-badge.svg\" alt=\"Open In Colab\"/></a>"
      ]
    },
    {
      "cell_type": "markdown",
      "metadata": {
        "id": "157i56lwpCAN"
      },
      "source": [
        "# Lab 4- Object Oriented Programming\n",
        "\n",
        "For all of the exercises below, make sure you provide tests of your solutions.\n"
      ]
    },
    {
      "cell_type": "markdown",
      "metadata": {
        "id": "8owRl__VpCAP"
      },
      "source": [
        "1. Write a \"counter\" class that can be incremented up to a specified maximum value, will print an error if an attempt is made to increment beyond that value, and allows reseting the counter."
      ]
    },
    {
      "cell_type": "code",
      "execution_count": 4,
      "metadata": {
        "colab": {
          "base_uri": "https://localhost:8080/"
        },
        "id": "SvnbfjBkpCAP",
        "outputId": "2f87ae37-5e67-4f79-dcfe-7c7983b6795e"
      },
      "outputs": [
        {
          "output_type": "stream",
          "name": "stdout",
          "text": [
            "Counter value: 1\n",
            "Counter value: 2\n",
            "Counter value: 3\n",
            "Counter value: 4\n",
            "Counter value: 5\n",
            "Error: Counter reached maximum value.\n",
            "Counter value: 5\n",
            "Error: Counter reached maximum value.\n",
            "Counter value: 5\n",
            "Error: Counter reached maximum value.\n",
            "Counter value: 5\n",
            "Error: Counter reached maximum value.\n",
            "Counter value: 5\n",
            "Error: Counter reached maximum value.\n",
            "Counter value: 5\n",
            "Error: Counter reached maximum value.\n",
            "Counter value: 5\n",
            "Error: Counter reached maximum value.\n",
            "Counter value: 5\n",
            "Counter value after reset: 0\n"
          ]
        }
      ],
      "source": [
        "class Counter:\n",
        "    def __init__(self, max_value):\n",
        "        self.max_value = max_value\n",
        "        self.value = 0\n",
        "\n",
        "    def increment(self):\n",
        "        if self.value < self.max_value:\n",
        "            self.value += 1\n",
        "        else:\n",
        "            print(\"Error: Counter reached maximum value.\")\n",
        "\n",
        "    def reset(self):\n",
        "        self.value = 0\n",
        "\n",
        "    def get_value(self):\n",
        "        return self.value\n",
        "\n",
        "#test solutions\n",
        "max_value = 5\n",
        "my_counter = Counter(max_value)\n",
        "\n",
        "for i in range(12):\n",
        "    my_counter.increment()\n",
        "    print(f\"Counter value: {my_counter.get_value()}\")\n",
        "\n",
        "my_counter.reset()\n",
        "print(f\"Counter value after reset: {my_counter.get_value()}\")"
      ]
    },
    {
      "cell_type": "markdown",
      "metadata": {
        "id": "iHs1FqI0pCAQ"
      },
      "source": [
        "2. Copy and paste your solution to question 1 and modify it so that all the data held by the counter is private. Implement functions to check the value of the counter, check the maximum value, and check if the counter is at the maximum."
      ]
    },
    {
      "cell_type": "code",
      "execution_count": 5,
      "metadata": {
        "colab": {
          "base_uri": "https://localhost:8080/"
        },
        "id": "20NkoX8KpCAQ",
        "outputId": "f4a10f3a-5af9-408a-b7a1-f76c6ebf247c"
      },
      "outputs": [
        {
          "output_type": "stream",
          "name": "stdout",
          "text": [
            "Counter value: 1, Maximum value: 5, At Maximum: False\n",
            "Counter value: 2, Maximum value: 5, At Maximum: False\n",
            "Counter value: 3, Maximum value: 5, At Maximum: False\n",
            "Counter value: 4, Maximum value: 5, At Maximum: False\n",
            "Counter value: 5, Maximum value: 5, At Maximum: True\n",
            "Error: Counter reached maximum value.\n",
            "Counter value: 5, Maximum value: 5, At Maximum: True\n",
            "Error: Counter reached maximum value.\n",
            "Counter value: 5, Maximum value: 5, At Maximum: True\n",
            "Counter value after reset: 0, At Maximum: False\n"
          ]
        }
      ],
      "source": [
        "class Counter:\n",
        "    def __init__(self, max_value):\n",
        "        self.__max_value = max_value\n",
        "        self.__value = 0\n",
        "\n",
        "    def increment(self):\n",
        "        if self.__value < self.__max_value:\n",
        "            self.__value += 1\n",
        "        else:\n",
        "            print(\"Error: Counter reached maximum value.\")\n",
        "\n",
        "    def reset(self):\n",
        "        self.__value = 0\n",
        "\n",
        "    def get_value(self):\n",
        "        return self.__value\n",
        "\n",
        "    def get_max_value(self):\n",
        "        return self.__max_value\n",
        "\n",
        "    def is_at_maximum(self):\n",
        "        return self.__value == self.__max_value\n",
        "\n",
        "#test solutions\n",
        "max_value = 5\n",
        "my_counter = Counter(max_value)\n",
        "\n",
        "for i in range(7):\n",
        "    my_counter.increment()\n",
        "    print(f\"Counter value: {my_counter.get_value()}, Maximum value: {my_counter.get_max_value()}, At Maximum: {my_counter.is_at_maximum()}\")\n",
        "\n",
        "my_counter.reset()\n",
        "print(f\"Counter value after reset: {my_counter.get_value()}, At Maximum: {my_counter.is_at_maximum()}\")"
      ]
    },
    {
      "cell_type": "markdown",
      "metadata": {
        "id": "LvREaP-HpCAQ"
      },
      "source": [
        "3. Implement a class to represent a rectangle, holding the length, width, and $x$ and $y$ coordinates of a corner of the object. Implement functions that compute the area and perimeter of the rectangle. Make all data members private and privide accessors to retrieve values of data members."
      ]
    },
    {
      "cell_type": "code",
      "execution_count": 6,
      "metadata": {
        "colab": {
          "base_uri": "https://localhost:8080/"
        },
        "id": "3RzQBTHwpCAR",
        "outputId": "8f9b50b6-65db-487c-b815-f27dfee32dcc"
      },
      "outputs": [
        {
          "output_type": "stream",
          "name": "stdout",
          "text": [
            "Length: 10\n",
            "Width: 5\n",
            "X coordinate: 2\n",
            "Y coordinate: 2\n",
            "Area: 50\n",
            "Perimeter: 30\n"
          ]
        }
      ],
      "source": [
        "class Rectangle:\n",
        "    def __init__(self, length, width, x, y):\n",
        "        self.__length = length\n",
        "        self.__width = width\n",
        "        self.__x = x\n",
        "        self.__y = y\n",
        "\n",
        "    def get_length(self):\n",
        "        return self.__length\n",
        "\n",
        "    def get_width(self):\n",
        "        return self.__width\n",
        "\n",
        "    def get_x(self):\n",
        "        return self.__x\n",
        "\n",
        "    def get_y(self):\n",
        "        return self.__y\n",
        "\n",
        "    def area(self):\n",
        "        return self.__length * self.__width\n",
        "\n",
        "    def perimeter(self):\n",
        "        return 2 * (self.__length + self.__width)\n",
        "\n",
        "#test solutions\n",
        "rectangle = Rectangle(10, 5, 2, 2)\n",
        "\n",
        "print(f\"Length: {rectangle.get_length()}\")\n",
        "print(f\"Width: {rectangle.get_width()}\")\n",
        "print(f\"X coordinate: {rectangle.get_x()}\")\n",
        "print(f\"Y coordinate: {rectangle.get_y()}\")\n",
        "print(f\"Area: {rectangle.area()}\")\n",
        "print(f\"Perimeter: {rectangle.perimeter()}\")"
      ]
    },
    {
      "cell_type": "markdown",
      "metadata": {
        "id": "ydTFAnZQpCAR"
      },
      "source": [
        "4. Implement a class to represent a circle, holding the radius and $x$ and $y$ coordinates of center of the object. Implement functions that compute the area and perimeter of the rectangle. Make all data members private and privide accessors to retrieve values of data members."
      ]
    },
    {
      "cell_type": "code",
      "execution_count": 7,
      "metadata": {
        "colab": {
          "base_uri": "https://localhost:8080/"
        },
        "id": "blmbnG88pCAR",
        "outputId": "fee6ba70-a96d-469a-d823-965f118b9b71"
      },
      "outputs": [
        {
          "output_type": "stream",
          "name": "stdout",
          "text": [
            "Radius: 4\n",
            "X coordinate: 2\n",
            "Y coordinate: 2\n",
            "Area: 50.26548245743669\n",
            "Circumference: 25.132741228718345\n"
          ]
        }
      ],
      "source": [
        "import math\n",
        "\n",
        "class Circle:\n",
        "    def __init__(self, radius, x, y):\n",
        "        self.__radius = radius\n",
        "        self.__x = x\n",
        "        self.__y = y\n",
        "\n",
        "    def get_radius(self):\n",
        "        return self.__radius\n",
        "\n",
        "    def get_x(self):\n",
        "        return self.__x\n",
        "\n",
        "    def get_y(self):\n",
        "        return self.__y\n",
        "\n",
        "    def area(self):\n",
        "        return math.pi * (self.__radius ** 2)\n",
        "\n",
        "    def circumference(self):\n",
        "        return 2 * math.pi * self.__radius\n",
        "\n",
        "#test solutions\n",
        "circle = Circle(4, 2, 2)\n",
        "\n",
        "print(f\"Radius: {circle.get_radius()}\")\n",
        "print(f\"X coordinate: {circle.get_x()}\")\n",
        "print(f\"Y coordinate: {circle.get_y()}\")\n",
        "print(f\"Area: {circle.area()}\")\n",
        "print(f\"Circumference: {circle.circumference()}\")"
      ]
    },
    {
      "cell_type": "markdown",
      "metadata": {
        "id": "34IMdM5WpCAR"
      },
      "source": [
        "5. Implement a common base class for the classes implemented in 3 and 4 above which implements all common methods as not implemented functions (virtual). Re-implement those classes to inherit from the base class and overload the functions accordingly."
      ]
    },
    {
      "cell_type": "code",
      "execution_count": 8,
      "metadata": {
        "id": "wBRsdoc1pCAR",
        "colab": {
          "base_uri": "https://localhost:8080/"
        },
        "outputId": "2486d49c-18f1-49d3-e113-9af593cc0fb3"
      },
      "outputs": [
        {
          "output_type": "stream",
          "name": "stdout",
          "text": [
            "<__main__.Rectangle object at 0x7a3ff6824f40>\n",
            "<__main__.Circle object at 0x7a3ff6824f70>\n",
            "Rectangle area: 50\n",
            "Rectangle Perimeter: 30\n",
            "Circle Area: 50.26548245743669\n",
            "Circle Perimeter: None\n"
          ]
        }
      ],
      "source": [
        "import math\n",
        "\n",
        "class Shape:\n",
        "    def __init__(self, x, y):\n",
        "        self.__x = x\n",
        "        self.__y = y\n",
        "\n",
        "    def area(self):\n",
        "        pass\n",
        "\n",
        "    def perimeter(self):\n",
        "        pass\n",
        "\n",
        "    def __get_x(self):\n",
        "        return self.__x\n",
        "\n",
        "    def __get_y(self):\n",
        "        return self.__y\n",
        "\n",
        "class Circle(Shape):\n",
        "    def __init__(self, radius, x, y):\n",
        "        self.__radius = radius\n",
        "        self.__x = x\n",
        "        self.__y = y\n",
        "\n",
        "    def get_radius(self):\n",
        "        return self.__radius\n",
        "\n",
        "    def get_x(self):\n",
        "        return self.__x\n",
        "\n",
        "    def get_y(self):\n",
        "        return self.__y\n",
        "\n",
        "    def area(self):\n",
        "        return math.pi * (self.__radius ** 2)\n",
        "\n",
        "    def circumference(self):\n",
        "        return 2 * math.pi * self.__radius\n",
        "\n",
        "class Rectangle(Shape):\n",
        "    def __init__(self, length, width, x, y):\n",
        "        self.__length = length\n",
        "        self.__width = width\n",
        "        self.__x = x\n",
        "        self.__y = y\n",
        "\n",
        "    def get_length(self):\n",
        "        return self.__length\n",
        "\n",
        "    def get_width(self):\n",
        "        return self.__width\n",
        "\n",
        "    def get_x(self):\n",
        "        return self.__x\n",
        "\n",
        "    def get_y(self):\n",
        "        return self.__y\n",
        "\n",
        "    def area(self):\n",
        "        return self.__length * self.__width\n",
        "\n",
        "    def perimeter(self):\n",
        "        return 2 * (self.__length + self.__width)\n",
        "\n",
        "  #test solution\n",
        "if __name__ == \"__main__\":\n",
        "    rectangle = Rectangle (10, 5, 2, 2)\n",
        "    circle = Circle (4, 2, 2)\n",
        "\n",
        "    print(rectangle)\n",
        "    print(circle)\n",
        "    print(\"Rectangle area:\", rectangle.area())\n",
        "    print(\"Rectangle Perimeter:\", rectangle.perimeter())\n",
        "    print(\"Circle Area:\", circle.area())\n",
        "    print(\"Circle Perimeter:\", circle.perimeter())"
      ]
    },
    {
      "cell_type": "markdown",
      "metadata": {
        "id": "vGjTbguzpCAS"
      },
      "source": [
        "6. Implement an analogous triangle class."
      ]
    },
    {
      "cell_type": "code",
      "execution_count": 9,
      "metadata": {
        "id": "gM3nNUgxpCAS",
        "colab": {
          "base_uri": "https://localhost:8080/"
        },
        "outputId": "5eb5c465-8636-4cb1-d68a-51434e5764e4"
      },
      "outputs": [
        {
          "output_type": "stream",
          "name": "stdout",
          "text": [
            "Triangle: Base=3, Height=3, Side1=2, Side2=4, Side3=5, X=3, Y=3\n",
            "Triangle area 4.5\n",
            "Triangle perimeter 11\n"
          ]
        }
      ],
      "source": [
        "import math\n",
        "\n",
        "class Triangle:\n",
        "    def __init__(self, base, height, side1, side2, side3, x, y):\n",
        "        self.__base = base\n",
        "        self.__height = height\n",
        "        self.__side1 = side1\n",
        "        self.__side2 = side2\n",
        "        self.__side3 = side3\n",
        "        self.__x = x\n",
        "        self.__y = y\n",
        "\n",
        "    def __get_base(self):\n",
        "        return self.__base\n",
        "\n",
        "    def __get_height(self):\n",
        "        return self.__height\n",
        "\n",
        "    def __get_side1(self):\n",
        "        return self.__side1\n",
        "\n",
        "    def __get_side2(self):\n",
        "        return self.__side2\n",
        "\n",
        "    def __get_side3(self):\n",
        "        return self.__side3\n",
        "\n",
        "    def __get_x(self):\n",
        "        return self.__x\n",
        "\n",
        "    def __get_y(self):\n",
        "        return self.__y\n",
        "\n",
        "    def area(self):\n",
        "        return 0.5 * self.__get_base() * self.__get_height()\n",
        "\n",
        "    def perimeter(self):\n",
        "        return self.__get_side1() + self.__get_side2() + self.__get_side3()\n",
        "\n",
        "    def __str__(self):\n",
        "        return f\"Triangle: Base={self.__get_base()}, Height={self.__get_height()}, Side1={self.__get_side1()}, Side2={self.__get_side2()}, Side3={self.__get_side3()}, X={self.__get_x()}, Y={self.__get_y()}\"\n",
        "\n",
        "  #test solution\n",
        "if __name__ == \"__main__\":\n",
        "    triangle = Triangle (3,3,2,4,5,3,3)\n",
        "\n",
        "    print(triangle)\n",
        "    print(\"Triangle area\", triangle.area())\n",
        "    print(\"Triangle perimeter\", triangle.perimeter())"
      ]
    },
    {
      "cell_type": "markdown",
      "metadata": {
        "id": "yRjTg3n3pCAS"
      },
      "source": [
        "7. Add a function to the object classes that tests if a given set of $x$ and $y$ coordinates are inside of the object."
      ]
    },
    {
      "cell_type": "code",
      "execution_count": 10,
      "metadata": {
        "id": "8IBjk9espCAS"
      },
      "outputs": [],
      "source": [
        "import matplotlib.pyplot as plt\n",
        "import matplotlib.patches as patches\n",
        "\n",
        "class Shape:\n",
        "    def __init__(self, x, y):\n",
        "        self.__x = x\n",
        "        self.__y = y\n",
        "\n",
        "    def get_x(self):\n",
        "        return self.__x\n",
        "\n",
        "    def get_y(self):\n",
        "        return self.__y\n",
        "\n",
        "    def set_x(self, x):\n",
        "        self.__x = x\n",
        "\n",
        "    def set_y(self, y):\n",
        "        self.__y = y\n",
        "\n",
        "    def draw(self):\n",
        "        raise NotImplementedError(\"Subclasses must implement this method.\")\n",
        "\n",
        "    def is_inside(self, test_x, test_y):\n",
        "        raise NotImplementedError(\"Subclasses must implement this method.\")\n",
        "\n",
        "class Rectangle(Shape):\n",
        "    def draw(self):\n",
        "        fig, ax = plt.subplots()\n",
        "        rectangle = patches.Rectangle((self.__get_x(), self.__get_y()), self.__length, self.__width, linewidth=1, edgecolor='r', facecolor='none')\n",
        "        ax.add_patch(rectangle)\n",
        "        plt.xlim(self.__get_x(), self.__get_x() + self.__length)\n",
        "        plt.ylim(self.__get_y(), self.__get_y() + self.__width)\n",
        "        plt.gca().set_aspect('equal', adjustable='box')\n",
        "        plt.show()\n",
        "\n",
        "    def is_inside(self, test_x, test_y):\n",
        "        return (\n",
        "            self.__get_x() <= test_x <= self.__get_x() + self.__length and\n",
        "            self.__get_y() <= test_y <= self.__get_y() + self.__width\n",
        "        )\n",
        "\n",
        "class Circle(Shape):\n",
        "    def draw(self):\n",
        "        fig, ax = plt.subplots()\n",
        "        circle = patches.Circle((self.__get_x(), self.__get_y()), self.__radius, linewidth=1, edgecolor='r', facecolor='none')\n",
        "        ax.add_patch(circle)\n",
        "        plt.xlim(self.__get_x() - self.__radius, self.__get_x() + self.__radius)\n",
        "        plt.ylim(self.__get_y() - self.__radius, self.__get_y() + self.__radius)\n",
        "        plt.gca().set_aspect('equal', adjustable='box')\n",
        "        plt.show()\n",
        "\n",
        "    def is_inside(self, test_x, test_y):\n",
        "        distance = math.sqrt((test_x - self.__get_x())**2 + (test_y - self.__get_y())**2)\n",
        "        return distance <= self.__radius\n",
        "\n",
        "class Triangle(Shape):\n",
        "    def draw(self):\n",
        "        fig, ax = plt.subplots()\n",
        "        x1, y1 = self.get_x(), self.get_y()\n",
        "        x2, y2 = x1 + self.__base, y1\n",
        "        x3, y3 = x1, y1 + self.__height\n",
        "\n",
        "        triangle = patches.Polygon([(x1, y1), (x2, y2), (x3, y3)], closed=True, edgecolor='r', facecolor='none')\n",
        "        ax.add_patch(triangle)\n",
        "        plt.xlim(min(x1, x2, x3), max(x1, x2, x3))\n",
        "        plt.ylim(min(y1, y2, y3), max(y1, y2, y3))\n",
        "        plt.gca().set_aspect('equal', adjustable='box')\n",
        "        plt.show()\n",
        "\n",
        "    def is_inside(self, test_x, test_y):\n",
        "        # Implementing a point-in-triangle test using barycentric coordinates\n",
        "        # Computing barycentric coordinates\n",
        "        denominator = ((self.get_y() + self.__height - self.get_y()) * (self.__get_x() + self.__base - self.get_x()) -\n",
        "                       (self.__get_x() - self.get_x()) * (self.get_y() + self.__height - self.get_y()))\n",
        "\n",
        "        # To avoid division by zero\n",
        "        if denominator == 0:\n",
        "            return False\n",
        "\n",
        "        lambda1 = ((self.get_y() + self.__height - self.get_y()) * (test_x - self.get_x()) +\n",
        "                   (self.__get_x() - self.get_x()) * (test_y - self.get_y())) / denominator\n",
        "\n",
        "        lambda2 = ((self.get_y() - self.get_y()) * (test_x - self.get_x()) +\n",
        "                   (self.get_x() - self.get_x()) * (test_y - self.get_y())) / denominator\n",
        "\n",
        "        lambda3 = 1 - lambda1 - lambda2\n",
        "\n",
        "        # Checking if the point is inside the triangle\n",
        "        return 0 <= lambda1 <= 1 and 0 <= lambda2 <= 1 and 0 <= lambda3 <= 1"
      ]
    },
    {
      "cell_type": "markdown",
      "metadata": {
        "id": "vx113z3EpCAS"
      },
      "source": [
        "8. Add a function to the object classes that return a list of up to 16 pairs of  $x$ and $y$ points on the parameter of the object.\n",
        "\n"
      ]
    },
    {
      "cell_type": "code",
      "execution_count": 14,
      "metadata": {
        "id": "xIZFwa7ypCAT"
      },
      "outputs": [],
      "source": [
        "class Rectangle(Shape):\n",
        "    def points_on_perimeter(self, num_points=16):\n",
        "        if num_points <= 0:\n",
        "            return []\n",
        "\n",
        "        x1, y1 = self.__get_x(), self.__get_y()\n",
        "        x2, y2 = x1 + self.__length, y1\n",
        "        x3, y3 = x2, y1 + self.__width\n",
        "        x4, y4 = x1, y1 + self.__width\n",
        "\n",
        "        perimeter_points = []\n",
        "\n",
        "        for i in range(num_points):\n",
        "            t = i / (num_points - 1)\n",
        "            if 0 <= t <= 0.25:\n",
        "                x = x1 + t * (x2 - x1)\n",
        "                y = y1\n",
        "            elif 0.25 < t <= 0.5:\n",
        "                x = x2\n",
        "                y = y1 + (t - 0.25) * (y3 - y2)\n",
        "            elif 0.5 < t <= 0.75:\n",
        "                x = x2 - (t - 0.5) * (x3 - x2)\n",
        "                y = y3\n",
        "            else:\n",
        "                x = x1\n",
        "                y = y3 - (t - 0.75) * (y4 - y3)\n",
        "\n",
        "            perimeter_points.append((x, y))\n",
        "\n",
        "        return perimeter_points\n",
        "\n",
        "class Circle(Shape):\n",
        "    def points_on_perimeter(self, num_points=16):\n",
        "        if num_points <= 0:\n",
        "            return []\n",
        "\n",
        "        perimeter_points = []\n",
        "\n",
        "        for i in range(num_points):\n",
        "            angle = 2 * math.pi * i / num_points\n",
        "            x = self.__get_x() + self.__radius * math.cos(angle)\n",
        "            y = self.__get_y() + self.__radius * math.sin(angle)\n",
        "            perimeter_points.append((x, y))\n",
        "\n",
        "        return perimeter_points\n",
        "\n",
        "class Triangle(Shape):\n",
        "    def points_on_perimeter(self, num_points=16):\n",
        "        if num_points <= 0:\n",
        "            return []\n",
        "\n",
        "        x1, y1 = self.__get_x(), self.__get_y()\n",
        "        x2, y2 = x1 + self.__base, y1\n",
        "        x3, y3 = x1, y1 + self.__height\n",
        "\n",
        "        perimeter_points = []\n",
        "\n",
        "        for i in range(num_points):\n",
        "            t = i / (num_points - 1)\n",
        "            if t <= 0.25:\n",
        "                x = (1 - t) * x1 + t * x2\n",
        "                y = (1 - t) * y1 + t * y2\n",
        "            elif 0.25 < t <= 0.5:\n",
        "                x = (1 - (t - 0.25)) * x2 + (t - 0.25) * x3\n",
        "                y = (1 - (t - 0.25)) * y2 + (t - 0.25) * y3\n",
        "            elif 0.5 < t <= 0.75:\n",
        "                x = (1 - (t - 0.5)) * x3 + (t - 0.5) * x1\n",
        "                y = (1 - (t - 0.5)) * y3 + (t - 0.5) * y1\n",
        "            else:\n",
        "                x = (1 - (t - 0.75)) * x1 + (t - 0.75) * x2\n",
        "                y = (1 - (t - 0.75)) * y1 + (t - 0.75) * y2\n",
        "\n",
        "            perimeter_points.append((x, y))\n",
        "\n",
        "        return perimeter_points"
      ]
    },
    {
      "cell_type": "markdown",
      "metadata": {
        "id": "wNvEt4g3pCAT"
      },
      "source": [
        "9. Add a function in the base class of the object classes that returns true/false testing that the object overlaps with another object."
      ]
    },
    {
      "cell_type": "code",
      "execution_count": 23,
      "metadata": {
        "id": "5E_TyM7_pCAT"
      },
      "outputs": [],
      "source": [
        "import math\n",
        "\n",
        "class Shape:\n",
        "    def __init__(self, x, y):\n",
        "        self.__x = x\n",
        "        self.__y = y\n",
        "\n",
        "    def get_x(self):\n",
        "        return self.__x\n",
        "\n",
        "    def get_y(self):\n",
        "        return self.__y\n",
        "\n",
        "    def set_x(self, x):\n",
        "        self.__x = x\n",
        "\n",
        "    def set_y(self, y):\n",
        "        self.__y = y\n",
        "\n",
        "    def overlaps(self, other):\n",
        "        raise NotImplementedError(\"Subclasses must implement this method.\")\n",
        "\n",
        "class Rectangle(Shape):\n",
        "    def __init__(self, length, width, x, y):\n",
        "        super().__init__(x, y)\n",
        "        self.__length = length\n",
        "        self.__width = width\n",
        "\n",
        "    def overlaps(self, other):\n",
        "        # Check if the rectangles overlap\n",
        "        if (self.get_x() < other.get_x() + other.__length and\n",
        "            self.get_x() + self.__length > other.get_x() and\n",
        "            self.get_y() < other.get_y() + other.__width and\n",
        "            self.get_y() + self.__width > other.get_y()):\n",
        "            return True\n",
        "        else:\n",
        "            return False\n",
        "\n",
        "class Circle(Shape):\n",
        "    def __init__(self, radius, center_x, center_y):\n",
        "        super().__init__(center_x, center_y)\n",
        "        self.__radius = radius\n",
        "\n",
        "    def overlaps(self, other):\n",
        "        # Check if the circles overlap\n",
        "        distance_squared = (self.get_x() - other.get_x())**2 + (self.get_y() - other.get_y())**2\n",
        "        if distance_squared <= (self.__radius + other.__radius)**2:\n",
        "            return True\n",
        "        else:\n",
        "            return False\n",
        "\n",
        "class Triangle(Shape):\n",
        "    def __init__(self, base, height, side1, side2, side3, x, y):\n",
        "        super().__init__(x, y)\n",
        "        self.__base = base\n",
        "        self.__height = height\n",
        "        self.__side1 = side1\n",
        "        self.__side2 = side2\n",
        "        self.__side3 = side3\n",
        "\n",
        "    def overlaps(self, other):\n",
        "        return False"
      ]
    },
    {
      "cell_type": "code",
      "source": [
        "#test solution\n",
        "if __name__ == \"__main__\":\n",
        "    rectangle1 = Rectangle(5, 3, 0, 0)\n",
        "    rectangle2 = Rectangle(3, 2, 1, 1)\n",
        "    print(\"Do rectangles overlap?\", rectangle1.overlaps(rectangle2))\n",
        "\n",
        "    circle1 = Circle(5, 0, 0)\n",
        "    circle2 = Circle(3, 2, 2)\n",
        "    print(\"Do circles overlap?\", circle1.overlaps(circle2))"
      ],
      "metadata": {
        "colab": {
          "base_uri": "https://localhost:8080/"
        },
        "id": "j4WavRENWTTt",
        "outputId": "bb057834-f90a-427e-acc4-bb3dbe994ecd"
      },
      "execution_count": 24,
      "outputs": [
        {
          "output_type": "stream",
          "name": "stdout",
          "text": [
            "Do rectangles overlap? True\n",
            "Do circles overlap? True\n"
          ]
        }
      ]
    },
    {
      "cell_type": "markdown",
      "metadata": {
        "id": "JeDjP691pCAT"
      },
      "source": [
        "10. Copy the `Canvas` class from lecture to in a python file creating a `paint` module. Copy your classes from above into the module and implement paint functions. Implement a `CompoundShape` class. Create a simple drawing demonstrating that all of your classes are working."
      ]
    },
    {
      "cell_type": "code",
      "execution_count": 26,
      "metadata": {
        "id": "d-EKnNObpCAT",
        "colab": {
          "base_uri": "https://localhost:8080/",
          "height": 435
        },
        "outputId": "57426692-1132-4577-b4ed-6370f2bffbeb"
      },
      "outputs": [
        {
          "output_type": "display_data",
          "data": {
            "text/plain": [
              "<Figure size 640x480 with 1 Axes>"
            ],
            "image/png": "[encoded data removed]"
          },
          "metadata": {}
        }
      ],
      "source": [
        "import math\n",
        "import matplotlib.pyplot as plt\n",
        "import matplotlib.patches as patches\n",
        "\n",
        "class Shape:\n",
        "    def __init__(self, x, y):\n",
        "        self.__x = x\n",
        "        self.__y = y\n",
        "\n",
        "    def get_x(self):\n",
        "        return self.__x\n",
        "\n",
        "    def get_y(self):\n",
        "        return self.__y\n",
        "\n",
        "    def set_x(self, x):\n",
        "        self.__x = x\n",
        "\n",
        "    def set_y(self, y):\n",
        "        self.__y = y\n",
        "\n",
        "    def overlaps(self, other):\n",
        "        raise NotImplementedError(\"Subclasses must implement this method.\")\n",
        "\n",
        "class Rectangle(Shape):\n",
        "    def __init__(self, length, width, x, y):\n",
        "        super().__init__(x, y)\n",
        "        self.__length = length\n",
        "        self.__width = width\n",
        "\n",
        "    def draw(self, ax):\n",
        "        rectangle = patches.Rectangle((self.get_x(), self.get_y()), self.__length, self.__width,\n",
        "                                       linewidth=1, edgecolor='r', facecolor='none')\n",
        "        ax.add_patch(rectangle)\n",
        "\n",
        "    def overlaps(self, other):\n",
        "        # Check if the rectangles overlap\n",
        "        if (self.get_x() < other.get_x() + other.__length and\n",
        "            self.get_x() + self.__length > other.get_x() and\n",
        "            self.get_y() < other.get_y() + other.__width and\n",
        "            self.get_y() + self.__width > other.get_y()):\n",
        "            return True\n",
        "        else:\n",
        "            return False\n",
        "\n",
        "class Circle(Shape):\n",
        "    def __init__(self, radius, center_x, center_y):\n",
        "        super().__init__(center_x, center_y)\n",
        "        self.__radius = radius\n",
        "\n",
        "    def draw(self, ax):\n",
        "        circle = patches.Circle((self.get_x(), self.get_y()), self.__radius,\n",
        "                                linewidth=1, edgecolor='r', facecolor='none')\n",
        "        ax.add_patch(circle)\n",
        "\n",
        "    def overlaps(self, other):\n",
        "        # Check if the circles overlap\n",
        "        distance_squared = (self.get_x() - other.get_x())**2 + (self.get_y() - other.get_y())**2\n",
        "        if distance_squared <= (self.__radius + other.__radius)**2:\n",
        "            return True\n",
        "        else:\n",
        "            return False\n",
        "\n",
        "class Triangle(Shape):\n",
        "    def __init__(self, base, height, x, y):\n",
        "        super().__init__(x, y)\n",
        "        self.__base = base\n",
        "        self.__height = height\n",
        "\n",
        "    def draw(self, ax):\n",
        "        x1, y1 = self.get_x(), self.get_y()\n",
        "        x2, y2 = x1 + self.__base, y1\n",
        "        x3, y3 = x1, y1 + self.__height\n",
        "\n",
        "        triangle = patches.Polygon([(x1, y1), (x2, y2), (x3, y3)], closed=True,\n",
        "                                    edgecolor='r', facecolor='none')\n",
        "        ax.add_patch(triangle)\n",
        "\n",
        "    def overlaps(self, other):\n",
        "        # For simplicity, assume triangles never overlap with other shapes\n",
        "        return False\n",
        "\n",
        "class CompoundShape(Shape):\n",
        "    def __init__(self, shapes):\n",
        "        super().__init__(0, 0)\n",
        "        self.__shapes = shapes\n",
        "\n",
        "    def draw(self, ax):\n",
        "        for shape in self.__shapes:\n",
        "            shape.draw(ax)\n",
        "\n",
        "    def overlaps(self, other):\n",
        "        for shape in self.__shapes:\n",
        "            if shape.overlaps(other):\n",
        "                return True\n",
        "        return False\n",
        "\n",
        "class Canvas:\n",
        "    def __init__(self):\n",
        "        self.__shapes = []\n",
        "\n",
        "    def add_shape(self, shape):\n",
        "        self.__shapes.append(shape)\n",
        "\n",
        "    def draw(self):\n",
        "        fig, ax = plt.subplots()\n",
        "        for shape in self.__shapes:\n",
        "            shape.draw(ax)\n",
        "        plt.xlim(-10, 10)\n",
        "        plt.ylim(-10, 10)\n",
        "        plt.gca().set_aspect('equal', adjustable='box')\n",
        "        plt.show()\n",
        "\n",
        "#test solution\n",
        "if __name__ == \"__main__\":\n",
        "    canvas = Canvas()\n",
        "    rectangle = Rectangle(4, 2, 0, 0)\n",
        "    circle = Circle(3, 0, 0)\n",
        "    triangle = Triangle(6, 4, 0, 0)\n",
        "    compound_shape = CompoundShape([rectangle, circle, triangle])\n",
        "\n",
        "    canvas.add_shape(rectangle)\n",
        "    canvas.add_shape(circle)\n",
        "    canvas.add_shape(triangle)\n",
        "    canvas.add_shape(compound_shape)\n",
        "\n",
        "    canvas.draw()"
      ]
    },
    {
      "cell_type": "markdown",
      "metadata": {
        "id": "I9_oV3rcpCAT"
      },
      "source": [
        "11. Create a `RasterDrawing` class. Demonstrate that you can create a drawing made of several shapes, paint the drawing, modify the drawing, and paint it again."
      ]
    },
    {
      "cell_type": "code",
      "execution_count": 27,
      "metadata": {
        "id": "0JYgyYf5pCAT",
        "colab": {
          "base_uri": "https://localhost:8080/",
          "height": 905
        },
        "outputId": "c561534c-77c4-461c-ef04-ce2d4a96e874"
      },
      "outputs": [
        {
          "output_type": "stream",
          "name": "stdout",
          "text": [
            "Initial Drawing:\n"
          ]
        },
        {
          "output_type": "display_data",
          "data": {
            "text/plain": [
              "<Figure size 640x480 with 1 Axes>"
            ],
            "image/png": "[encoded data removed]"
          },
          "metadata": {}
        },
        {
          "output_type": "stream",
          "name": "stdout",
          "text": [
            "\n",
            "Modified Drawing:\n"
          ]
        },
        {
          "output_type": "display_data",
          "data": {
            "text/plain": [
              "<Figure size 640x480 with 1 Axes>"
            ],
            "image/png": "[encoded data removed]"
          },
          "metadata": {}
        }
      ],
      "source": [
        "class RasterDrawing:\n",
        "    def __init__(self):\n",
        "        self.canvas = Canvas()\n",
        "\n",
        "    def add_shape(self, shape):\n",
        "        self.canvas.add_shape(shape)\n",
        "\n",
        "    def draw(self):\n",
        "        self.canvas.draw()\n",
        "\n",
        "# Example usage:\n",
        "if __name__ == \"__main__\":\n",
        "    # Create a RasterDrawing instance\n",
        "    drawing = RasterDrawing()\n",
        "\n",
        "    # Add shapes to the drawing\n",
        "    rectangle = Rectangle(4, 2, 0, 0)\n",
        "    circle = Circle(3, 0, 0)\n",
        "    triangle = Triangle(6, 4, 0, 0)\n",
        "    compound_shape = CompoundShape([rectangle, circle, triangle])\n",
        "\n",
        "    drawing.add_shape(rectangle)\n",
        "    drawing.add_shape(circle)\n",
        "    drawing.add_shape(triangle)\n",
        "    drawing.add_shape(compound_shape)\n",
        "\n",
        "    # Draw the initial drawing\n",
        "    print(\"Initial Drawing:\")\n",
        "    drawing.draw()\n",
        "\n",
        "    # Modify the drawing (for demonstration purposes)\n",
        "    rectangle.set_x(2)\n",
        "    circle.set_y(2)\n",
        "\n",
        "    # Draw the modified drawing\n",
        "    print(\"\\nModified Drawing:\")\n",
        "    drawing.draw()"
      ]
    },
    {
      "cell_type": "markdown",
      "metadata": {
        "id": "0m-0bcf9pCAT"
      },
      "source": [
        "12. Implement the ability to load/save raster drawings and demonstate that your method works. One way to implement this ability:\n",
        "\n",
        "   * Overload `__repr__` functions of all objects to return strings of the python code that would construct the object.\n",
        "   \n",
        "   * In the save method of raster drawing class, store the representations into the file.\n",
        "   * Write a loader function that reads the file and uses `eval` to instantiate the object.\n",
        "\n",
        "For example:"
      ]
    },
    {
      "cell_type": "code",
      "execution_count": null,
      "metadata": {
        "id": "30d26Qp6pCAU"
      },
      "outputs": [],
      "source": [
        "class foo:\n",
        "    def __init__(self,a,b=None):\n",
        "        self.a=a\n",
        "        self.b=b\n",
        "\n",
        "    def __repr__(self):\n",
        "        return \"foo(\"+repr(self.a)+\",\"+repr(self.b)+\")\"\n",
        "\n",
        "    def save(self,filename):\n",
        "        f=open(filename,\"w\")\n",
        "        f.write(self.__repr__())\n",
        "        f.close()\n",
        "\n",
        "\n",
        "def foo_loader(filename):\n",
        "    f=open(filename,\"r\")\n",
        "    tmp=eval(f.read())\n",
        "    f.close()\n",
        "    return tmp\n"
      ]
    },
    {
      "cell_type": "code",
      "execution_count": null,
      "metadata": {
        "id": "C2EkMwGPpCAU",
        "outputId": "844e3708-1d84-470b-a720-bca8fd5992ac"
      },
      "outputs": [
        {
          "name": "stdout",
          "output_type": "stream",
          "text": [
            "foo(1,'hello')\n"
          ]
        }
      ],
      "source": [
        "# Test\n",
        "print(repr(foo(1,\"hello\")))"
      ]
    },
    {
      "cell_type": "code",
      "execution_count": null,
      "metadata": {
        "id": "6-etW-VQpCAV"
      },
      "outputs": [],
      "source": [
        "# Create an object and save it\n",
        "ff=foo(1,\"hello\")\n",
        "ff.save(\"Test.foo\")"
      ]
    },
    {
      "cell_type": "code",
      "execution_count": null,
      "metadata": {
        "id": "fJwmMmkSpCAV",
        "outputId": "ccf1171d-0b4f-4294-8107-6ca87646f87a"
      },
      "outputs": [
        {
          "name": "stdout",
          "output_type": "stream",
          "text": [
            "foo(1,'hello')"
          ]
        }
      ],
      "source": [
        "# Check contents of the saved file\n",
        "!cat Test.foo"
      ]
    },
    {
      "cell_type": "code",
      "execution_count": null,
      "metadata": {
        "id": "09KWFPNMpCAV",
        "outputId": "0619331f-f144-4c89-e64b-19b3fabdc81c"
      },
      "outputs": [
        {
          "data": {
            "text/plain": [
              "foo(1,'hello')"
            ]
          },
          "execution_count": 5,
          "metadata": {},
          "output_type": "execute_result"
        }
      ],
      "source": [
        "# Load the object\n",
        "ff_reloaded=foo_loader(\"Test.foo\")\n",
        "ff_reloaded"
      ]
    },
    {
      "cell_type": "code",
      "execution_count": 28,
      "metadata": {
        "id": "Nge0su7IpCAV",
        "colab": {
          "base_uri": "https://localhost:8080/",
          "height": 940
        },
        "outputId": "9580fb97-6e71-4f80-b7c7-0a7e2dbe2c2a"
      },
      "outputs": [
        {
          "output_type": "stream",
          "name": "stdout",
          "text": [
            "Initial Drawing:\n"
          ]
        },
        {
          "output_type": "display_data",
          "data": {
            "text/plain": [
              "<Figure size 640x480 with 1 Axes>"
            ],
            "image/png": "[encoded data removed]"
          },
          "metadata": {}
        },
        {
          "output_type": "stream",
          "name": "stdout",
          "text": [
            "\n",
            "Drawing saved to 'drawing.txt'.\n",
            "\n",
            "Loaded Drawing:\n"
          ]
        },
        {
          "output_type": "display_data",
          "data": {
            "text/plain": [
              "<Figure size 640x480 with 1 Axes>"
            ],
            "image/png": "[encoded data removed]"
          },
          "metadata": {}
        }
      ],
      "source": [
        "class Shape:\n",
        "    def __init__(self, x, y):\n",
        "        self.__x = x\n",
        "        self.__y = y\n",
        "\n",
        "    def get_x(self):\n",
        "        return self.__x\n",
        "\n",
        "    def get_y(self):\n",
        "        return self.__y\n",
        "\n",
        "    def set_x(self, x):\n",
        "        self.__x = x\n",
        "\n",
        "    def set_y(self, y):\n",
        "        self.__y = y\n",
        "\n",
        "    def overlaps(self, other):\n",
        "        raise NotImplementedError(\"Subclasses must implement this method.\")\n",
        "\n",
        "    def __repr__(self):\n",
        "        return f\"{type(self).__name__}({self.get_x()}, {self.get_y()})\"\n",
        "\n",
        "class Rectangle(Shape):\n",
        "    def __init__(self, length, width, x, y):\n",
        "        super().__init__(x, y)\n",
        "        self.__length = length\n",
        "        self.__width = width\n",
        "\n",
        "    def draw(self, ax):\n",
        "        rectangle = patches.Rectangle((self.get_x(), self.get_y()), self.__length, self.__width,\n",
        "                                       linewidth=1, edgecolor='r', facecolor='none')\n",
        "        ax.add_patch(rectangle)\n",
        "\n",
        "    def overlaps(self, other):\n",
        "        # Check if the rectangles overlap\n",
        "        if (self.get_x() < other.get_x() + other.__length and\n",
        "            self.get_x() + self.__length > other.get_x() and\n",
        "            self.get_y() < other.get_y() + other.__width and\n",
        "            self.get_y() + self.__width > other.get_y()):\n",
        "            return True\n",
        "        else:\n",
        "            return False\n",
        "\n",
        "    def __repr__(self):\n",
        "        return f\"{type(self).__name__}({self.__length}, {self.__width}, {self.get_x()}, {self.get_y()})\"\n",
        "\n",
        "class Circle(Shape):\n",
        "    def __init__(self, radius, center_x, center_y):\n",
        "        super().__init__(center_x, center_y)\n",
        "        self.__radius = radius\n",
        "\n",
        "    def draw(self, ax):\n",
        "        circle = patches.Circle((self.get_x(), self.get_y()), self.__radius,\n",
        "                                linewidth=1, edgecolor='r', facecolor='none')\n",
        "        ax.add_patch(circle)\n",
        "\n",
        "    def overlaps(self, other):\n",
        "        # Check if the circles overlap\n",
        "        distance_squared = (self.get_x() - other.get_x())**2 + (self.get_y() - other.get_y())**2\n",
        "        if distance_squared <= (self.__radius + other.__radius)**2:\n",
        "            return True\n",
        "        else:\n",
        "            return False\n",
        "\n",
        "    def __repr__(self):\n",
        "        return f\"{type(self).__name__}({self.__radius}, {self.get_x()}, {self.get_y()})\"\n",
        "\n",
        "class Triangle(Shape):\n",
        "    def __init__(self, base, height, x, y):\n",
        "        super().__init__(x, y)\n",
        "        self.__base = base\n",
        "        self.__height = height\n",
        "\n",
        "    def draw(self, ax):\n",
        "        x1, y1 = self.get_x(), self.get_y()\n",
        "        x2, y2 = x1 + self.__base, y1\n",
        "        x3, y3 = x1, y1 + self.__height\n",
        "\n",
        "        triangle = patches.Polygon([(x1, y1), (x2, y2), (x3, y3)], closed=True,\n",
        "                                    edgecolor='r', facecolor='none')\n",
        "        ax.add_patch(triangle)\n",
        "\n",
        "    def overlaps(self, other):\n",
        "        # For simplicity, assume triangles never overlap with other shapes\n",
        "        return False\n",
        "\n",
        "    def __repr__(self):\n",
        "        return f\"{type(self).__name__}({self.__base}, {self.__height}, {self.get_x()}, {self.get_y()})\"\n",
        "\n",
        "class CompoundShape(Shape):\n",
        "    def __init__(self, shapes):\n",
        "        super().__init__(0, 0)\n",
        "        self.__shapes = shapes\n",
        "\n",
        "    def draw(self, ax):\n",
        "        for shape in self.__shapes:\n",
        "            shape.draw(ax)\n",
        "\n",
        "    def overlaps(self, other):\n",
        "        for shape in self.__shapes:\n",
        "            if shape.overlaps(other):\n",
        "                return True\n",
        "        return False\n",
        "\n",
        "    def __repr__(self):\n",
        "        return f\"{type(self).__name__}([{', '.join(repr(s) for s in self.__shapes)}])\"\n",
        "\n",
        "class RasterDrawing:\n",
        "    def __init__(self):\n",
        "        self.canvas = Canvas()\n",
        "\n",
        "    def add_shape(self, shape):\n",
        "        self.canvas.add_shape(shape)\n",
        "\n",
        "    def draw(self):\n",
        "        self.canvas.draw()\n",
        "\n",
        "    def save(self, filename):\n",
        "        with open(filename, 'w') as f:\n",
        "            for shape in self.canvas._Canvas__shapes:\n",
        "                f.write(repr(shape) + '\\n')\n",
        "\n",
        "    @classmethod\n",
        "    def load(cls, filename):\n",
        "        drawing = cls()\n",
        "        with open(filename, 'r') as f:\n",
        "            for line in f:\n",
        "                shape = eval(line.strip())\n",
        "                drawing.add_shape(shape)\n",
        "        return drawing\n",
        "\n",
        "# Example usage:\n",
        "if __name__ == \"__main__\":\n",
        "    # Create a RasterDrawing instance\n",
        "    drawing = RasterDrawing()\n",
        "\n",
        "    # Add shapes to the drawing\n",
        "    rectangle = Rectangle(4, 2, 0, 0)\n",
        "    circle = Circle(3, 0, 0)\n",
        "    triangle = Triangle(6, 4, 0, 0)\n",
        "    compound_shape = CompoundShape([rectangle, circle, triangle])\n",
        "\n",
        "    drawing.add_shape(rectangle)\n",
        "    drawing.add_shape(circle)\n",
        "    drawing.add_shape(triangle)\n",
        "    drawing.add_shape(compound_shape)\n",
        "\n",
        "    # Draw the initial drawing\n",
        "    print(\"Initial Drawing:\")\n",
        "    drawing.draw()\n",
        "\n",
        "    # Save the drawing to a file\n",
        "    drawing.save(\"drawing.txt\")\n",
        "    print(\"\\nDrawing saved to 'drawing.txt'.\")\n",
        "\n",
        "    # Load the drawing from the file\n",
        "    loaded_drawing = RasterDrawing.load(\"drawing.txt\")\n",
        "    print(\"\\nLoaded Drawing:\")\n",
        "    loaded_drawing.draw()"
      ]
    },
    {
      "cell_type": "code",
      "execution_count": null,
      "metadata": {
        "id": "_gLBojLopCAV"
      },
      "outputs": [],
      "source": []
    }
  ],
  "metadata": {
    "kernelspec": {
      "display_name": "Python 3 (ipykernel)",
      "language": "python",
      "name": "python3"
    },
    "language_info": {
      "codemirror_mode": {
        "name": "ipython",
        "version": 3
      },
      "file_extension": ".py",
      "mimetype": "text/x-python",
      "name": "python",
      "nbconvert_exporter": "python",
      "pygments_lexer": "ipython3",
      "version": "3.9.6"
    },
    "colab": {
      "provenance": [],
      "include_colab_link": true
    }
  },
  "nbformat": 4,
  "nbformat_minor": 0
}