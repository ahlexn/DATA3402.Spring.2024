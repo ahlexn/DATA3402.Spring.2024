{
  "cells": [
    {
      "cell_type": "markdown",
      "metadata": {
        "id": "m0N8rpqEsNX8"
      },
      "source": [
        "# Lab 5\n"
      ]
    },
    {
      "cell_type": "markdown",
      "metadata": {
        "id": "ELO1SycssNX9"
      },
      "source": [
        "Matrix Representation: In this lab you will be creating a simple linear algebra system. In memory, we will represent matrices as nested python lists as we have done in lecture.\n",
        "\n",
        "1. Create a `matrix` class with the following properties:\n",
        "    * It can be initialized in 2 ways:\n",
        "        1. with arguments `n` and `m`, the size of the matrix. A newly instanciated matrix will contain all zeros.\n",
        "        2. with a list of lists of values. Note that since we are using lists of lists to implement matrices, it is possible that not all rows have the same number of columns. Test explicitly that the matrix is properly specified.\n",
        "    * Matrix instances `M` can be indexed with `M[i][j]` and `M[i,j]`.\n",
        "    * Matrix assignment works in 2 ways:\n",
        "        1. If `M_1` and `M_2` are `matrix` instances `M_1=M_2` sets the values of `M_1` to those of `M_2`, if they are the same size. Error otherwise.\n",
        "        2. In example above `M_2` can be a list of lists of correct size.\n"
      ]
    },
    {
      "cell_type": "code",
      "source": [
        "class Matrix:\n",
        "    def __init__(self, *args):\n",
        "        if len(args) == 2 and isinstance(args[0], int) and isinstance(args[1], int):\n",
        "            #initialize with size (n x m)\n",
        "            self.rows = args[0]\n",
        "            self.cols = args[1]\n",
        "            self.data = [[0 for _ in range(self.cols)] for _ in range(self.rows)]\n",
        "        elif len(args) == 1 and isinstance(args[0], list):\n",
        "            #initialize from list of lists\n",
        "            data = args[0]\n",
        "            self.rows = len(data)\n",
        "            self.cols = len(data[0]) if data else 0\n",
        "            #check if all rows have the same number of columns\n",
        "            if any(len(row) != self.cols for row in data):\n",
        "                raise ValueError(\"Invalid matrix: Inconsistent row lengths\")\n",
        "            self.data = [row[:] for row in data]  # Create a copy of the matrix\n",
        "        else:\n",
        "            raise ValueError(\"Invalid arguments for matrix initialization\")\n",
        "\n",
        "    def __getitem__(self, key):\n",
        "        if isinstance(key, tuple):\n",
        "            i, j = key\n",
        "        else:\n",
        "            i = key[0]\n",
        "            j = key[1]\n",
        "        #check for valid index\n",
        "        if 0 <= i < self.rows and 0 <= j < self.cols:\n",
        "            return self.data[i][j]\n",
        "        else:\n",
        "            raise IndexError(\"Matrix index out of range\")\n",
        "\n",
        "    def __setitem__(self, key, value):\n",
        "        if isinstance(key, tuple):\n",
        "            i, j = key\n",
        "        else:\n",
        "            i = key[0]\n",
        "            j = key[1]\n",
        "        #check for valid index\n",
        "        if 0 <= i < self.rows and 0 <= j < self.cols:\n",
        "            self.data[i][j] = value\n",
        "        else:\n",
        "            raise IndexError(\"Matrix index out of range\")\n",
        "\n",
        "    def __eq__(self, other):\n",
        "        if not isinstance(other, Matrix):\n",
        "            return False\n",
        "        if self.rows != other.rows or self.cols != other.cols:\n",
        "            return False\n",
        "        return self.data == other.data\n",
        "\n",
        "    def __str__(self):\n",
        "        return '\\n'.join(' '.join(map(str, row)) for row in self.data)"
      ],
      "metadata": {
        "id": "T-WljZzcsPTk"
      },
      "execution_count": null,
      "outputs": []
    },
    {
      "cell_type": "code",
      "source": [
        "if __name__ == \"__main__\":\n",
        "    #test initialization with size (3 x 4)\n",
        "    M1 = Matrix(3, 4)\n",
        "    print(\"Matrix M1:\")\n",
        "    print(M1)\n",
        "\n",
        "    #test initialization from a list of lists\n",
        "    M2 = Matrix([[1, 2, 3], [4, 5, 6], [7, 8, 9]])\n",
        "    print(\"\\nMatrix M2:\")\n",
        "    print(M2)\n",
        "\n",
        "    #test indexing and assignment\n",
        "    print(\"\\nElement at (1, 2) in M2:\", M2[1, 2])\n",
        "    M2[1, 2] = 10  # Assign new value\n",
        "    print(\"\\nMatrix M2 after assignment:\")\n",
        "    print(M2)\n",
        "\n",
        "    #test matrix equality\n",
        "    M3 = Matrix([[1, 2], [3, 4]])\n",
        "    M4 = Matrix([[1, 2], [3, 4]])\n",
        "    print(\"\\nM3 == M4:\", M3 == M4)\n",
        "\n",
        "    #test invalid initialization\n",
        "    try:\n",
        "        M5 = Matrix([[1, 2], [3, 4], [5]])\n",
        "    except ValueError as e:\n",
        "        print(\"\\nError:\", e)"
      ],
      "metadata": {
        "id": "ZKWBMbZEsdOV",
        "outputId": "0bd0fbdd-3b99-413f-9122-ea4bad5f7ab3",
        "colab": {
          "base_uri": "https://localhost:8080/"
        }
      },
      "execution_count": null,
      "outputs": [
        {
          "output_type": "stream",
          "name": "stdout",
          "text": [
            "Matrix M1:\n",
            "0 0 0 0\n",
            "0 0 0 0\n",
            "0 0 0 0\n",
            "\n",
            "Matrix M2:\n",
            "1 2 3\n",
            "4 5 6\n",
            "7 8 9\n",
            "\n",
            "Element at (1, 2) in M2: 6\n",
            "\n",
            "Matrix M2 after assignment:\n",
            "1 2 3\n",
            "4 5 10\n",
            "7 8 9\n",
            "\n",
            "M3 == M4: True\n",
            "\n",
            "Error: Invalid matrix: Inconsistent row lengths\n"
          ]
        }
      ]
    },
    {
      "cell_type": "markdown",
      "metadata": {
        "id": "ry3_9_bdsNX9"
      },
      "source": [
        "2. Add the following methods:\n",
        "    * `shape()`: returns a tuple `(n,m)` of the shape of the matrix.\n",
        "    * `transpose()`: returns a new matrix instance which is the transpose of the matrix.\n",
        "    * `row(n)` and `column(n)`: that return the nth row or column of the matrix M as a new appropriately shaped matrix object.\n",
        "    * `to_list()`: which returns the matrix as a list of lists.\n",
        "    *  `block(n_0,n_1,m_0,m_1)` that returns a smaller matrix located at the n_0 to n_1 columns and m_0 to m_1 rows.\n",
        "    * (Extra credit) Modify `__getitem__` implemented above to support slicing.\n",
        "        "
      ]
    },
    {
      "cell_type": "code",
      "source": [
        "class Matrix:\n",
        "    def __init__(self, *args):\n",
        "        if len(args) == 2 and isinstance(args[0], int) and isinstance(args[1], int):\n",
        "            # Initialize with size (n x m) filled with zeros\n",
        "            self.rows = args[0]\n",
        "            self.cols = args[1]\n",
        "            self.data = [[0 for _ in range(self.cols)] for _ in range(self.rows)]\n",
        "        elif len(args) == 1 and isinstance(args[0], list):\n",
        "            # Initialize from a list of lists\n",
        "            data = args[0]\n",
        "            self.rows = len(data)\n",
        "            self.cols = len(data[0]) if data else 0\n",
        "            # Check if all rows have the same number of columns\n",
        "            if any(len(row) != self.cols for row in data):\n",
        "                raise ValueError(\"Invalid matrix: Inconsistent row lengths\")\n",
        "            self.data = [row[:] for row in data]\n",
        "        else:\n",
        "            raise ValueError(\"Invalid arguments for matrix initialization\")\n",
        "\n",
        "    def shape(self):\n",
        "        \"\"\"Returns a tuple (n, m) of the shape of the matrix.\"\"\"\n",
        "        return (self.rows, self.cols)\n",
        "\n",
        "    def transpose(self):\n",
        "        \"\"\"Returns a new matrix instance which is the transpose of the matrix.\"\"\"\n",
        "        return Matrix([[self.data[j][i] for j in range(self.rows)] for i in range(self.cols)])\n",
        "\n",
        "    def row(self, n):\n",
        "        \"\"\"Returns the nth row of the matrix as a new matrix object.\"\"\"\n",
        "        if 0 <= n < self.rows:\n",
        "            return Matrix([self.data[n]])\n",
        "        else:\n",
        "            raise IndexError(\"Row index out of range\")\n",
        "\n",
        "    def column(self, n):\n",
        "        \"\"\"Returns the nth column of the matrix as a new matrix object.\"\"\"\n",
        "        if 0 <= n < self.cols:\n",
        "            return Matrix([[self.data[i][n]] for i in range(self.rows)])\n",
        "        else:\n",
        "            raise IndexError(\"Column index out of range\")\n",
        "\n",
        "    def to_list(self):\n",
        "        \"\"\"Returns the matrix as a list of lists.\"\"\"\n",
        "        return self.data\n",
        "\n",
        "    def block(self, n_0, n_1, m_0, m_1):\n",
        "        \"\"\"Returns a smaller matrix located at the n_0 to n_1 columns and m_0 to m_1 rows.\"\"\"\n",
        "        if 0 <= n_0 <= n_1 < self.cols and 0 <= m_0 <= m_1 < self.rows:\n",
        "            return Matrix([[self.data[i][j] for j in range(n_0, n_1 + 1)] for i in range(m_0, m_1 + 1)])\n",
        "        else:\n",
        "            raise IndexError(\"Block indices out of range\")\n",
        "\n",
        "    def __str__(self):\n",
        "        \"\"\"Returns a string representation of the matrix.\"\"\"\n",
        "        return '\\n'.join(' '.join(str(val) for val in row) for row in self.data)"
      ],
      "metadata": {
        "id": "f8--oVyYtXxN"
      },
      "execution_count": null,
      "outputs": []
    },
    {
      "cell_type": "markdown",
      "metadata": {
        "id": "qBigzxzrsNX-"
      },
      "source": [
        "3. Write functions that create special matrices (note these are standalone functions, not member functions of your `matrix` class):\n",
        "    * `constant(n,m,c)`: returns a `n` by `m` matrix filled with floats of value `c`.\n",
        "    * `zeros(n,m)` and `ones(n,m)`: return `n` by `m` matrices filled with floats of value `0` and `1`, respectively.\n",
        "    * `eye(n)`: returns the n by n identity matrix."
      ]
    },
    {
      "cell_type": "code",
      "source": [
        "def constant(n, m, c):\n",
        "    \"\"\"Returns an n by m matrix filled with floats of value c.\"\"\"\n",
        "    return [[c] * m for _ in range(n)]\n",
        "\n",
        "def zeros(n, m):\n",
        "    \"\"\"Returns an n by m matrix filled with floats of value 0.\"\"\"\n",
        "    return [[0.0] * m for _ in range(n)]\n",
        "\n",
        "def ones(n, m):\n",
        "    \"\"\"Returns an n by m matrix filled with floats of value 1.\"\"\"\n",
        "    return [[1.0] * m for _ in range(n)]\n",
        "\n",
        "def eye(n):\n",
        "    \"\"\"Returns the n by n identity matrix.\"\"\"\n",
        "    return [[1.0 if i == j else 0.0 for j in range(n)] for i in range(n)]\n"
      ],
      "metadata": {
        "id": "R5gvqjpQxRb9"
      },
      "execution_count": null,
      "outputs": []
    },
    {
      "cell_type": "code",
      "source": [
        "#test code\n",
        "print(\"Constant matrix:\")\n",
        "print(constant(2, 3, 5.0))\n",
        "\n",
        "print(\"Zeros matrix:\")\n",
        "print(zeros(2, 3))\n",
        "\n",
        "print(\"Ones matrix:\")\n",
        "print(ones(2, 3))\n",
        "\n",
        "print(\"Identity matrix:\")\n",
        "print(eye(3))"
      ],
      "metadata": {
        "id": "AND5bdY6xUl3",
        "outputId": "b1d2b77f-046a-480b-d466-df734993b942",
        "colab": {
          "base_uri": "https://localhost:8080/"
        }
      },
      "execution_count": null,
      "outputs": [
        {
          "output_type": "stream",
          "name": "stdout",
          "text": [
            "Constant matrix:\n",
            "[[5.0, 5.0, 5.0], [5.0, 5.0, 5.0]]\n",
            "Zeros matrix:\n",
            "[[0.0, 0.0, 0.0], [0.0, 0.0, 0.0]]\n",
            "Ones matrix:\n",
            "[[1.0, 1.0, 1.0], [1.0, 1.0, 1.0]]\n",
            "Identity matrix:\n",
            "[[1.0, 0.0, 0.0], [0.0, 1.0, 0.0], [0.0, 0.0, 1.0]]\n"
          ]
        }
      ]
    },
    {
      "cell_type": "markdown",
      "metadata": {
        "id": "UwNnJ5FQsNX-"
      },
      "source": [
        "4. Add the following member functions to your class. Make sure to appropriately test the dimensions of the matrices to make sure the operations are correct.\n",
        "    * `M.scalarmul(c)`: a matrix that is scalar product $cM$, where every element of $M$ is multiplied by $c$.\n",
        "    * `M.add(N)`: adds two matrices $M$ and $N$. Don’t forget to test that the sizes of the matrices are compatible for this and all other operations.\n",
        "    * `M.sub(N)`: subtracts two matrices $M$ and $N$.\n",
        "    * `M.mat_mult(N)`: returns a matrix that is the matrix product of two matrices $M$ and $N$.\n",
        "    * `M.element_mult(N)`: returns a matrix that is the element-wise product of two matrices $M$ and $N$.\n",
        "    * `M.equals(N)`: returns true/false if $M==N$."
      ]
    },
    {
      "cell_type": "code",
      "source": [
        "class Matrix:\n",
        "    def __init__(self, *args):\n",
        "        if len(args) == 2 and isinstance(args[0], int) and isinstance(args[1], int):\n",
        "            # Initialize with size (n x m) filled with zeros\n",
        "            self.rows = args[0]\n",
        "            self.cols = args[1]\n",
        "            self.data = [[0 for _ in range(self.cols)] for _ in range(self.rows)]\n",
        "        elif len(args) == 1 and isinstance(args[0], list):\n",
        "            # Initialize from a list of lists\n",
        "            data = args[0]\n",
        "            self.rows = len(data)\n",
        "            self.cols = len(data[0]) if data else 0\n",
        "            # Check if all rows have the same number of columns\n",
        "            if any(len(row) != self.cols for row in data):\n",
        "                raise ValueError(\"Invalid matrix: Inconsistent row lengths\")\n",
        "            self.data = [row[:] for row in data]\n",
        "        else:\n",
        "            raise ValueError(\"Invalid arguments for matrix initialization\")\n",
        "\n",
        "    def shape(self):\n",
        "        \"\"\"Returns a tuple (n, m) of the shape of the matrix.\"\"\"\n",
        "        return (self.rows, self.cols)\n",
        "\n",
        "    def transpose(self):\n",
        "        \"\"\"Returns a new matrix instance which is the transpose of the matrix.\"\"\"\n",
        "        return Matrix([[self.data[j][i] for j in range(self.rows)] for i in range(self.cols)])\n",
        "\n",
        "    def row(self, n):\n",
        "        \"\"\"Returns the nth row of the matrix as a new matrix object.\"\"\"\n",
        "        if 0 <= n < self.rows:\n",
        "            return Matrix([self.data[n]])\n",
        "        else:\n",
        "            raise IndexError(\"Row index out of range\")\n",
        "\n",
        "    def column(self, n):\n",
        "        \"\"\"Returns the nth column of the matrix as a new matrix object.\"\"\"\n",
        "        if 0 <= n < self.cols:\n",
        "            return Matrix([[self.data[i][n]] for i in range(self.rows)])\n",
        "        else:\n",
        "            raise IndexError(\"Column index out of range\")\n",
        "\n",
        "    def to_list(self):\n",
        "        \"\"\"Returns the matrix as a list of lists.\"\"\"\n",
        "        return self.data\n",
        "\n",
        "    def block(self, n_0, n_1, m_0, m_1):\n",
        "        \"\"\"Returns a smaller matrix located at the n_0 to n_1 columns and m_0 to m_1 rows.\"\"\"\n",
        "        if 0 <= n_0 <= n_1 < self.cols and 0 <= m_0 <= m_1 < self.rows:\n",
        "            return Matrix([[self.data[i][j] for j in range(n_0, n_1 + 1)] for i in range(m_0, m_1 + 1)])\n",
        "        else:\n",
        "            raise IndexError(\"Block indices out of range\")\n",
        "\n",
        "    def scalar_mul(self, c):\n",
        "        \"\"\"Returns a new matrix which is the scalar product c*M.\"\"\"\n",
        "        return Matrix([[c * self.data[i][j] for j in range(self.cols)] for i in range(self.rows)])\n",
        "\n",
        "    def add(self, N):\n",
        "        \"\"\"Adds two matrices M and N.\"\"\"\n",
        "        if self.rows != N.rows or self.cols != N.cols:\n",
        "            raise ValueError(\"Matrix dimensions are not compatible for addition.\")\n",
        "        return Matrix([[self.data[i][j] + N.data[i][j] for j in range(self.cols)] for i in range(self.rows)])\n",
        "\n",
        "    def sub(self, N):\n",
        "        \"\"\"Subtracts matrix N from matrix M.\"\"\"\n",
        "        if self.rows != N.rows or self.cols != N.cols:\n",
        "            raise ValueError(\"Matrix dimensions are not compatible for subtraction.\")\n",
        "        return Matrix([[self.data[i][j] - N.data[i][j] for j in range(self.cols)] for i in range(self.rows)])\n",
        "\n",
        "    def mat_mult(self, N):\n",
        "        \"\"\"Returns the matrix product of two matrices M and N.\"\"\"\n",
        "        if self.cols != N.rows:\n",
        "            raise ValueError(\"Matrix dimensions are not compatible for matrix multiplication.\")\n",
        "        result_rows = self.rows\n",
        "        result_cols = N.cols\n",
        "        result_data = [[sum(self.data[i][k] * N.data[k][j] for k in range(self.cols)) for j in range(result_cols)] for i in range(result_rows)]\n",
        "        return Matrix(result_data)\n",
        "\n",
        "    def element_mult(self, N):\n",
        "        \"\"\"Returns the element-wise product of two matrices M and N.\"\"\"\n",
        "        if self.rows != N.rows or self.cols != N.cols:\n",
        "            raise ValueError(\"Matrix dimensions are not compatible for element-wise multiplication.\")\n",
        "        return Matrix([[self.data[i][j] * N.data[i][j] for j in range(self.cols)] for i in range(self.rows)])\n",
        "\n",
        "    def equals(self, N):\n",
        "        \"\"\"Returns True if matrix M is equal to matrix N, otherwise False.\"\"\"\n",
        "        if self.rows != N.rows or self.cols != N.cols:\n",
        "            return False\n",
        "        return all(self.data[i][j] == N.data[i][j] for i in range(self.rows) for j in range(self.cols))\n",
        "\n",
        "    def __str__(self):\n",
        "        \"\"\"Returns a string representation of the matrix.\"\"\"\n",
        "        return '\\n'.join(' '.join(str(val) for val in row) for row in self.data)\n"
      ],
      "metadata": {
        "id": "06cgd0uMxo30"
      },
      "execution_count": null,
      "outputs": []
    },
    {
      "cell_type": "code",
      "source": [
        "#test code\n",
        "M = Matrix([[1, 2, 3], [4, 5, 6]])\n",
        "N = Matrix([[7, 8, 9], [10, 11, 12]])\n",
        "\n",
        "#test scalar multiplication\n",
        "print(\"Scalar Multiplication:\")\n",
        "print(M.scalar_mul(2))\n",
        "\n",
        "#test matrix addition\n",
        "print(\"Matrix Addition:\")\n",
        "print(M.add(N))\n",
        "\n",
        "#test matrix subtraction\n",
        "print(\"Matrix Subtraction:\")\n",
        "print(M.sub(N))\n",
        "\n",
        "#test matrix multiplication\n",
        "P = Matrix([[1, 2], [3, 4], [5, 6]])\n",
        "Q = Matrix([[7, 8, 9], [10, 11, 12]])\n",
        "print(\"Matrix Multiplication:\")\n",
        "print(P.mat_mult(Q))\n",
        "\n",
        "#tst element-wise multiplication\n",
        "print(\"Element-wise Multiplication:\")\n",
        "print(M.element_mult(N))\n",
        "\n",
        "#test matrix equality\n",
        "print(\"Matrix Equality:\")\n",
        "print(M.equals(M))\n",
        "print(M.equals(N))"
      ],
      "metadata": {
        "id": "SpqQGYu9xqme",
        "outputId": "3169aec4-322d-4f96-e08d-9efc2b08622b",
        "colab": {
          "base_uri": "https://localhost:8080/"
        }
      },
      "execution_count": null,
      "outputs": [
        {
          "output_type": "stream",
          "name": "stdout",
          "text": [
            "Scalar Multiplication:\n",
            "2 4 6\n",
            "8 10 12\n",
            "Matrix Addition:\n",
            "8 10 12\n",
            "14 16 18\n",
            "Matrix Subtraction:\n",
            "-6 -6 -6\n",
            "-6 -6 -6\n",
            "Matrix Multiplication:\n",
            "27 30 33\n",
            "61 68 75\n",
            "95 106 117\n",
            "Element-wise Multiplication:\n",
            "7 16 27\n",
            "40 55 72\n",
            "Matrix Equality:\n",
            "True\n",
            "False\n"
          ]
        }
      ]
    },
    {
      "cell_type": "markdown",
      "metadata": {
        "id": "-KopFcN3sNX-"
      },
      "source": [
        "5. Overload python operators to appropriately use your functions in 4 and allow expressions like:\n",
        "    * 2*M\n",
        "    * M*2\n",
        "    * M+N\n",
        "    * M-N\n",
        "    * M*N\n",
        "    * M==N\n",
        "    * M=N\n"
      ]
    },
    {
      "cell_type": "code",
      "source": [
        "#cant do in current version of python as said in class"
      ],
      "metadata": {
        "id": "pfK5qYPox1nU"
      },
      "execution_count": null,
      "outputs": []
    },
    {
      "cell_type": "markdown",
      "metadata": {
        "id": "L8TmCCLlsNX-"
      },
      "source": [
        "6. Demonstrate the basic properties of matrices with your matrix class by creating two 2 by 2 example matrices using your Matrix class and illustrating the following:\n",
        "\n",
        "$$\n",
        "(AB)C=A(BC)\n",
        "$$\n",
        "$$\n",
        "A(B+C)=AB+AC\n",
        "$$\n",
        "$$\n",
        "AB\\neq BA\n",
        "$$\n",
        "$$\n",
        "AI=A\n",
        "$$"
      ]
    },
    {
      "cell_type": "code",
      "execution_count": null,
      "metadata": {
        "id": "T_zsI81FsNX-"
      },
      "outputs": [],
      "source": [
        "class Matrix:\n",
        "    def __init__(self, *args):\n",
        "        if len(args) == 2 and isinstance(args[0], int) and isinstance(args[1], int):\n",
        "            # Initialize with size (n x m) filled with zeros\n",
        "            self.rows = args[0]\n",
        "            self.cols = args[1]\n",
        "            self.data = [[0 for _ in range(self.cols)] for _ in range(self.rows)]\n",
        "        elif len(args) == 1 and isinstance(args[0], list):\n",
        "            # Initialize from a list of lists\n",
        "            data = args[0]\n",
        "            self.rows = len(data)\n",
        "            self.cols = len(data[0]) if data else 0\n",
        "            # Check if all rows have the same number of columns\n",
        "            if any(len(row) != self.cols for row in data):\n",
        "                raise ValueError(\"Invalid matrix: Inconsistent row lengths\")\n",
        "            self.data = [row[:] for row in data]\n",
        "        else:\n",
        "            raise ValueError(\"Invalid arguments for matrix initialization\")\n",
        "\n",
        "    def shape(self):\n",
        "        \"\"\"Returns a tuple (n, m) of the shape of the matrix.\"\"\"\n",
        "        return (self.rows, self.cols)\n",
        "\n",
        "    def transpose(self):\n",
        "        \"\"\"Returns a new matrix instance which is the transpose of the matrix.\"\"\"\n",
        "        return Matrix([[self.data[j][i] for j in range(self.rows)] for i in range(self.cols)])\n",
        "\n",
        "    def row(self, n):\n",
        "        \"\"\"Returns the nth row of the matrix as a new matrix object.\"\"\"\n",
        "        if 0 <= n < self.rows:\n",
        "            return Matrix([self.data[n]])\n",
        "        else:\n",
        "            raise IndexError(\"Row index out of range\")\n",
        "\n",
        "    def column(self, n):\n",
        "        \"\"\"Returns the nth column of the matrix as a new matrix object.\"\"\"\n",
        "        if 0 <= n < self.cols:\n",
        "            return Matrix([[self.data[i][n]] for i in range(self.rows)])\n",
        "        else:\n",
        "            raise IndexError(\"Column index out of range\")\n",
        "\n",
        "    def to_list(self):\n",
        "        \"\"\"Returns the matrix as a list of lists.\"\"\"\n",
        "        return self.data\n",
        "\n",
        "    def block(self, n_0, n_1, m_0, m_1):\n",
        "        \"\"\"Returns a smaller matrix located at the n_0 to n_1 columns and m_0 to m_1 rows.\"\"\"\n",
        "        if 0 <= n_0 <= n_1 < self.cols and 0 <= m_0 <= m_1 < self.rows:\n",
        "            return Matrix([[self.data[i][j] for j in range(n_0, n_1 + 1)] for i in range(m_0, m_1 + 1)])\n",
        "        else:\n",
        "            raise IndexError(\"Block indices out of range\")\n",
        "\n",
        "    def scalar_mul(self, c):\n",
        "        \"\"\"Returns a new matrix which is the scalar product c*M.\"\"\"\n",
        "        return Matrix([[c * self.data[i][j] for j in range(self.cols)] for i in range(self.rows)])\n",
        "\n",
        "    def add(self, N):\n",
        "        \"\"\"Adds two matrices M and N.\"\"\"\n",
        "        if self.rows != N.rows or self.cols != N.cols:\n",
        "            raise ValueError(\"Matrix dimensions are not compatible for addition.\")\n",
        "        return Matrix([[self.data[i][j] + N.data[i][j] for j in range(self.cols)] for i in range(self.rows)])\n",
        "\n",
        "    def sub(self, N):\n",
        "        \"\"\"Subtracts matrix N from matrix M.\"\"\"\n",
        "        if self.rows != N.rows or self.cols != N.cols:\n",
        "            raise ValueError(\"Matrix dimensions are not compatible for subtraction.\")\n",
        "        return Matrix([[self.data[i][j] - N.data[i][j] for j in range(self.cols)] for i in range(self.rows)])\n",
        "\n",
        "    def mat_mult(self, N):\n",
        "        \"\"\"Returns the matrix product of two matrices M and N.\"\"\"\n",
        "        if self.cols != N.rows:\n",
        "            raise ValueError(\"Matrix dimensions are not compatible for matrix multiplication.\")\n",
        "        result_rows = self.rows\n",
        "        result_cols = N.cols\n",
        "        result_data = [[sum(self.data[i][k] * N.data[k][j] for k in range(self.cols)) for j in range(result_cols)] for i in range(result_rows)]\n",
        "        return Matrix(result_data)\n",
        "\n",
        "    def element_mult(self, N):\n",
        "        \"\"\"Returns the element-wise product of two matrices M and N.\"\"\"\n",
        "        if self.rows != N.rows or self.cols != N.cols:\n",
        "            raise ValueError(\"Matrix dimensions are not compatible for element-wise multiplication.\")\n",
        "        return Matrix([[self.data[i][j] * N.data[i][j] for j in range(self.cols)] for i in range(self.rows)])\n",
        "\n",
        "    def equals(self, N):\n",
        "        \"\"\"Returns True if matrix M is equal to matrix N, otherwise False.\"\"\"\n",
        "        if self.rows != N.rows or self.cols != N.cols:\n",
        "            return False\n",
        "        return all(self.data[i][j] == N.data[i][j] for i in range(self.rows) for j in range(self.cols))\n",
        "\n",
        "    def __str__(self):\n",
        "        \"\"\"Returns a string representation of the matrix.\"\"\"\n",
        "        return '\\n'.join(' '.join(str(val) for val in row) for row in self.data)"
      ]
    },
    {
      "cell_type": "code",
      "source": [
        "#test\n",
        "A = Matrix([[1, 2], [3, 4]])\n",
        "B = Matrix([[5, 6], [7, 8]])\n",
        "C = Matrix([[9, 10], [11, 12]])\n",
        "\n",
        "#associativity of matrix multiplication\n",
        "result1 = A.mat_mult(B).mat_mult(C)\n",
        "result2 = A.mat_mult(B.mat_mult(C))\n",
        "print(\"(AB)C = A(BC) is\", result1.equals(result2))"
      ],
      "metadata": {
        "id": "4dLoXXc1yKrp",
        "outputId": "ae42be61-4545-41c4-cd2a-33e8c8c60222",
        "colab": {
          "base_uri": "https://localhost:8080/"
        }
      },
      "execution_count": null,
      "outputs": [
        {
          "output_type": "stream",
          "name": "stdout",
          "text": [
            "(AB)C = A(BC) is True\n"
          ]
        }
      ]
    },
    {
      "cell_type": "code",
      "source": [],
      "metadata": {
        "id": "vZEpqlrNyQTU"
      },
      "execution_count": null,
      "outputs": []
    }
  ],
  "metadata": {
    "kernelspec": {
      "display_name": "Python 3 (ipykernel)",
      "language": "python",
      "name": "python3"
    },
    "language_info": {
      "codemirror_mode": {
        "name": "ipython",
        "version": 3
      },
      "file_extension": ".py",
      "mimetype": "text/x-python",
      "name": "python",
      "nbconvert_exporter": "python",
      "pygments_lexer": "ipython3",
      "version": "3.9.6"
    },
    "colab": {
      "provenance": []
    }
  },
  "nbformat": 4,
  "nbformat_minor": 0
}