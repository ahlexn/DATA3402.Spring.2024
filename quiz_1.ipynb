{
  "nbformat": 4,
  "nbformat_minor": 0,
  "metadata": {
    "colab": {
      "provenance": [],
      "authorship_tag": "ABX9TyNghX60Y5KwRwVG9iYOvtKR",
      "include_colab_link": true
    },
    "kernelspec": {
      "name": "python3",
      "display_name": "Python 3"
    },
    "language_info": {
      "name": "python"
    }
  },
  "cells": [
    {
      "cell_type": "markdown",
      "metadata": {
        "id": "view-in-github",
        "colab_type": "text"
      },
      "source": [
        "<a href=\"https://colab.research.google.com/github/ahlexn/DATA3402.Spring.2024/blob/main/quiz_1.ipynb\" target=\"_parent\"><img src=\"https://colab.research.google.com/assets/colab-badge.svg\" alt=\"Open In Colab\"/></a>"
      ]
    },
    {
      "cell_type": "code",
      "execution_count": null,
      "metadata": {
        "id": "zBQPnVLXDhmR"
      },
      "outputs": [],
      "source": [
        "#Quiz 1\n",
        "#Can you rewrite create_new_args as a two lines of code using functional programming, list comprehensions, and shortcuts? How about a single line?"
      ]
    },
    {
      "cell_type": "code",
      "source": [
        "def create_new_args_0(args):\n",
        "    max_len = max(map(len,\n",
        "                      filter(lambda x: isinstance(x,list),\n",
        "                        args)))\n",
        "\n",
        "    # Rewrite this section:\n",
        "    new_args=list()\n",
        "\n",
        "    for a in args:\n",
        "        if not isinstance(a,list):\n",
        "            a0=[a]*max_len\n",
        "        elif len(a)!=max_len:\n",
        "            print(\"Error: all list arguments must have same length.\")\n",
        "            return\n",
        "        else:\n",
        "            a0=a\n",
        "        new_args.append(a0)\n",
        "\n",
        "    return new_args"
      ],
      "metadata": {
        "id": "fn6ZuOBADlfX"
      },
      "execution_count": 1,
      "outputs": []
    },
    {
      "cell_type": "code",
      "source": [
        "create_new_args_0([[1,2],[3,4],5])"
      ],
      "metadata": {
        "colab": {
          "base_uri": "https://localhost:8080/"
        },
        "id": "6j0InlApDnjy",
        "outputId": "d0ea903e-542a-4ddd-b5f2-332a49f0dfb2"
      },
      "execution_count": 2,
      "outputs": [
        {
          "output_type": "execute_result",
          "data": {
            "text/plain": [
              "[[1, 2], [3, 4], [5, 5]]"
            ]
          },
          "metadata": {},
          "execution_count": 2
        }
      ]
    },
    {
      "cell_type": "code",
      "source": [],
      "metadata": {
        "id": "vRQqmnWiDptM"
      },
      "execution_count": null,
      "outputs": []
    }
  ]
}